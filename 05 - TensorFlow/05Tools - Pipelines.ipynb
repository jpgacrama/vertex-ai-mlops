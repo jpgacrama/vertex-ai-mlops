{
 "cells": [
  {
   "cell_type": "markdown",
   "id": "e805aabb-f990-47a9-86a7-94001d48358a",
   "metadata": {},
   "source": [
    "# Vertex AI > Pipelines - Retrain All 05a through 05i\n",
    "## IN ACTIVE DEVELOPMENT - NOT COMPLETE\n",
    "\n",
    "In each of the notebooks `05a` through `05j` methods of using Vertex AI > Training were demonstrated.  In this notebook a Vertex AI > Pipeline job will be created that runs a retraining of all of these methods in a single pipeline.  This will showcase a combination of custom pipeline components and pre-built component for Vertex AI.\n",
    "\n",
    "\n",
    "Introduction: https://cloud.google.com/vertex-ai/docs/pipelines/components-introduction\n",
    "Component List: https://cloud.google.com/vertex-ai/docs/pipelines/gcpc-list\n",
    "SDK Reference: https://google-cloud-pipeline-components.readthedocs.io/en/google-cloud-pipeline-components-1.0.18/\n",
    "- [google_cloud_pipeline_components.aiplatform.CustomContainerTrainingJobRunOp](https://google-cloud-pipeline-components.readthedocs.io/en/google-cloud-pipeline-components-1.0.18/google_cloud_pipeline_components.aiplatform.html#google_cloud_pipeline_components.aiplatform.CustomContainerTrainingJobRunOp)\n",
    "- [google_cloud_pipeline_components.aiplatform.CustomPythonPackageTrainingJobRunOp](https://google-cloud-pipeline-components.readthedocs.io/en/google-cloud-pipeline-components-1.0.18/google_cloud_pipeline_components.aiplatform.html#google_cloud_pipeline_components.aiplatform.CustomPythonPackageTrainingJobRunOp)\n",
    "- [google_cloud_pipeline_components.experimental.custom_job](https://google-cloud-pipeline-components.readthedocs.io/en/google-cloud-pipeline-components-1.0.18/google_cloud_pipeline_components.experimental.custom_job.html)\n",
    "- [google_cloud_pipeline_components.experimental.hyperparameter_tuning_job.*](https://google-cloud-pipeline-components.readthedocs.io/en/google-cloud-pipeline-components-1.0.18/google_cloud_pipeline_components.experimental.hyperparameter_tuning_job.html)\n",
    "- [google_cloud_pipeline_components.v1.custom_job.*](https://google-cloud-pipeline-components.readthedocs.io/en/google-cloud-pipeline-components-1.0.18/google_cloud_pipeline_components.v1.custom_job.html#module-google_cloud_pipeline_components.v1.custom_job)\n",
    "- [google_cloud_pipeline_components.v1.hyperparameter_tuning_job](https://google-cloud-pipeline-components.readthedocs.io/en/google-cloud-pipeline-components-1.0.18/google_cloud_pipeline_components.v1.hyperparameter_tuning_job.html#module-google_cloud_pipeline_components.v1.hyperparameter_tuning_job)\n",
    "\n",
    "Idea is to\n",
    "- create a component for each of 05a - 05i\n",
    "    - component should run and create new version of model\n",
    "- gather metrics from all and pick best from run\n",
    "- deploy best to exisitng endpoint\n",
    "\n",
    "### Conceptual Flow & Workflow\n",
    "<p align=\"center\">\n",
    "  <img alt=\"Conceptual Flow\" src=\"../architectures/slides/05tools_pipe_arch.png\" width=\"45%\">\n",
    "&nbsp; &nbsp; &nbsp; &nbsp;\n",
    "  <img alt=\"Workflow\" src=\"../architectures/slides/05tools_pipe_console.png\" width=\"45%\">\n",
    "</p>"
   ]
  },
  {
   "cell_type": "code",
   "execution_count": null,
   "id": "7fcc8645-bb35-4841-8f9a-58b005e88c72",
   "metadata": {},
   "outputs": [],
   "source": []
  }
 ],
 "metadata": {
  "environment": {
   "kernel": "python3",
   "name": "tf2-gpu.2-3.m94",
   "type": "gcloud",
   "uri": "gcr.io/deeplearning-platform-release/tf2-gpu.2-3:m94"
  },
  "kernelspec": {
   "display_name": "Python 3",
   "language": "python",
   "name": "python3"
  },
  "language_info": {
   "codemirror_mode": {
    "name": "ipython",
    "version": 3
   },
   "file_extension": ".py",
   "mimetype": "text/x-python",
   "name": "python",
   "nbconvert_exporter": "python",
   "pygments_lexer": "ipython3",
   "version": "3.7.12"
  }
 },
 "nbformat": 4,
 "nbformat_minor": 5
}
