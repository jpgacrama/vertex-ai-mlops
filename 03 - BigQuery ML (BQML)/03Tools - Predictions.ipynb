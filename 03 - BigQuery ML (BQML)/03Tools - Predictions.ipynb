{
 "cells": [
  {
   "cell_type": "markdown",
   "id": "ffc0d1a3",
   "metadata": {},
   "source": [
    "# 03Tools - Predictions\n",
    "\n",
    ">**Note:** Formerly named `03b - Vertex AI + BQML - Online Predictions with BQML Models.ipynb`.  This [link](https://github.com/statmike/vertex-ai-mlops/blob/fd442b458c710a0a7afdc41bae690d2a3282e93c/03b%20-%20Vertex%20AI%20%2B%20BQML%20-%20Online%20Predictions%20with%20BQML%20Models.ipynb) goes to the previous version featured in the video.\n",
    "\n",
    "Models built with BigQuery ML (BQML), like the one in `03a`, can also be exported for use and deployment outside of BigQuery.  Registering the model in Vertex AI Model Registry makes it easy to use with Vertex AI Endpoints for online predictions and with Vertex AI Batch Predictions Jobs.  The model also remains in BigQuery for further use like batch prediction directly with `ML.PREDICT` as shown previously in `03a` through `03f`.\n",
    "\n",
    "**Video Walkthrough of this notebook:**\n",
    "\n",
    "Includes conversational walkthrough and more explanatory information than the notebook:\n",
    "\n",
    "<p align=\"center\" width=\"100%\"><center><a href=\"https://youtu.be/7y_t_bW0LHQ\" target=\"_blank\" rel=\"noopener noreferrer\"><img src=\"../architectures/thumbnails/playbutton/03tools_pred.png\" width=\"40%\"></a></center></p>\n",
    "\n",
    "Notes Since Video:\n",
    "- updated notebook on 9/8/2022 to:\n",
    "    - exporting and registering the model in Vertex AI Model Registry is now part of the model training notebookss `03a` through `03f`\n",
    "    - reworked this example to work with any BQML export: TensorFlow or XGBoost\n",
    "    - switch to raw prediction clients to allow specification of signature for TensorFlow models\n",
    "\n",
    "\n",
    "**Prerequisites:**\n",
    "-  03a - BQML Logistic Regression\n",
    "\n",
    "**Resources:**\n",
    "-  [Export formats for BigQuery ML models](https://cloud.google.com/bigquery-ml/docs/exporting-models)\n",
    "-  [Python Client for Vertex AI](https://googleapis.dev/python/aiplatform/latest/aiplatform.html)\n",
    "\n",
    "**Conceptual Flow & Workflow**\n",
    "<p align=\"center\">\n",
    "  <img alt=\"Conceptual Flow\" src=\"../architectures/slides/03tools_pred_arch.png\" width=\"45%\">\n",
    "&nbsp; &nbsp; &nbsp; &nbsp;\n",
    "  <img alt=\"Workflow\" src=\"../architectures/slides/03tools_pred_console.png\" width=\"45%\">\n",
    "</p>"
   ]
  },
  {
   "cell_type": "markdown",
   "id": "613afac5",
   "metadata": {},
   "source": [
    "---\n",
    "## Setup"
   ]
  },
  {
   "cell_type": "markdown",
   "id": "dc5e27bc",
   "metadata": {},
   "source": [
    "inputs:"
   ]
  },
  {
   "cell_type": "code",
   "execution_count": 1,
   "id": "3e4e35ef-b874-408c-9d1d-8028b169ffb2",
   "metadata": {},
   "outputs": [
    {
     "data": {
      "text/plain": [
       "'google.com:cbo-mnl'"
      ]
     },
     "execution_count": 1,
     "metadata": {},
     "output_type": "execute_result"
    }
   ],
   "source": [
    "project = !gcloud config get-value project\n",
    "PROJECT_ID = project[0]\n",
    "PROJECT_ID"
   ]
  },
  {
   "cell_type": "code",
   "execution_count": 2,
   "id": "ad6661f2",
   "metadata": {},
   "outputs": [],
   "source": [
    "REGION = 'us-central1'\n",
    "EXPERIMENT = '03b' # pick the 03 series model you want to use\n",
    "SERIES = '03'\n",
    "\n",
    "# Replace model on endpoint with the one for this experiment?\n",
    "REPLACE_MODEL = False\n",
    "\n",
    "# source data\n",
    "BQ_PROJECT = PROJECT_ID\n",
    "BQ_DATASET = 'fraud'\n",
    "BQ_TABLE = 'fraud_prepped'\n",
    "BQ_MODEL = f'{EXPERIMENT}_{BQ_DATASET}'\n",
    "\n",
    "# Resources for serving BigQuery Model Exports\n",
    "DEPLOY_COMPUTE = 'n1-standard-4'\n",
    "\n",
    "# Model Training\n",
    "VAR_TARGET = 'Class'\n",
    "VAR_OMIT = 'transaction_id' # add more variables to the string with space delimiters"
   ]
  },
  {
   "cell_type": "markdown",
   "id": "48f186ab-4bd3-4f88-b22b-2bfb5a9d9f71",
   "metadata": {},
   "source": [
    ">**Notes For Resources**\n",
    "This series uses BigQuery ML (BQML) models.  Depending on the model type the export file match the underlying framework (TensorFlow, XGBoost, ...).  These export formats are [specified here](https://cloud.google.com/bigquery-ml/docs/exporting-models).<p>When registering the model in the Vertex AI Model Registry a URI for a serving container is specified.  Pre-built serving containers are available for frameworks and version as [specified here](https://cloud.google.com/vertex-ai/docs/predictions/pre-built-containers).</p>"
   ]
  },
  {
   "cell_type": "markdown",
   "id": "cf050841",
   "metadata": {},
   "source": [
    "packages:"
   ]
  },
  {
   "cell_type": "code",
   "execution_count": 3,
   "id": "a91d32df",
   "metadata": {},
   "outputs": [],
   "source": [
    "from google.cloud import aiplatform\n",
    "from datetime import datetime\n",
    "\n",
    "from google.cloud import bigquery\n",
    "from google.protobuf import json_format\n",
    "from google.protobuf.struct_pb2 import Value\n",
    "import json\n",
    "import numpy as np"
   ]
  },
  {
   "cell_type": "markdown",
   "id": "b2686afc",
   "metadata": {},
   "source": [
    "clients:"
   ]
  },
  {
   "cell_type": "code",
   "execution_count": 4,
   "id": "2d1777a5",
   "metadata": {},
   "outputs": [],
   "source": [
    "aiplatform.init(project=PROJECT_ID, location=REGION)\n",
    "bq = bigquery.Client()"
   ]
  },
  {
   "cell_type": "markdown",
   "id": "6d6a7643",
   "metadata": {},
   "source": [
    "parameters:"
   ]
  },
  {
   "cell_type": "code",
   "execution_count": 5,
   "id": "d3ba70ba",
   "metadata": {},
   "outputs": [],
   "source": [
    "DIR = f\"temp/{EXPERIMENT}\""
   ]
  },
  {
   "cell_type": "markdown",
   "id": "cb02dbd6",
   "metadata": {},
   "source": [
    "environment:"
   ]
  },
  {
   "cell_type": "code",
   "execution_count": 6,
   "id": "cc2f1b43",
   "metadata": {},
   "outputs": [],
   "source": [
    "!rm -rf {DIR}\n",
    "!mkdir -p {DIR}"
   ]
  },
  {
   "cell_type": "markdown",
   "id": "0a19ae22",
   "metadata": {},
   "source": [
    "---\n",
    "## Serving With Vertex AI Endpoints"
   ]
  },
  {
   "cell_type": "markdown",
   "id": "f16fec89-165e-4647-9e4d-b0e4e303171b",
   "metadata": {},
   "source": [
    "### Retrieve The Model From Vertex AI Model Registry\n",
    "In each of the model training technique notebooks `03a` through `03f` the final model training in BigQuery ML (BQML) was exported and registered in the Vertex AI Model Registry.  The first step here is retrieving the model resource representation:"
   ]
  },
  {
   "cell_type": "code",
   "execution_count": 7,
   "id": "f083c76a-16d3-4ea0-825a-87cd7b0899dc",
   "metadata": {},
   "outputs": [],
   "source": [
    "model = aiplatform.Model(model_name = f'model_{EXPERIMENT}_{BQ_DATASET}@default')"
   ]
  },
  {
   "cell_type": "code",
   "execution_count": 8,
   "id": "dd4d906c-8f9b-42c4-b18c-421534534be6",
   "metadata": {},
   "outputs": [
    {
     "data": {
      "text/plain": [
       "'03b_fraud'"
      ]
     },
     "execution_count": 8,
     "metadata": {},
     "output_type": "execute_result"
    }
   ],
   "source": [
    "model.display_name"
   ]
  },
  {
   "cell_type": "code",
   "execution_count": 9,
   "id": "febb6a71-31d1-4a17-8c77-794eaa239c5f",
   "metadata": {},
   "outputs": [
    {
     "data": {
      "text/plain": [
       "'projects/169853841455/locations/us-central1/models/model_03b_fraud'"
      ]
     },
     "execution_count": 9,
     "metadata": {},
     "output_type": "execute_result"
    }
   ],
   "source": [
    "model.resource_name"
   ]
  },
  {
   "cell_type": "code",
   "execution_count": 10,
   "id": "62ab1e28-6b17-45fb-96d6-e3872cfb67cd",
   "metadata": {},
   "outputs": [
    {
     "data": {
      "text/plain": [
       "'projects/169853841455/locations/us-central1/models/model_03b_fraud@1'"
      ]
     },
     "execution_count": 10,
     "metadata": {},
     "output_type": "execute_result"
    }
   ],
   "source": [
    "model.versioned_resource_name"
   ]
  },
  {
   "cell_type": "code",
   "execution_count": 11,
   "id": "c0a6842d-6429-4ce4-a8c8-48bd4fc14456",
   "metadata": {},
   "outputs": [
    {
     "data": {
      "text/plain": [
       "['run-20220929061623', 'default']"
      ]
     },
     "execution_count": 11,
     "metadata": {},
     "output_type": "execute_result"
    }
   ],
   "source": [
    "model.version_aliases"
   ]
  },
  {
   "cell_type": "code",
   "execution_count": 12,
   "id": "35ff9d6a-85d9-42c8-90f9-227f008d81c6",
   "metadata": {},
   "outputs": [
    {
     "data": {
      "text/plain": [
       "{'series': '03',\n",
       " 'timestamp': '20220929061623',\n",
       " 'run_name': 'run-20220929061623',\n",
       " 'framework': 'xgboost',\n",
       " 'experiment': '03b'}"
      ]
     },
     "execution_count": 12,
     "metadata": {},
     "output_type": "execute_result"
    }
   ],
   "source": [
    "model.labels"
   ]
  },
  {
   "cell_type": "code",
   "execution_count": 13,
   "id": "7f12edc1-f20c-4353-8301-d12a4a6e97a7",
   "metadata": {},
   "outputs": [
    {
     "data": {
      "text/plain": [
       "'gs://jonas-ai-experiment/fraud/models/03/03b/20220929061623/model'"
      ]
     },
     "execution_count": 13,
     "metadata": {},
     "output_type": "execute_result"
    }
   ],
   "source": [
    "model.uri"
   ]
  },
  {
   "cell_type": "markdown",
   "id": "034f0c19",
   "metadata": {},
   "source": [
    "### Create An Endpoint\n",
    "References:\n",
    "- Python SDK for [`aiplatform.Endpoint`](https://googleapis.dev/python/aiplatform/latest/aiplatform/services.html#google.cloud.aiplatform.Endpoint)\n",
    "- Python Client for [`aiplatform.Endpoint`](https://cloud.google.com/python/docs/reference/aiplatform/latest/google.cloud.aiplatform.Endpoint)"
   ]
  },
  {
   "cell_type": "code",
   "execution_count": 14,
   "id": "1632f221-11fd-4597-957e-48ec345c4feb",
   "metadata": {},
   "outputs": [
    {
     "name": "stdout",
     "output_type": "stream",
     "text": [
      "Creating Endpoint\n",
      "Create Endpoint backing LRO: projects/169853841455/locations/us-central1/endpoints/2680209126285377536/operations/933224031811796992\n",
      "Endpoint created. Resource name: projects/169853841455/locations/us-central1/endpoints/2680209126285377536\n",
      "To use this Endpoint in another session:\n",
      "endpoint = aiplatform.Endpoint('projects/169853841455/locations/us-central1/endpoints/2680209126285377536')\n",
      "Endpoint Created: projects/169853841455/locations/us-central1/endpoints/2680209126285377536\n"
     ]
    }
   ],
   "source": [
    "endpoints = aiplatform.Endpoint.list(filter = f\"labels.series={SERIES}\")\n",
    "if endpoints:\n",
    "    endpoint = endpoints[0]\n",
    "    print(f\"Endpoint Exists: {endpoints[0].resource_name}\")\n",
    "else:\n",
    "    endpoint = aiplatform.Endpoint.create(\n",
    "        display_name = f\"{SERIES}_{BQ_DATASET}\",\n",
    "        labels = {'series' : f\"{SERIES}\"}    \n",
    "    )\n",
    "    print(f\"Endpoint Created: {endpoint.resource_name}\")"
   ]
  },
  {
   "cell_type": "code",
   "execution_count": 15,
   "id": "91fb2bba-7cc9-48a3-a7b8-efef4cbd98bb",
   "metadata": {},
   "outputs": [
    {
     "data": {
      "text/plain": [
       "'03_fraud'"
      ]
     },
     "execution_count": 15,
     "metadata": {},
     "output_type": "execute_result"
    }
   ],
   "source": [
    "endpoint.display_name"
   ]
  },
  {
   "cell_type": "code",
   "execution_count": 16,
   "id": "6b6aa89e-52c5-4f6a-9545-e15df3a85e7f",
   "metadata": {},
   "outputs": [
    {
     "data": {
      "text/plain": [
       "{}"
      ]
     },
     "execution_count": 16,
     "metadata": {},
     "output_type": "execute_result"
    }
   ],
   "source": [
    "endpoint.traffic_split"
   ]
  },
  {
   "cell_type": "code",
   "execution_count": 17,
   "id": "93224b2d",
   "metadata": {},
   "outputs": [
    {
     "data": {
      "text/plain": [
       "[]"
      ]
     },
     "execution_count": 17,
     "metadata": {},
     "output_type": "execute_result"
    }
   ],
   "source": [
    "deployed_models = endpoint.list_models()\n",
    "deployed_models"
   ]
  },
  {
   "cell_type": "code",
   "execution_count": 18,
   "id": "d7a78e0c-8da3-4601-904f-9d1eeae13852",
   "metadata": {},
   "outputs": [
    {
     "name": "stdout",
     "output_type": "stream",
     "text": [
      "View the endpoint in the Vertex AI Console:\n",
      "https://console.cloud.google.com/vertex-ai/locations/us-central1/endpoints/2680209126285377536?project=google.com:cbo-mnl\n"
     ]
    }
   ],
   "source": [
    "print(f\"View the endpoint in the Vertex AI Console:\\nhttps://console.cloud.google.com/vertex-ai/locations/{REGION}/endpoints/{endpoint.resource_name.split('/')[-1]}?project={PROJECT_ID}\")"
   ]
  },
  {
   "cell_type": "markdown",
   "id": "9158992e",
   "metadata": {},
   "source": [
    "### Deploy Model To Endpoint"
   ]
  },
  {
   "cell_type": "code",
   "execution_count": null,
   "id": "040707a6",
   "metadata": {},
   "outputs": [
    {
     "name": "stdout",
     "output_type": "stream",
     "text": [
      "Deploying Model projects/169853841455/locations/us-central1/models/model_03b_fraud to Endpoint : projects/169853841455/locations/us-central1/endpoints/2680209126285377536\n",
      "Deploy Endpoint model backing LRO: projects/169853841455/locations/us-central1/endpoints/2680209126285377536/operations/1582305328106569728\n"
     ]
    }
   ],
   "source": [
    "if REPLACE_MODEL or len(deployed_models) == 0:\n",
    "    endpoint.deploy(\n",
    "        model = model,\n",
    "        deployed_model_display_name = model.display_name,\n",
    "        traffic_percentage = 100,\n",
    "        machine_type = DEPLOY_COMPUTE,\n",
    "        min_replica_count = 1,\n",
    "        max_replica_count = 1\n",
    "    )"
   ]
  },
  {
   "cell_type": "markdown",
   "id": "53380809-4e54-4e55-b8cb-78b204496a76",
   "metadata": {},
   "source": [
    "### Remove Deployed Models without Traffic"
   ]
  },
  {
   "cell_type": "code",
   "execution_count": 28,
   "id": "6945f51a-0c06-4760-bbfe-f2b9d1e7d38b",
   "metadata": {},
   "outputs": [
    {
     "name": "stdout",
     "output_type": "stream",
     "text": [
      "Model 03b_fraud with version 1 has traffic = 100\n"
     ]
    }
   ],
   "source": [
    "for deployed_model in endpoint.list_models():\n",
    "    if deployed_model.id in endpoint.traffic_split:\n",
    "        print(f\"Model {deployed_model.display_name} with version {deployed_model.model_version_id} has traffic = {endpoint.traffic_split[deployed_model.id]}\")\n",
    "    else:\n",
    "        endpoint.undeploy(deployed_model_id = deployed_model.id)\n",
    "        print(f\"Undeploying {deployed_model.display_name} with version {deployed_model.model_version_id} because it has no traffic.\")"
   ]
  },
  {
   "cell_type": "code",
   "execution_count": 29,
   "id": "d90c6900-de81-4fcd-af0b-ba6b3925724d",
   "metadata": {},
   "outputs": [
    {
     "data": {
      "text/plain": [
       "{'7641152814252556288': 100}"
      ]
     },
     "execution_count": 29,
     "metadata": {},
     "output_type": "execute_result"
    }
   ],
   "source": [
    "endpoint.traffic_split"
   ]
  },
  {
   "cell_type": "code",
   "execution_count": 30,
   "id": "14cbf4a3-9e32-4158-a9ee-0cfca92e8574",
   "metadata": {},
   "outputs": [
    {
     "data": {
      "text/plain": [
       "[id: \"7641152814252556288\"\n",
       " model: \"projects/169853841455/locations/us-central1/models/model_03b_fraud\"\n",
       " display_name: \"03b_fraud\"\n",
       " create_time {\n",
       "   seconds: 1664446486\n",
       "   nanos: 124743000\n",
       " }\n",
       " dedicated_resources {\n",
       "   machine_spec {\n",
       "     machine_type: \"n1-standard-4\"\n",
       "   }\n",
       "   min_replica_count: 1\n",
       "   max_replica_count: 1\n",
       " }\n",
       " model_version_id: \"1\"]"
      ]
     },
     "execution_count": 30,
     "metadata": {},
     "output_type": "execute_result"
    }
   ],
   "source": [
    "endpoint.list_models()"
   ]
  },
  {
   "cell_type": "markdown",
   "id": "cac30e36-504e-416d-a027-52693272498f",
   "metadata": {},
   "source": [
    "### Retrieve The Deployed Model\n",
    "This gets used later to determine the framework used in order to shape the instances for prediction correctly."
   ]
  },
  {
   "cell_type": "code",
   "execution_count": 31,
   "id": "9d6a5d85-e76d-4b80-932a-2649e9b1704b",
   "metadata": {},
   "outputs": [],
   "source": [
    "model = aiplatform.Model(model_name = f'{endpoint.list_models()[0].model}@{endpoint.list_models()[0].model_version_id}')"
   ]
  },
  {
   "cell_type": "code",
   "execution_count": 32,
   "id": "c20a2f17-eff8-44d2-82b0-0ccfd01ff856",
   "metadata": {},
   "outputs": [
    {
     "data": {
      "text/plain": [
       "'gs://jonas-ai-experiment/fraud/models/03/03b/20220929061623/model'"
      ]
     },
     "execution_count": 32,
     "metadata": {},
     "output_type": "execute_result"
    }
   ],
   "source": [
    "model.uri"
   ]
  },
  {
   "cell_type": "markdown",
   "id": "087da7cc",
   "metadata": {},
   "source": [
    "---\n",
    "## Prediction"
   ]
  },
  {
   "cell_type": "markdown",
   "id": "46bc4c06",
   "metadata": {},
   "source": [
    "### Retrieve Records For Prediction"
   ]
  },
  {
   "cell_type": "code",
   "execution_count": 52,
   "id": "b8f349ad",
   "metadata": {},
   "outputs": [],
   "source": [
    "n = 10\n",
    "pred = bq.query(query = f\"SELECT * FROM {BQ_DATASET}.{BQ_TABLE} WHERE splits='TEST' and CLASS=1 LIMIT {n}\").to_dataframe()"
   ]
  },
  {
   "cell_type": "code",
   "execution_count": 53,
   "id": "8ed5d125",
   "metadata": {},
   "outputs": [
    {
     "data": {
      "text/html": [
       "<div>\n",
       "<style scoped>\n",
       "    .dataframe tbody tr th:only-of-type {\n",
       "        vertical-align: middle;\n",
       "    }\n",
       "\n",
       "    .dataframe tbody tr th {\n",
       "        vertical-align: top;\n",
       "    }\n",
       "\n",
       "    .dataframe thead th {\n",
       "        text-align: right;\n",
       "    }\n",
       "</style>\n",
       "<table border=\"1\" class=\"dataframe\">\n",
       "  <thead>\n",
       "    <tr style=\"text-align: right;\">\n",
       "      <th></th>\n",
       "      <th>Time</th>\n",
       "      <th>V1</th>\n",
       "      <th>V2</th>\n",
       "      <th>V3</th>\n",
       "      <th>V4</th>\n",
       "      <th>V5</th>\n",
       "      <th>V6</th>\n",
       "      <th>V7</th>\n",
       "      <th>V8</th>\n",
       "      <th>V9</th>\n",
       "      <th>...</th>\n",
       "      <th>V23</th>\n",
       "      <th>V24</th>\n",
       "      <th>V25</th>\n",
       "      <th>V26</th>\n",
       "      <th>V27</th>\n",
       "      <th>V28</th>\n",
       "      <th>Amount</th>\n",
       "      <th>Class</th>\n",
       "      <th>transaction_id</th>\n",
       "      <th>splits</th>\n",
       "    </tr>\n",
       "  </thead>\n",
       "  <tbody>\n",
       "    <tr>\n",
       "      <th>0</th>\n",
       "      <td>85285</td>\n",
       "      <td>-7.030308</td>\n",
       "      <td>3.421991</td>\n",
       "      <td>-9.525072</td>\n",
       "      <td>5.270891</td>\n",
       "      <td>-4.024630</td>\n",
       "      <td>-2.865682</td>\n",
       "      <td>-6.989195</td>\n",
       "      <td>3.791551</td>\n",
       "      <td>-4.622730</td>\n",
       "      <td>...</td>\n",
       "      <td>0.036943</td>\n",
       "      <td>-0.355519</td>\n",
       "      <td>0.353634</td>\n",
       "      <td>1.042458</td>\n",
       "      <td>1.359516</td>\n",
       "      <td>-0.272188</td>\n",
       "      <td>0.0</td>\n",
       "      <td>1</td>\n",
       "      <td>b506c850-fd39-4d94-82ef-dde2d9bf443d</td>\n",
       "      <td>TEST</td>\n",
       "    </tr>\n",
       "    <tr>\n",
       "      <th>1</th>\n",
       "      <td>165981</td>\n",
       "      <td>-5.766879</td>\n",
       "      <td>-8.402154</td>\n",
       "      <td>0.056543</td>\n",
       "      <td>6.950983</td>\n",
       "      <td>9.880564</td>\n",
       "      <td>-5.773192</td>\n",
       "      <td>-5.748879</td>\n",
       "      <td>0.721743</td>\n",
       "      <td>-1.076274</td>\n",
       "      <td>...</td>\n",
       "      <td>2.241471</td>\n",
       "      <td>0.665346</td>\n",
       "      <td>-1.890041</td>\n",
       "      <td>-0.120803</td>\n",
       "      <td>0.073269</td>\n",
       "      <td>0.583799</td>\n",
       "      <td>0.0</td>\n",
       "      <td>1</td>\n",
       "      <td>99fc6a30-d542-4ae5-a4dd-47f09c097502</td>\n",
       "      <td>TEST</td>\n",
       "    </tr>\n",
       "    <tr>\n",
       "      <th>2</th>\n",
       "      <td>126219</td>\n",
       "      <td>-1.141559</td>\n",
       "      <td>1.927650</td>\n",
       "      <td>-3.905356</td>\n",
       "      <td>-0.073943</td>\n",
       "      <td>-0.044858</td>\n",
       "      <td>-1.756999</td>\n",
       "      <td>-1.217416</td>\n",
       "      <td>0.364563</td>\n",
       "      <td>-2.770148</td>\n",
       "      <td>...</td>\n",
       "      <td>-0.328741</td>\n",
       "      <td>0.393100</td>\n",
       "      <td>0.568435</td>\n",
       "      <td>0.786605</td>\n",
       "      <td>-0.146102</td>\n",
       "      <td>0.076211</td>\n",
       "      <td>25.0</td>\n",
       "      <td>1</td>\n",
       "      <td>09fee55d-f791-4134-baf6-c260d575a2de</td>\n",
       "      <td>TEST</td>\n",
       "    </tr>\n",
       "    <tr>\n",
       "      <th>3</th>\n",
       "      <td>40662</td>\n",
       "      <td>-4.446847</td>\n",
       "      <td>-0.014793</td>\n",
       "      <td>-5.126307</td>\n",
       "      <td>6.945130</td>\n",
       "      <td>5.269255</td>\n",
       "      <td>-4.297177</td>\n",
       "      <td>-2.591242</td>\n",
       "      <td>0.342671</td>\n",
       "      <td>-3.880663</td>\n",
       "      <td>...</td>\n",
       "      <td>-0.226017</td>\n",
       "      <td>-0.401236</td>\n",
       "      <td>0.856124</td>\n",
       "      <td>0.661272</td>\n",
       "      <td>0.492560</td>\n",
       "      <td>0.971834</td>\n",
       "      <td>1.0</td>\n",
       "      <td>1</td>\n",
       "      <td>2744f6a8-6caf-45f9-b4ab-b4f84da3f50f</td>\n",
       "      <td>TEST</td>\n",
       "    </tr>\n",
       "    <tr>\n",
       "      <th>4</th>\n",
       "      <td>68207</td>\n",
       "      <td>-13.192671</td>\n",
       "      <td>12.785971</td>\n",
       "      <td>-9.906650</td>\n",
       "      <td>3.320337</td>\n",
       "      <td>-4.801176</td>\n",
       "      <td>5.760059</td>\n",
       "      <td>-18.750889</td>\n",
       "      <td>-37.353443</td>\n",
       "      <td>-0.391540</td>\n",
       "      <td>...</td>\n",
       "      <td>5.303607</td>\n",
       "      <td>-0.639435</td>\n",
       "      <td>0.263203</td>\n",
       "      <td>-0.108877</td>\n",
       "      <td>1.269566</td>\n",
       "      <td>0.939407</td>\n",
       "      <td>1.0</td>\n",
       "      <td>1</td>\n",
       "      <td>26968001-1e83-4720-835e-3b5a39fb5194</td>\n",
       "      <td>TEST</td>\n",
       "    </tr>\n",
       "  </tbody>\n",
       "</table>\n",
       "<p>5 rows × 33 columns</p>\n",
       "</div>"
      ],
      "text/plain": [
       "     Time         V1         V2        V3        V4        V5        V6  \\\n",
       "0   85285  -7.030308   3.421991 -9.525072  5.270891 -4.024630 -2.865682   \n",
       "1  165981  -5.766879  -8.402154  0.056543  6.950983  9.880564 -5.773192   \n",
       "2  126219  -1.141559   1.927650 -3.905356 -0.073943 -0.044858 -1.756999   \n",
       "3   40662  -4.446847  -0.014793 -5.126307  6.945130  5.269255 -4.297177   \n",
       "4   68207 -13.192671  12.785971 -9.906650  3.320337 -4.801176  5.760059   \n",
       "\n",
       "          V7         V8        V9  ...       V23       V24       V25  \\\n",
       "0  -6.989195   3.791551 -4.622730  ...  0.036943 -0.355519  0.353634   \n",
       "1  -5.748879   0.721743 -1.076274  ...  2.241471  0.665346 -1.890041   \n",
       "2  -1.217416   0.364563 -2.770148  ... -0.328741  0.393100  0.568435   \n",
       "3  -2.591242   0.342671 -3.880663  ... -0.226017 -0.401236  0.856124   \n",
       "4 -18.750889 -37.353443 -0.391540  ...  5.303607 -0.639435  0.263203   \n",
       "\n",
       "        V26       V27       V28  Amount  Class  \\\n",
       "0  1.042458  1.359516 -0.272188     0.0      1   \n",
       "1 -0.120803  0.073269  0.583799     0.0      1   \n",
       "2  0.786605 -0.146102  0.076211    25.0      1   \n",
       "3  0.661272  0.492560  0.971834     1.0      1   \n",
       "4 -0.108877  1.269566  0.939407     1.0      1   \n",
       "\n",
       "                         transaction_id  splits  \n",
       "0  b506c850-fd39-4d94-82ef-dde2d9bf443d    TEST  \n",
       "1  99fc6a30-d542-4ae5-a4dd-47f09c097502    TEST  \n",
       "2  09fee55d-f791-4134-baf6-c260d575a2de    TEST  \n",
       "3  2744f6a8-6caf-45f9-b4ab-b4f84da3f50f    TEST  \n",
       "4  26968001-1e83-4720-835e-3b5a39fb5194    TEST  \n",
       "\n",
       "[5 rows x 33 columns]"
      ]
     },
     "execution_count": 53,
     "metadata": {},
     "output_type": "execute_result"
    }
   ],
   "source": [
    "pred.head()"
   ]
  },
  {
   "cell_type": "markdown",
   "id": "6c2c8c33-3d5f-418f-bdc1-898cdbff0f27",
   "metadata": {},
   "source": [
    "Shape as instances: dictionaries of key:value pairs for only features used in model"
   ]
  },
  {
   "cell_type": "code",
   "execution_count": 36,
   "id": "20dd66e1",
   "metadata": {},
   "outputs": [],
   "source": [
    "newobs = pred[pred.columns[~pred.columns.isin(VAR_OMIT.split()+[VAR_TARGET,'splits'])]].to_dict(orient='records')\n",
    "#newobs[0]"
   ]
  },
  {
   "cell_type": "code",
   "execution_count": 37,
   "id": "e05d068b-f56e-4bac-ba3a-4fc072c1019d",
   "metadata": {},
   "outputs": [
    {
     "data": {
      "text/plain": [
       "10"
      ]
     },
     "execution_count": 37,
     "metadata": {},
     "output_type": "execute_result"
    }
   ],
   "source": [
    "len(newobs)"
   ]
  },
  {
   "cell_type": "code",
   "execution_count": 38,
   "id": "4598c856-3e17-400f-bdd8-f7f774b3b120",
   "metadata": {},
   "outputs": [
    {
     "data": {
      "text/plain": [
       "{'Time': 5043,\n",
       " 'V1': -0.610352895751295,\n",
       " 'V2': 0.8762678436336991,\n",
       " 'V3': 3.13457187529889,\n",
       " 'V4': 2.26016851428487,\n",
       " 'V5': 0.00118499266188011,\n",
       " 'V6': 0.268439122726156,\n",
       " 'V7': 0.12709401840541,\n",
       " 'V8': -0.0086801339830761,\n",
       " 'V9': 0.95280234430319,\n",
       " 'V10': -0.144996781876633,\n",
       " 'V11': -0.18135310744176503,\n",
       " 'V12': -3.07117304114555,\n",
       " 'V13': 1.00476719678711,\n",
       " 'V14': 0.841752604462658,\n",
       " 'V15': -1.14101969201816,\n",
       " 'V16': 0.397014218420624,\n",
       " 'V17': 0.290108744949502,\n",
       " 'V18': 0.303356168060438,\n",
       " 'V19': -0.8192219202785891,\n",
       " 'V20': -0.0553143112003825,\n",
       " 'V21': -0.20228040102074302,\n",
       " 'V22': -0.122893247243976,\n",
       " 'V23': -0.18313204469056302,\n",
       " 'V24': 0.295979318446426,\n",
       " 'V25': -0.159988797716441,\n",
       " 'V26': -0.130196187091873,\n",
       " 'V27': -0.0761391830787327,\n",
       " 'V28': -0.10907594107838602,\n",
       " 'Amount': 0.0}"
      ]
     },
     "execution_count": 38,
     "metadata": {},
     "output_type": "execute_result"
    }
   ],
   "source": [
    "newobs[0]"
   ]
  },
  {
   "cell_type": "markdown",
   "id": "0282d99a-c94f-459a-92ff-22c4c616d453",
   "metadata": {},
   "source": [
    "### Get The Model Signature Name (if TensorFlow)"
   ]
  },
  {
   "cell_type": "code",
   "execution_count": 39,
   "id": "0219bfc4-c691-4362-bc28-0903a5988a52",
   "metadata": {},
   "outputs": [],
   "source": [
    "if model.labels['framework'] == 'tensorflow':\n",
    "    import tensorflow as tf\n",
    "    reloaded_model = tf.saved_model.load(model.uri)\n",
    "    print(list(reloaded_model.signatures.keys())[0])"
   ]
  },
  {
   "cell_type": "markdown",
   "id": "94a65fd6-f19a-4402-a9c5-454619476e2f",
   "metadata": {},
   "source": [
    "### Get The Feature Order (if XGBoost)"
   ]
  },
  {
   "cell_type": "code",
   "execution_count": 40,
   "id": "23fcec68-588b-472e-852a-669466cdf14a",
   "metadata": {},
   "outputs": [],
   "source": [
    "if model.labels['framework'] == 'xgboost':\n",
    "    import gcsfs\n",
    "    import tensorflow as tf\n",
    "    file = f'{model.uri}/assets/model_metadata.json'\n",
    "    if tf.io.gfile.exists(file):\n",
    "        gcs = gcsfs.GCSFileSystem(project = PROJECT_ID)\n",
    "        with gcs.open(file) as fp:\n",
    "            features = json.load(fp)['feature_names']\n",
    "    else:\n",
    "        features = list(newobs[0].keys())"
   ]
  },
  {
   "cell_type": "markdown",
   "id": "f0776881-a015-4885-a51f-2b93bb839466",
   "metadata": {},
   "source": [
    "### Prepare Instance For Prediction\n",
    "\n",
    "Depending on which framework the model is trained with the instance format may be different.  More information can be found [here](https://cloud.google.com/vertex-ai/docs/predictions/online-predictions-custom-models#request-body-details)."
   ]
  },
  {
   "cell_type": "markdown",
   "id": "b56c6ca2-658f-4fb8-9d18-c19101313f46",
   "metadata": {},
   "source": [
    "Instances:"
   ]
  },
  {
   "cell_type": "code",
   "execution_count": 54,
   "id": "3bb3c753-ee5f-41dc-bb55-77582eed45fa",
   "metadata": {},
   "outputs": [
    {
     "name": "stdout",
     "output_type": "stream",
     "text": [
      "{'experiment': '03b', 'framework': 'xgboost', 'series': '03', 'timestamp': '20220929061623', 'run_name': 'run-20220929061623'}\n"
     ]
    }
   ],
   "source": [
    "print(model.labels)"
   ]
  },
  {
   "cell_type": "code",
   "execution_count": 41,
   "id": "8f35c0a2-15d9-42b3-af4f-25420a7f439c",
   "metadata": {},
   "outputs": [],
   "source": [
    "from google.api import httpbody_pb2\n",
    "\n",
    "if model.labels['framework'] == 'tensorflow':\n",
    "    instances = {\"instances\": [newobs[0]], \"signature_name\": list(reloaded_model.signatures.keys())[0]}\n",
    "elif model.labels['framework'] == 'xgboost':\n",
    "    instances = {\"instances\": [[newobs[0][f] for f in features]]}\n",
    "http_body = httpbody_pb2.HttpBody(data = json.dumps(instances).encode(\"utf-8\"), content_type = \"application/json\")"
   ]
  },
  {
   "cell_type": "code",
   "execution_count": 42,
   "id": "14a16590-39d6-4e76-ac34-637e3105a4cd",
   "metadata": {},
   "outputs": [
    {
     "name": "stdout",
     "output_type": "stream",
     "text": [
      "{'instances': [[5043, -0.610352895751295, 0.8762678436336991, 3.13457187529889, 2.26016851428487, 0.00118499266188011, 0.268439122726156, 0.12709401840541, -0.0086801339830761, 0.95280234430319, -0.144996781876633, -0.18135310744176503, -3.07117304114555, 1.00476719678711, 0.841752604462658, -1.14101969201816, 0.397014218420624, 0.290108744949502, 0.303356168060438, -0.8192219202785891, -0.0553143112003825, -0.20228040102074302, -0.122893247243976, -0.18313204469056302, 0.295979318446426, -0.159988797716441, -0.130196187091873, -0.0761391830787327, -0.10907594107838602, 0.0]]}\n"
     ]
    }
   ],
   "source": [
    "print(instances)"
   ]
  },
  {
   "cell_type": "markdown",
   "id": "dfd7f4ef",
   "metadata": {},
   "source": [
    "### Get Predictions: Python Client\n",
    "\n",
    "Using Raw Prediction here. This is methods of export from BigQuery have different model signatures and raw prediction client for Vertex AI allow the signature to be include in the request."
   ]
  },
  {
   "cell_type": "markdown",
   "id": "4e2f5b50-90e2-4ef9-88b9-6bd1f3364510",
   "metadata": {},
   "source": [
    "Client:"
   ]
  },
  {
   "cell_type": "code",
   "execution_count": 43,
   "id": "ce2dea51-bf91-4ab3-9e4b-8b7983a93299",
   "metadata": {},
   "outputs": [],
   "source": [
    "client_options = {\"api_endpoint\": f\"{REGION}-aiplatform.googleapis.com\"}\n",
    "predictor = aiplatform.gapic.PredictionServiceClient(client_options = client_options)"
   ]
  },
  {
   "cell_type": "markdown",
   "id": "49d82c82-5e17-431f-89d1-551614b41925",
   "metadata": {},
   "source": [
    "Prediction:"
   ]
  },
  {
   "cell_type": "code",
   "execution_count": 58,
   "id": "f5a753b4-413d-4417-b5e7-23693895743f",
   "metadata": {},
   "outputs": [
    {
     "name": "stdout",
     "output_type": "stream",
     "text": [
      "Resource Name: projects/169853841455/locations/us-central1/endpoints/2680209126285377536\n",
      "\n",
      "HTTP Body: content_type: \"application/json\"\n",
      "data: \"{\\\"instances\\\": [[5043, -0.610352895751295, 0.8762678436336991, 3.13457187529889, 2.26016851428487, 0.00118499266188011, 0.268439122726156, 0.12709401840541, -0.0086801339830761, 0.95280234430319, -0.144996781876633, -0.18135310744176503, -3.07117304114555, 1.00476719678711, 0.841752604462658, -1.14101969201816, 0.397014218420624, 0.290108744949502, 0.303356168060438, -0.8192219202785891, -0.0553143112003825, -0.20228040102074302, -0.122893247243976, -0.18313204469056302, 0.295979318446426, -0.159988797716441, -0.130196187091873, -0.0761391830787327, -0.10907594107838602, 0.0]]}\"\n",
      "\n"
     ]
    }
   ],
   "source": [
    "print(f'Resource Name: {endpoint.resource_name}\\n')\n",
    "print(f'HTTP Body: {http_body}')"
   ]
  },
  {
   "cell_type": "code",
   "execution_count": 44,
   "id": "c6a86cc9-8524-407f-bbc3-b27fc9bd92ce",
   "metadata": {},
   "outputs": [
    {
     "data": {
      "text/plain": [
       "content_type: \"application/json\"\n",
       "data: \"{\\\"predictions\\\": [[0.09640675783157349, 0.9035932421684265]]}\""
      ]
     },
     "execution_count": 44,
     "metadata": {},
     "output_type": "execute_result"
    }
   ],
   "source": [
    "prediction = predictor.raw_predict(\n",
    "    endpoint = endpoint.resource_name,\n",
    "    http_body = http_body\n",
    ")\n",
    "prediction"
   ]
  },
  {
   "cell_type": "markdown",
   "id": "746485fe-f2ab-43f3-9c6a-92884f98dba0",
   "metadata": {},
   "source": [
    "Format raw prediction response using JSON:"
   ]
  },
  {
   "cell_type": "code",
   "execution_count": 45,
   "id": "0d8c6032-587a-41e6-bcfc-9084fed69528",
   "metadata": {},
   "outputs": [
    {
     "data": {
      "text/plain": [
       "{'predictions': [[0.09640675783157349, 0.9035932421684265]]}"
      ]
     },
     "execution_count": 45,
     "metadata": {},
     "output_type": "execute_result"
    }
   ],
   "source": [
    "prediction = json.loads(prediction.data)\n",
    "prediction"
   ]
  },
  {
   "cell_type": "markdown",
   "id": "5cec468a",
   "metadata": {},
   "source": [
    "### Get Predictions: REST"
   ]
  },
  {
   "cell_type": "markdown",
   "id": "f187ca31-d04e-40c0-8994-78952f8f475b",
   "metadata": {},
   "source": [
    "Prepare request:"
   ]
  },
  {
   "cell_type": "code",
   "execution_count": 46,
   "id": "eb32a338",
   "metadata": {},
   "outputs": [],
   "source": [
    "with open(f'{DIR}/request.json','w') as file:\n",
    "    file.write(json.dumps(instances))"
   ]
  },
  {
   "cell_type": "markdown",
   "id": "deac9f21-ad61-4058-8897-52d48a398a9b",
   "metadata": {},
   "source": [
    "Prediction:"
   ]
  },
  {
   "cell_type": "code",
   "execution_count": 61,
   "id": "f4006e2a",
   "metadata": {},
   "outputs": [
    {
     "data": {
      "text/plain": [
       "['{\"predictions\": [[0.09640675783157349, 0.9035932421684265]]}']"
      ]
     },
     "execution_count": 61,
     "metadata": {},
     "output_type": "execute_result"
    }
   ],
   "source": [
    "prediction = !curl -s POST \\\n",
    "-H \"Authorization: Bearer \"$(gcloud auth application-default print-access-token) \\\n",
    "-H \"Content-Type: application/json; charset=utf-8\" \\\n",
    "-d @{DIR}/request.json \\\n",
    "https://{REGION}-aiplatform.googleapis.com/v1/{endpoint.resource_name}:rawPredict\n",
    "\n",
    "prediction"
   ]
  },
  {
   "cell_type": "markdown",
   "id": "0ad971ba-29e5-4232-84bf-c40ad3872d8c",
   "metadata": {},
   "source": [
    "Format raw prediction response using JSON:"
   ]
  },
  {
   "cell_type": "code",
   "execution_count": 48,
   "id": "a5102a9a-a993-4c98-81bb-00af46ef988a",
   "metadata": {},
   "outputs": [
    {
     "data": {
      "text/plain": [
       "{'predictions': [[0.09640675783157349, 0.9035932421684265]]}"
      ]
     },
     "execution_count": 48,
     "metadata": {},
     "output_type": "execute_result"
    }
   ],
   "source": [
    "prediction = json.loads(''.join([p.strip() for p in prediction]))\n",
    "prediction"
   ]
  },
  {
   "cell_type": "markdown",
   "id": "4edee92e",
   "metadata": {},
   "source": [
    "### Get Predictions: gcloud (CLI)"
   ]
  },
  {
   "cell_type": "markdown",
   "id": "3f702a39-3e5f-41ac-a1c6-9437623c6440",
   "metadata": {},
   "source": [
    "Prepare request:"
   ]
  },
  {
   "cell_type": "code",
   "execution_count": 49,
   "id": "f37e8718-435d-43d9-9072-b1e0689cd52e",
   "metadata": {},
   "outputs": [],
   "source": [
    "with open(f'{DIR}/request.json','w') as file:\n",
    "    file.write(json.dumps(instances))"
   ]
  },
  {
   "cell_type": "markdown",
   "id": "896fd44b-50fb-4ad9-9206-c42f36ed9ea5",
   "metadata": {},
   "source": [
    "Prediction:"
   ]
  },
  {
   "cell_type": "code",
   "execution_count": 50,
   "id": "3d8649b2",
   "metadata": {},
   "outputs": [
    {
     "data": {
      "text/plain": [
       "['Using endpoint [https://us-central1-aiplatform.googleapis.com/]',\n",
       " '{',\n",
       " '  \"predictions\": [',\n",
       " '    [',\n",
       " '      0.09640675783157349,',\n",
       " '      0.9035932421684265',\n",
       " '    ]',\n",
       " '  ]',\n",
       " '}']"
      ]
     },
     "execution_count": 50,
     "metadata": {},
     "output_type": "execute_result"
    }
   ],
   "source": [
    "prediction = !gcloud beta ai endpoints raw-predict \\\n",
    "{endpoint.name.rsplit('/',1)[-1]} \\\n",
    "--region={REGION} --format=\"json\" --request=@{DIR}/request.json\n",
    "\n",
    "prediction"
   ]
  },
  {
   "cell_type": "markdown",
   "id": "97af40de-b527-4139-9b8c-ed2193b40e0c",
   "metadata": {},
   "source": [
    "Format raw prediction response using JSON:"
   ]
  },
  {
   "cell_type": "code",
   "execution_count": 51,
   "id": "ed938c3a-d9d4-4a1d-85e6-d7a5a20d6b16",
   "metadata": {},
   "outputs": [
    {
     "data": {
      "text/plain": [
       "{'predictions': [[0.09640675783157349, 0.9035932421684265]]}"
      ]
     },
     "execution_count": 51,
     "metadata": {},
     "output_type": "execute_result"
    }
   ],
   "source": [
    "prediction = json.loads(\"\".join(prediction[1:]))\n",
    "prediction"
   ]
  },
  {
   "cell_type": "markdown",
   "id": "cf9b632b",
   "metadata": {},
   "source": [
    "---\n",
    "## Remove Resources\n",
    "see notebook \"99 - Cleanup\""
   ]
  }
 ],
 "metadata": {
  "environment": {
   "kernel": "python3",
   "name": "tf2-gpu.2-9.m96",
   "type": "gcloud",
   "uri": "gcr.io/deeplearning-platform-release/tf2-gpu.2-9:m96"
  },
  "kernelspec": {
   "display_name": "Python 3",
   "language": "python",
   "name": "python3"
  },
  "language_info": {
   "codemirror_mode": {
    "name": "ipython",
    "version": 3
   },
   "file_extension": ".py",
   "mimetype": "text/x-python",
   "name": "python",
   "nbconvert_exporter": "python",
   "pygments_lexer": "ipython3",
   "version": "3.7.12"
  }
 },
 "nbformat": 4,
 "nbformat_minor": 5
}
