{
 "cells": [
  {
   "cell_type": "markdown",
   "id": "321668f5-f06b-4310-bdf5-9447243512fe",
   "metadata": {},
   "source": [
    "# 03f - Logistic Regression With Hyperparameter Tuning\n",
    "\n",
    "In this notebook, BigQuery ML (BQML) is used to create a logistic regression model while using hyperparameter tuning for `L1` and `L2` regularization.\n",
    "\n",
    "**Hyperparameter Tuning**\n",
    "\n",
    "When training a machine learning model it is helpful to find the optimal values for hyperparameters, parameters set before training begins.  These are not learned parameters like the coefficents of a model.  Rather than manually iterating these parameters we want to sequently test and focus in on optimal values.  The focusing part of the iterations is done in BQML by utilizing the [Vertex AI Vizier](https://cloud.google.com/vertex-ai/docs/vizier/overview) service by default.\n",
    "\n",
    "Each `MODEL_TYPE` in BQML has parameters than can be tuned as [listed here](https://cloud.google.com/bigquery-ml/docs/reference/standard-sql/bigqueryml-hyperparameter-tuning#hyperparameters_and_objectives).  \n",
    "\n",
    "**Prerequisites:**\n",
    "-  01 - BigQuery - Table Data Source\n",
    "\n",
    "**Resources:**\n",
    "-  [BigQuery ML (BQML) Overview](https://cloud.google.com/bigquery-ml/docs/introduction)\n",
    "-  [Overview of BQML methods and workflows](https://cloud.google.com/bigquery-ml/docs/reference/standard-sql/bigqueryml-syntax-e2e-journey)\n",
    "\n",
    "**Conceptual Flow & Workflow**\n",
    "<p align=\"center\">\n",
    "  <img alt=\"Conceptual Flow\" src=\"../architectures/slides/03f_arch.png\" width=\"45%\">\n",
    "&nbsp; &nbsp; &nbsp; &nbsp;\n",
    "  <img alt=\"Workflow\" src=\"../architectures/slides/03f_console.png\" width=\"45%\">\n",
    "</p>"
   ]
  },
  {
   "cell_type": "markdown",
   "id": "61821754-14fb-43bb-8e92-5b1208092793",
   "metadata": {},
   "source": [
    "---\n",
    "## Setup"
   ]
  },
  {
   "cell_type": "markdown",
   "id": "200e8e26-24fb-4abf-8ad3-fbd64cf15bca",
   "metadata": {},
   "source": [
    "inputs:"
   ]
  },
  {
   "cell_type": "code",
   "execution_count": 1,
   "id": "01299520-2cfb-4914-9d40-37b3ef5b1583",
   "metadata": {},
   "outputs": [
    {
     "data": {
      "text/plain": [
       "'statmike-mlops-349915'"
      ]
     },
     "execution_count": 1,
     "metadata": {},
     "output_type": "execute_result"
    }
   ],
   "source": [
    "project = !gcloud config get-value project\n",
    "PROJECT_ID = project[0]\n",
    "PROJECT_ID"
   ]
  },
  {
   "cell_type": "code",
   "execution_count": 2,
   "id": "d3a70664-bf97-4d09-a0be-72a99e81a6ca",
   "metadata": {},
   "outputs": [],
   "source": [
    "REGION = 'us-central1'\n",
    "EXPERIMENT = '03f'\n",
    "SERIES = '03'\n",
    "\n",
    "# source data\n",
    "BQ_PROJECT = PROJECT_ID\n",
    "BQ_DATASET = 'fraud'\n",
    "BQ_TABLE = 'fraud_prepped'\n",
    "\n",
    "# Resources for serving BigQuery Model Exports\n",
    "TF_DEPLOY_IMAGE = 'us-docker.pkg.dev/vertex-ai/prediction/tf2-cpu.2-3:latest'\n",
    "XGB_DEPLOY_IMAGE = 'us-docker.pkg.dev/vertex-ai/prediction/xgboost-cpu.0-82:latest'\n",
    "\n",
    "# Model Training\n",
    "VAR_TARGET = 'Class'\n",
    "VAR_OMIT = 'transaction_id' # add more variables to the string with space delimiters"
   ]
  },
  {
   "cell_type": "markdown",
   "id": "04587458-8f6f-4825-bc1f-8dc801106f82",
   "metadata": {},
   "source": [
    "packages:"
   ]
  },
  {
   "cell_type": "code",
   "execution_count": 3,
   "id": "cba82382-8338-4df9-8e5f-538cdca16f17",
   "metadata": {},
   "outputs": [],
   "source": [
    "from google.cloud import bigquery\n",
    "from google.cloud import aiplatform\n",
    "from datetime import datetime\n",
    "import matplotlib.pyplot as plt"
   ]
  },
  {
   "cell_type": "markdown",
   "id": "84c9a0f0-8d23-4ba5-848a-d0f403626c34",
   "metadata": {},
   "source": [
    "clients:"
   ]
  },
  {
   "cell_type": "code",
   "execution_count": 4,
   "id": "bc18cd29-8f17-4335-88d1-491cb4c3dbd3",
   "metadata": {},
   "outputs": [],
   "source": [
    "bq = bigquery.Client()\n",
    "aiplatform.init(project=PROJECT_ID, location=REGION)"
   ]
  },
  {
   "cell_type": "markdown",
   "id": "15bb57d0-53c3-455a-8e5f-dd787104f83c",
   "metadata": {},
   "source": [
    "parameters:"
   ]
  },
  {
   "cell_type": "code",
   "execution_count": 5,
   "id": "b32cc822-7823-4879-a623-f8e4bd0b2c82",
   "metadata": {},
   "outputs": [],
   "source": [
    "TIMESTAMP = datetime.now().strftime(\"%Y%m%d%H%M%S\")\n",
    "BUCKET = PROJECT_ID\n",
    "URI = f\"gs://{BUCKET}/{SERIES}/{EXPERIMENT}\"\n",
    "RUN_NAME = f'run-{TIMESTAMP}'\n",
    "\n",
    "BQ_MODEL = f'{SERIES}_{EXPERIMENT}_{TIMESTAMP}'"
   ]
  },
  {
   "cell_type": "markdown",
   "id": "f022d181-6238-432c-8f2d-e8d3ccc6c147",
   "metadata": {},
   "source": [
    "---\n",
    "## This Run"
   ]
  },
  {
   "cell_type": "code",
   "execution_count": 6,
   "id": "9e0d4b1e-543e-46a0-961e-b058966c0dbd",
   "metadata": {},
   "outputs": [
    {
     "name": "stdout",
     "output_type": "stream",
     "text": [
      "This run with create BQML model: statmike-mlops-349915.fraud.03_03f_20221003130014\n",
      "The Timestamp Is: 20221003130014\n"
     ]
    }
   ],
   "source": [
    "print(f'This run with create BQML model: {BQ_PROJECT}.{BQ_DATASET}.{BQ_MODEL}')\n",
    "print(f'The Timestamp Is: {TIMESTAMP}')"
   ]
  },
  {
   "cell_type": "markdown",
   "id": "fc257a93-a489-4af4-b498-9ef7115c767a",
   "metadata": {},
   "source": [
    "---\n",
    "## Train Model\n",
    "\n",
    "Use BigQuery ML to train multiclass logistic regression model:\n",
    "- [Logistic Regression](https://cloud.google.com/bigquery-ml/docs/reference/standard-sql/bigqueryml-syntax-create-glm) with BigQuery ML (BQML)\n",
    "- This uses the `splits` column that notebook `01` created\n",
    "- `data_split_method = CUSTOM` uses the column in `data_split_col` to assign `TRAIN`, `EVAL`, and `TEST` data splits.\n",
    "    - the `CASE` statement maps the validation data to `EVAL` as expected by hyperparameter tuning (rather than `VALIDATE`)\n",
    "    - note that this is different behavior for `data_split_col` with hyperparameter tuning than without hyperparameter tuning\n",
    "    - hyperparameter suggestions are based on the metric calculated with the evaluation data at each intermediate step\n",
    "\n",
    "**Hyperparameter Tuning**\n",
    "The [following options](https://cloud.google.com/bigquery-ml/docs/reference/standard-sql/bigqueryml-hyperparameter-tuning#create_model_syntax) are added to the model training code for BQML to guide the hyperparameter tuning of `L1` and `L2` regularization:\n",
    "\n",
    "```SQL\n",
    "l1_reg = HPARAM_RANGE(0, 1000),\n",
    "l2_reg = HPARAM_RANGE(0, 1000),\n",
    "hparam_tuning_algorithm = 'VIZIER_DEFAULT',\n",
    "hparam_tuning_objectives = ['ROC_AUC'],\n",
    "num_trials = 20,\n",
    "max_parallel_trials = 2\n",
    "```\n",
    "\n",
    "This instructs BQML to use the Vertex AI Vizier service to find values of `l1_reg` and `l2_reg` that optimize 'roc_auc' by doing 4 trials at a time until 20 trials have been completed.\n"
   ]
  },
  {
   "cell_type": "code",
   "execution_count": 7,
   "id": "1e42c159-4f68-465d-b612-8ea4b822a38a",
   "metadata": {},
   "outputs": [
    {
     "data": {
      "text/plain": [
       "<google.cloud.bigquery.table._EmptyRowIterator at 0x7f69545f7850>"
      ]
     },
     "execution_count": 7,
     "metadata": {},
     "output_type": "execute_result"
    }
   ],
   "source": [
    "query = f\"\"\"\n",
    "CREATE MODEL `{BQ_PROJECT}.{BQ_DATASET}.{BQ_MODEL}`\n",
    "OPTIONS\n",
    "    (model_type = 'LOGISTIC_REG',\n",
    "        auto_class_weights = TRUE,\n",
    "        input_label_cols = ['{VAR_TARGET}'],\n",
    "        enable_global_explain = TRUE,\n",
    "        data_split_col = 'custom_splits',\n",
    "        data_split_method = 'CUSTOM',\n",
    "        l1_reg = HPARAM_RANGE(0, 1000),\n",
    "        l2_reg = HPARAM_RANGE(0, 1000),\n",
    "        hparam_tuning_algorithm = 'VIZIER_DEFAULT',\n",
    "        hparam_tuning_objectives = ['ROC_AUC'],\n",
    "        num_trials = 20,\n",
    "        max_parallel_trials = 2\n",
    "    ) AS\n",
    "SELECT * EXCEPT({','.join(VAR_OMIT.split())}, splits),\n",
    "    CASE\n",
    "        WHEN splits = 'VALIDATE' THEN 'EVAL'\n",
    "        ELSE splits\n",
    "    END AS custom_splits\n",
    "FROM `{BQ_PROJECT}.{BQ_DATASET}.{BQ_TABLE}`\n",
    "\"\"\"\n",
    "job = bq.query(query = query)\n",
    "job.result()"
   ]
  },
  {
   "cell_type": "code",
   "execution_count": 8,
   "id": "5a9b18f0-99ee-4971-acf6-be212ddb0d7f",
   "metadata": {},
   "outputs": [
    {
     "data": {
      "text/plain": [
       "1131.495"
      ]
     },
     "execution_count": 8,
     "metadata": {},
     "output_type": "execute_result"
    }
   ],
   "source": [
    "(job.ended-job.started).total_seconds()"
   ]
  },
  {
   "cell_type": "markdown",
   "id": "79fa5095-9cca-47e1-89c8-15b567afb55b",
   "metadata": {},
   "source": [
    "Add labels to the model in BigQuery:"
   ]
  },
  {
   "cell_type": "code",
   "execution_count": 9,
   "id": "13d696f2-a277-422c-9cb0-f2ea8b5b242f",
   "metadata": {},
   "outputs": [],
   "source": [
    "model = bq.get_model(f'{BQ_PROJECT}.{BQ_DATASET}.{BQ_MODEL}')\n",
    "model.labels = {'series' : f'{SERIES}', 'experiment' : f'{EXPERIMENT}'}\n",
    "model = bq.update_model(model, ['labels'])"
   ]
  },
  {
   "cell_type": "markdown",
   "id": "3ee4be31-80e9-442d-91fc-895ba3ec7b06",
   "metadata": {},
   "source": [
    "Retrieve the trial info for the hyperparameter tuning:"
   ]
  },
  {
   "cell_type": "code",
   "execution_count": 10,
   "id": "d96e3d2e-5653-4391-8c89-5b12b0a33bba",
   "metadata": {},
   "outputs": [
    {
     "data": {
      "text/html": [
       "<div>\n",
       "<style scoped>\n",
       "    .dataframe tbody tr th:only-of-type {\n",
       "        vertical-align: middle;\n",
       "    }\n",
       "\n",
       "    .dataframe tbody tr th {\n",
       "        vertical-align: top;\n",
       "    }\n",
       "\n",
       "    .dataframe thead th {\n",
       "        text-align: right;\n",
       "    }\n",
       "</style>\n",
       "<table border=\"1\" class=\"dataframe\">\n",
       "  <thead>\n",
       "    <tr style=\"text-align: right;\">\n",
       "      <th></th>\n",
       "      <th>trial_id</th>\n",
       "      <th>hyperparameters</th>\n",
       "      <th>hparam_tuning_evaluation_metrics</th>\n",
       "      <th>training_loss</th>\n",
       "      <th>eval_loss</th>\n",
       "      <th>status</th>\n",
       "      <th>error_message</th>\n",
       "      <th>is_optimal</th>\n",
       "    </tr>\n",
       "  </thead>\n",
       "  <tbody>\n",
       "    <tr>\n",
       "      <th>0</th>\n",
       "      <td>1</td>\n",
       "      <td>{'l1_reg': 1e-14, 'l2_reg': 1e-14}</td>\n",
       "      <td>{'roc_auc': 0.9537232767232767}</td>\n",
       "      <td>0.117352</td>\n",
       "      <td>0.117913</td>\n",
       "      <td>SUCCEEDED</td>\n",
       "      <td>None</td>\n",
       "      <td>False</td>\n",
       "    </tr>\n",
       "    <tr>\n",
       "      <th>1</th>\n",
       "      <td>2</td>\n",
       "      <td>{'l1_reg': 5.46541828021866e-11, 'l2_reg': 5.3...</td>\n",
       "      <td>{'roc_auc': 0.9537232767232767}</td>\n",
       "      <td>0.117352</td>\n",
       "      <td>0.117913</td>\n",
       "      <td>SUCCEEDED</td>\n",
       "      <td>None</td>\n",
       "      <td>False</td>\n",
       "    </tr>\n",
       "    <tr>\n",
       "      <th>2</th>\n",
       "      <td>3</td>\n",
       "      <td>{'l1_reg': 1e-14, 'l2_reg': 6.421124522683832e...</td>\n",
       "      <td>{'roc_auc': 0.9537232767232767}</td>\n",
       "      <td>0.117352</td>\n",
       "      <td>0.117913</td>\n",
       "      <td>SUCCEEDED</td>\n",
       "      <td>None</td>\n",
       "      <td>False</td>\n",
       "    </tr>\n",
       "    <tr>\n",
       "      <th>3</th>\n",
       "      <td>4</td>\n",
       "      <td>{'l1_reg': 1.4373587137469334e-06, 'l2_reg': 1...</td>\n",
       "      <td>{'roc_auc': 0.9537232767232767}</td>\n",
       "      <td>0.117352</td>\n",
       "      <td>0.117913</td>\n",
       "      <td>SUCCEEDED</td>\n",
       "      <td>None</td>\n",
       "      <td>False</td>\n",
       "    </tr>\n",
       "    <tr>\n",
       "      <th>4</th>\n",
       "      <td>5</td>\n",
       "      <td>{'l1_reg': 0.08249267818163424, 'l2_reg': 5.74...</td>\n",
       "      <td>{'roc_auc': 0.9537232767232767}</td>\n",
       "      <td>0.117352</td>\n",
       "      <td>0.117914</td>\n",
       "      <td>SUCCEEDED</td>\n",
       "      <td>None</td>\n",
       "      <td>False</td>\n",
       "    </tr>\n",
       "    <tr>\n",
       "      <th>5</th>\n",
       "      <td>6</td>\n",
       "      <td>{'l1_reg': 1.2408738196626035e-11, 'l2_reg': 0...</td>\n",
       "      <td>{'roc_auc': 0.9537442557442557}</td>\n",
       "      <td>0.117277</td>\n",
       "      <td>0.117836</td>\n",
       "      <td>SUCCEEDED</td>\n",
       "      <td>None</td>\n",
       "      <td>False</td>\n",
       "    </tr>\n",
       "    <tr>\n",
       "      <th>6</th>\n",
       "      <td>7</td>\n",
       "      <td>{'l1_reg': 8.187721298749355e-10, 'l2_reg': 14...</td>\n",
       "      <td>{'roc_auc': 0.9567682317682318}</td>\n",
       "      <td>0.209574</td>\n",
       "      <td>0.208201</td>\n",
       "      <td>SUCCEEDED</td>\n",
       "      <td>None</td>\n",
       "      <td>False</td>\n",
       "    </tr>\n",
       "    <tr>\n",
       "      <th>7</th>\n",
       "      <td>8</td>\n",
       "      <td>{'l1_reg': 0.0004932669970802616, 'l2_reg': 0....</td>\n",
       "      <td>{'roc_auc': 0.9537442557442557}</td>\n",
       "      <td>0.117290</td>\n",
       "      <td>0.117850</td>\n",
       "      <td>SUCCEEDED</td>\n",
       "      <td>None</td>\n",
       "      <td>False</td>\n",
       "    </tr>\n",
       "    <tr>\n",
       "      <th>8</th>\n",
       "      <td>9</td>\n",
       "      <td>{'l1_reg': 412.88480669735696, 'l2_reg': 1000.0}</td>\n",
       "      <td>{'roc_auc': 0.9647762237762237}</td>\n",
       "      <td>0.667308</td>\n",
       "      <td>0.663707</td>\n",
       "      <td>SUCCEEDED</td>\n",
       "      <td>None</td>\n",
       "      <td>False</td>\n",
       "    </tr>\n",
       "    <tr>\n",
       "      <th>9</th>\n",
       "      <td>10</td>\n",
       "      <td>{'l1_reg': 1e-14, 'l2_reg': 1000.0}</td>\n",
       "      <td>{'roc_auc': 0.9659300699300699}</td>\n",
       "      <td>0.667190</td>\n",
       "      <td>0.663684</td>\n",
       "      <td>SUCCEEDED</td>\n",
       "      <td>None</td>\n",
       "      <td>False</td>\n",
       "    </tr>\n",
       "    <tr>\n",
       "      <th>10</th>\n",
       "      <td>11</td>\n",
       "      <td>{'l1_reg': 1000.0, 'l2_reg': 1.8651149134399116}</td>\n",
       "      <td>{'roc_auc': 0.9661628371628371}</td>\n",
       "      <td>0.120573</td>\n",
       "      <td>0.120980</td>\n",
       "      <td>SUCCEEDED</td>\n",
       "      <td>None</td>\n",
       "      <td>True</td>\n",
       "    </tr>\n",
       "    <tr>\n",
       "      <th>11</th>\n",
       "      <td>12</td>\n",
       "      <td>{'l1_reg': 2.8180498805549288, 'l2_reg': 1000.0}</td>\n",
       "      <td>{'roc_auc': 0.9658881118881119}</td>\n",
       "      <td>0.667191</td>\n",
       "      <td>0.663684</td>\n",
       "      <td>SUCCEEDED</td>\n",
       "      <td>None</td>\n",
       "      <td>False</td>\n",
       "    </tr>\n",
       "    <tr>\n",
       "      <th>12</th>\n",
       "      <td>13</td>\n",
       "      <td>{'l1_reg': 19.84781593456497, 'l2_reg': 7.6158...</td>\n",
       "      <td>{'roc_auc': 0.9552757242757243}</td>\n",
       "      <td>0.109535</td>\n",
       "      <td>0.109890</td>\n",
       "      <td>SUCCEEDED</td>\n",
       "      <td>None</td>\n",
       "      <td>False</td>\n",
       "    </tr>\n",
       "    <tr>\n",
       "      <th>13</th>\n",
       "      <td>14</td>\n",
       "      <td>{'l1_reg': 1000.0, 'l2_reg': 0.004251470358896...</td>\n",
       "      <td>{'roc_auc': 0.9653026973026974}</td>\n",
       "      <td>0.120631</td>\n",
       "      <td>0.120954</td>\n",
       "      <td>SUCCEEDED</td>\n",
       "      <td>None</td>\n",
       "      <td>False</td>\n",
       "    </tr>\n",
       "    <tr>\n",
       "      <th>14</th>\n",
       "      <td>15</td>\n",
       "      <td>{'l1_reg': 0.041921188774403664, 'l2_reg': 100...</td>\n",
       "      <td>{'roc_auc': 0.9659300699300699}</td>\n",
       "      <td>0.667190</td>\n",
       "      <td>0.663684</td>\n",
       "      <td>SUCCEEDED</td>\n",
       "      <td>None</td>\n",
       "      <td>False</td>\n",
       "    </tr>\n",
       "    <tr>\n",
       "      <th>15</th>\n",
       "      <td>16</td>\n",
       "      <td>{'l1_reg': 1000.0, 'l2_reg': 1e-14}</td>\n",
       "      <td>{'roc_auc': 0.9653026973026974}</td>\n",
       "      <td>0.120632</td>\n",
       "      <td>0.120955</td>\n",
       "      <td>SUCCEEDED</td>\n",
       "      <td>None</td>\n",
       "      <td>False</td>\n",
       "    </tr>\n",
       "    <tr>\n",
       "      <th>16</th>\n",
       "      <td>17</td>\n",
       "      <td>{'l1_reg': 1000.0, 'l2_reg': 2.057320598747524...</td>\n",
       "      <td>{'roc_auc': 0.9653026973026974}</td>\n",
       "      <td>0.120632</td>\n",
       "      <td>0.120955</td>\n",
       "      <td>SUCCEEDED</td>\n",
       "      <td>None</td>\n",
       "      <td>False</td>\n",
       "    </tr>\n",
       "    <tr>\n",
       "      <th>17</th>\n",
       "      <td>18</td>\n",
       "      <td>{'l1_reg': 5.257433468000365e-07, 'l2_reg': 10...</td>\n",
       "      <td>{'roc_auc': 0.9659300699300699}</td>\n",
       "      <td>0.667190</td>\n",
       "      <td>0.663684</td>\n",
       "      <td>SUCCEEDED</td>\n",
       "      <td>None</td>\n",
       "      <td>False</td>\n",
       "    </tr>\n",
       "    <tr>\n",
       "      <th>18</th>\n",
       "      <td>19</td>\n",
       "      <td>{'l1_reg': 0.3609474335072421, 'l2_reg': 1000.0}</td>\n",
       "      <td>{'roc_auc': 0.9659300699300699}</td>\n",
       "      <td>0.667190</td>\n",
       "      <td>0.663684</td>\n",
       "      <td>SUCCEEDED</td>\n",
       "      <td>None</td>\n",
       "      <td>False</td>\n",
       "    </tr>\n",
       "    <tr>\n",
       "      <th>19</th>\n",
       "      <td>20</td>\n",
       "      <td>{'l1_reg': 5.2540553190740954e-08, 'l2_reg': 1...</td>\n",
       "      <td>{'roc_auc': 0.9659300699300699}</td>\n",
       "      <td>0.667190</td>\n",
       "      <td>0.663684</td>\n",
       "      <td>SUCCEEDED</td>\n",
       "      <td>None</td>\n",
       "      <td>False</td>\n",
       "    </tr>\n",
       "  </tbody>\n",
       "</table>\n",
       "</div>"
      ],
      "text/plain": [
       "    trial_id                                    hyperparameters  \\\n",
       "0          1                 {'l1_reg': 1e-14, 'l2_reg': 1e-14}   \n",
       "1          2  {'l1_reg': 5.46541828021866e-11, 'l2_reg': 5.3...   \n",
       "2          3  {'l1_reg': 1e-14, 'l2_reg': 6.421124522683832e...   \n",
       "3          4  {'l1_reg': 1.4373587137469334e-06, 'l2_reg': 1...   \n",
       "4          5  {'l1_reg': 0.08249267818163424, 'l2_reg': 5.74...   \n",
       "5          6  {'l1_reg': 1.2408738196626035e-11, 'l2_reg': 0...   \n",
       "6          7  {'l1_reg': 8.187721298749355e-10, 'l2_reg': 14...   \n",
       "7          8  {'l1_reg': 0.0004932669970802616, 'l2_reg': 0....   \n",
       "8          9   {'l1_reg': 412.88480669735696, 'l2_reg': 1000.0}   \n",
       "9         10                {'l1_reg': 1e-14, 'l2_reg': 1000.0}   \n",
       "10        11   {'l1_reg': 1000.0, 'l2_reg': 1.8651149134399116}   \n",
       "11        12   {'l1_reg': 2.8180498805549288, 'l2_reg': 1000.0}   \n",
       "12        13  {'l1_reg': 19.84781593456497, 'l2_reg': 7.6158...   \n",
       "13        14  {'l1_reg': 1000.0, 'l2_reg': 0.004251470358896...   \n",
       "14        15  {'l1_reg': 0.041921188774403664, 'l2_reg': 100...   \n",
       "15        16                {'l1_reg': 1000.0, 'l2_reg': 1e-14}   \n",
       "16        17  {'l1_reg': 1000.0, 'l2_reg': 2.057320598747524...   \n",
       "17        18  {'l1_reg': 5.257433468000365e-07, 'l2_reg': 10...   \n",
       "18        19   {'l1_reg': 0.3609474335072421, 'l2_reg': 1000.0}   \n",
       "19        20  {'l1_reg': 5.2540553190740954e-08, 'l2_reg': 1...   \n",
       "\n",
       "   hparam_tuning_evaluation_metrics  training_loss  eval_loss     status  \\\n",
       "0   {'roc_auc': 0.9537232767232767}       0.117352   0.117913  SUCCEEDED   \n",
       "1   {'roc_auc': 0.9537232767232767}       0.117352   0.117913  SUCCEEDED   \n",
       "2   {'roc_auc': 0.9537232767232767}       0.117352   0.117913  SUCCEEDED   \n",
       "3   {'roc_auc': 0.9537232767232767}       0.117352   0.117913  SUCCEEDED   \n",
       "4   {'roc_auc': 0.9537232767232767}       0.117352   0.117914  SUCCEEDED   \n",
       "5   {'roc_auc': 0.9537442557442557}       0.117277   0.117836  SUCCEEDED   \n",
       "6   {'roc_auc': 0.9567682317682318}       0.209574   0.208201  SUCCEEDED   \n",
       "7   {'roc_auc': 0.9537442557442557}       0.117290   0.117850  SUCCEEDED   \n",
       "8   {'roc_auc': 0.9647762237762237}       0.667308   0.663707  SUCCEEDED   \n",
       "9   {'roc_auc': 0.9659300699300699}       0.667190   0.663684  SUCCEEDED   \n",
       "10  {'roc_auc': 0.9661628371628371}       0.120573   0.120980  SUCCEEDED   \n",
       "11  {'roc_auc': 0.9658881118881119}       0.667191   0.663684  SUCCEEDED   \n",
       "12  {'roc_auc': 0.9552757242757243}       0.109535   0.109890  SUCCEEDED   \n",
       "13  {'roc_auc': 0.9653026973026974}       0.120631   0.120954  SUCCEEDED   \n",
       "14  {'roc_auc': 0.9659300699300699}       0.667190   0.663684  SUCCEEDED   \n",
       "15  {'roc_auc': 0.9653026973026974}       0.120632   0.120955  SUCCEEDED   \n",
       "16  {'roc_auc': 0.9653026973026974}       0.120632   0.120955  SUCCEEDED   \n",
       "17  {'roc_auc': 0.9659300699300699}       0.667190   0.663684  SUCCEEDED   \n",
       "18  {'roc_auc': 0.9659300699300699}       0.667190   0.663684  SUCCEEDED   \n",
       "19  {'roc_auc': 0.9659300699300699}       0.667190   0.663684  SUCCEEDED   \n",
       "\n",
       "   error_message  is_optimal  \n",
       "0           None       False  \n",
       "1           None       False  \n",
       "2           None       False  \n",
       "3           None       False  \n",
       "4           None       False  \n",
       "5           None       False  \n",
       "6           None       False  \n",
       "7           None       False  \n",
       "8           None       False  \n",
       "9           None       False  \n",
       "10          None        True  \n",
       "11          None       False  \n",
       "12          None       False  \n",
       "13          None       False  \n",
       "14          None       False  \n",
       "15          None       False  \n",
       "16          None       False  \n",
       "17          None       False  \n",
       "18          None       False  \n",
       "19          None       False  "
      ]
     },
     "execution_count": 10,
     "metadata": {},
     "output_type": "execute_result"
    }
   ],
   "source": [
    "trials = bq.query(\n",
    "    query = f\"\"\"\n",
    "        SELECT *\n",
    "        FROM ML.TRIAL_INFO(MODEL `{BQ_PROJECT}.{BQ_DATASET}.{BQ_MODEL}`)\n",
    "        \"\"\"\n",
    ").to_dataframe()\n",
    "trials"
   ]
  },
  {
   "cell_type": "markdown",
   "id": "53cfa968-e66b-4c14-a034-5072881f6025",
   "metadata": {},
   "source": [
    "### Check out this model in BigQuery Console:\n",
    "- Make sure project selected is the one from this notebook\n",
    "- Under Explore, expand this project and dataset\n",
    "- Expand Models and select the model create here"
   ]
  },
  {
   "cell_type": "code",
   "execution_count": 11,
   "id": "609f3bbe-3418-4236-b45e-8ff5e0573ec8",
   "metadata": {},
   "outputs": [
    {
     "name": "stdout",
     "output_type": "stream",
     "text": [
      "BigQuery Console for Project:\n",
      "https://console.cloud.google.com/bigquery?project=statmike-mlops-349915\n"
     ]
    }
   ],
   "source": [
    "print(f'BigQuery Console for Project:\\nhttps://console.cloud.google.com/bigquery?project={PROJECT_ID}')"
   ]
  },
  {
   "cell_type": "code",
   "execution_count": 12,
   "id": "52f3fe49-cc00-4c53-98a5-4e9672e3a3a5",
   "metadata": {},
   "outputs": [
    {
     "name": "stdout",
     "output_type": "stream",
     "text": [
      "Direct link to the model in BigQuery:\n",
      "https://console.cloud.google.com/bigquery?project=statmike-mlops-349915&ws=!1m5!1m4!5m3!1sstatmike-mlops-349915!2sfraud!3s03_03f_20221003130014\n"
     ]
    }
   ],
   "source": [
    "print(f'Direct link to the model in BigQuery:\\nhttps://console.cloud.google.com/bigquery?project={PROJECT_ID}&ws=!1m5!1m4!5m3!1s{PROJECT_ID}!2s{BQ_DATASET}!3s{BQ_MODEL}')"
   ]
  },
  {
   "cell_type": "markdown",
   "id": "845231c0-eb66-4e4e-bf5a-dd6ce2044a94",
   "metadata": {},
   "source": [
    "---\n",
    "## Evaluate Model"
   ]
  },
  {
   "cell_type": "markdown",
   "id": "a713b2e0-2c8b-4fc8-ae16-d138d6083860",
   "metadata": {},
   "source": [
    "### Metrics"
   ]
  },
  {
   "cell_type": "markdown",
   "id": "db70179f-3c6a-4e64-9c22-56fc8245a20f",
   "metadata": {},
   "source": [
    "Review the model evaluation statistics on the splits with [`ML.EVALUATE`](https://cloud.google.com/bigquery-ml/docs/reference/standard-sql/bigqueryml-syntax-evaluate):"
   ]
  },
  {
   "cell_type": "code",
   "execution_count": 13,
   "id": "8185308c-73da-487d-a1a2-2087bd9d36ff",
   "metadata": {},
   "outputs": [
    {
     "data": {
      "text/html": [
       "<div>\n",
       "<style scoped>\n",
       "    .dataframe tbody tr th:only-of-type {\n",
       "        vertical-align: middle;\n",
       "    }\n",
       "\n",
       "    .dataframe tbody tr th {\n",
       "        vertical-align: top;\n",
       "    }\n",
       "\n",
       "    .dataframe thead th {\n",
       "        text-align: right;\n",
       "    }\n",
       "</style>\n",
       "<table border=\"1\" class=\"dataframe\">\n",
       "  <thead>\n",
       "    <tr style=\"text-align: right;\">\n",
       "      <th></th>\n",
       "      <th>SPLIT</th>\n",
       "      <th>trial_id</th>\n",
       "      <th>precision</th>\n",
       "      <th>recall</th>\n",
       "      <th>accuracy</th>\n",
       "      <th>f1_score</th>\n",
       "      <th>log_loss</th>\n",
       "      <th>roc_auc</th>\n",
       "    </tr>\n",
       "  </thead>\n",
       "  <tbody>\n",
       "    <tr>\n",
       "      <th>0</th>\n",
       "      <td>VALIDATE</td>\n",
       "      <td>11</td>\n",
       "      <td>0.073379</td>\n",
       "      <td>0.895833</td>\n",
       "      <td>0.980598</td>\n",
       "      <td>0.135647</td>\n",
       "      <td>0.120980</td>\n",
       "      <td>0.966163</td>\n",
       "    </tr>\n",
       "    <tr>\n",
       "      <th>1</th>\n",
       "      <td>TEST</td>\n",
       "      <td>11</td>\n",
       "      <td>0.079545</td>\n",
       "      <td>0.893617</td>\n",
       "      <td>0.982773</td>\n",
       "      <td>0.146087</td>\n",
       "      <td>0.118337</td>\n",
       "      <td>0.979953</td>\n",
       "    </tr>\n",
       "    <tr>\n",
       "      <th>2</th>\n",
       "      <td>TRAIN</td>\n",
       "      <td>11</td>\n",
       "      <td>0.082198</td>\n",
       "      <td>0.911839</td>\n",
       "      <td>0.982123</td>\n",
       "      <td>0.150802</td>\n",
       "      <td>0.120573</td>\n",
       "      <td>0.986613</td>\n",
       "    </tr>\n",
       "  </tbody>\n",
       "</table>\n",
       "</div>"
      ],
      "text/plain": [
       "      SPLIT  trial_id  precision    recall  accuracy  f1_score  log_loss  \\\n",
       "0  VALIDATE        11   0.073379  0.895833  0.980598  0.135647  0.120980   \n",
       "1      TEST        11   0.079545  0.893617  0.982773  0.146087  0.118337   \n",
       "2     TRAIN        11   0.082198  0.911839  0.982123  0.150802  0.120573   \n",
       "\n",
       "    roc_auc  \n",
       "0  0.966163  \n",
       "1  0.979953  \n",
       "2  0.986613  "
      ]
     },
     "execution_count": 13,
     "metadata": {},
     "output_type": "execute_result"
    }
   ],
   "source": [
    "query = f\"\"\"\n",
    "SELECT 'TEST' as SPLIT, * FROM ML.EVALUATE (MODEL `{BQ_PROJECT}.{BQ_DATASET}.{BQ_MODEL}`,\n",
    "    (SELECT * FROM `{BQ_PROJECT}.{BQ_DATASET}.{BQ_TABLE}` WHERE SPLITS='TEST'))\n",
    "UNION ALL\n",
    "SELECT 'VALIDATE' as SPLIT, * FROM ML.EVALUATE (MODEL `{BQ_PROJECT}.{BQ_DATASET}.{BQ_MODEL}`,\n",
    "    (SELECT * FROM `{BQ_PROJECT}.{BQ_DATASET}.{BQ_TABLE}` WHERE SPLITS='VALIDATE'))\n",
    "UNION ALL\n",
    "SELECT 'TRAIN' as SPLIT, * FROM ML.EVALUATE (MODEL `{BQ_PROJECT}.{BQ_DATASET}.{BQ_MODEL}`,\n",
    "    (SELECT * FROM `{BQ_PROJECT}.{BQ_DATASET}.{BQ_TABLE}` WHERE SPLITS='TRAIN'))\n",
    "\"\"\"\n",
    "bq.query(query = query).to_dataframe()"
   ]
  },
  {
   "cell_type": "markdown",
   "id": "e7272253-4f93-42d0-9a31-c849ca36bd7c",
   "metadata": {},
   "source": [
    "### Confusion Matrix"
   ]
  },
  {
   "cell_type": "markdown",
   "id": "01417489-588e-4a66-9cdc-74ffc95e4d96",
   "metadata": {},
   "source": [
    "Review the confusion matrix for each split with [`ML.CONFUSION_MATRIX`](https://cloud.google.com/bigquery-ml/docs/reference/standard-sql/bigqueryml-syntax-confusion):"
   ]
  },
  {
   "cell_type": "code",
   "execution_count": 14,
   "id": "993421b9-a149-4b79-8c8a-3fe79e3425f2",
   "metadata": {},
   "outputs": [
    {
     "data": {
      "text/html": [
       "<div>\n",
       "<style scoped>\n",
       "    .dataframe tbody tr th:only-of-type {\n",
       "        vertical-align: middle;\n",
       "    }\n",
       "\n",
       "    .dataframe tbody tr th {\n",
       "        vertical-align: top;\n",
       "    }\n",
       "\n",
       "    .dataframe thead th {\n",
       "        text-align: right;\n",
       "    }\n",
       "</style>\n",
       "<table border=\"1\" class=\"dataframe\">\n",
       "  <thead>\n",
       "    <tr style=\"text-align: right;\">\n",
       "      <th></th>\n",
       "      <th>trial_id</th>\n",
       "      <th>expected_label</th>\n",
       "      <th>_0</th>\n",
       "      <th>_1</th>\n",
       "    </tr>\n",
       "  </thead>\n",
       "  <tbody>\n",
       "    <tr>\n",
       "      <th>0</th>\n",
       "      <td>11</td>\n",
       "      <td>0</td>\n",
       "      <td>223622</td>\n",
       "      <td>4042</td>\n",
       "    </tr>\n",
       "    <tr>\n",
       "      <th>1</th>\n",
       "      <td>11</td>\n",
       "      <td>1</td>\n",
       "      <td>35</td>\n",
       "      <td>362</td>\n",
       "    </tr>\n",
       "  </tbody>\n",
       "</table>\n",
       "</div>"
      ],
      "text/plain": [
       "   trial_id  expected_label      _0    _1\n",
       "0        11               0  223622  4042\n",
       "1        11               1      35   362"
      ]
     },
     "execution_count": 14,
     "metadata": {},
     "output_type": "execute_result"
    }
   ],
   "source": [
    "query = f\"\"\"\n",
    "SELECT *\n",
    "FROM ML.CONFUSION_MATRIX (MODEL `{BQ_PROJECT}.{BQ_DATASET}.{BQ_MODEL}`,(\n",
    "    SELECT *\n",
    "    FROM `{BQ_PROJECT}.{BQ_DATASET}.{BQ_TABLE}`\n",
    "    WHERE splits = 'TRAIN')\n",
    "  )\n",
    "\"\"\"\n",
    "bq.query(query = query).to_dataframe()"
   ]
  },
  {
   "cell_type": "code",
   "execution_count": 15,
   "id": "c7928454-3342-45b1-a694-ba7a261bb2a9",
   "metadata": {},
   "outputs": [
    {
     "data": {
      "text/html": [
       "<div>\n",
       "<style scoped>\n",
       "    .dataframe tbody tr th:only-of-type {\n",
       "        vertical-align: middle;\n",
       "    }\n",
       "\n",
       "    .dataframe tbody tr th {\n",
       "        vertical-align: top;\n",
       "    }\n",
       "\n",
       "    .dataframe thead th {\n",
       "        text-align: right;\n",
       "    }\n",
       "</style>\n",
       "<table border=\"1\" class=\"dataframe\">\n",
       "  <thead>\n",
       "    <tr style=\"text-align: right;\">\n",
       "      <th></th>\n",
       "      <th>trial_id</th>\n",
       "      <th>expected_label</th>\n",
       "      <th>_0</th>\n",
       "      <th>_1</th>\n",
       "    </tr>\n",
       "  </thead>\n",
       "  <tbody>\n",
       "    <tr>\n",
       "      <th>0</th>\n",
       "      <td>11</td>\n",
       "      <td>0</td>\n",
       "      <td>27653</td>\n",
       "      <td>543</td>\n",
       "    </tr>\n",
       "    <tr>\n",
       "      <th>1</th>\n",
       "      <td>11</td>\n",
       "      <td>1</td>\n",
       "      <td>5</td>\n",
       "      <td>43</td>\n",
       "    </tr>\n",
       "  </tbody>\n",
       "</table>\n",
       "</div>"
      ],
      "text/plain": [
       "   trial_id  expected_label     _0   _1\n",
       "0        11               0  27653  543\n",
       "1        11               1      5   43"
      ]
     },
     "execution_count": 15,
     "metadata": {},
     "output_type": "execute_result"
    }
   ],
   "source": [
    "query = f\"\"\"\n",
    "SELECT *\n",
    "FROM ML.CONFUSION_MATRIX (MODEL `{BQ_PROJECT}.{BQ_DATASET}.{BQ_MODEL}`,(\n",
    "    SELECT *\n",
    "    FROM `{BQ_PROJECT}.{BQ_DATASET}.{BQ_TABLE}`\n",
    "    WHERE splits = 'VALIDATE')\n",
    "  )\n",
    "\"\"\"\n",
    "bq.query(query = query).to_dataframe()"
   ]
  },
  {
   "cell_type": "code",
   "execution_count": 16,
   "id": "1439d143-a0b7-4582-b483-2c2762aa5c31",
   "metadata": {},
   "outputs": [
    {
     "data": {
      "text/html": [
       "<div>\n",
       "<style scoped>\n",
       "    .dataframe tbody tr th:only-of-type {\n",
       "        vertical-align: middle;\n",
       "    }\n",
       "\n",
       "    .dataframe tbody tr th {\n",
       "        vertical-align: top;\n",
       "    }\n",
       "\n",
       "    .dataframe thead th {\n",
       "        text-align: right;\n",
       "    }\n",
       "</style>\n",
       "<table border=\"1\" class=\"dataframe\">\n",
       "  <thead>\n",
       "    <tr style=\"text-align: right;\">\n",
       "      <th></th>\n",
       "      <th>trial_id</th>\n",
       "      <th>expected_label</th>\n",
       "      <th>_0</th>\n",
       "      <th>_1</th>\n",
       "    </tr>\n",
       "  </thead>\n",
       "  <tbody>\n",
       "    <tr>\n",
       "      <th>0</th>\n",
       "      <td>11</td>\n",
       "      <td>0</td>\n",
       "      <td>27969</td>\n",
       "      <td>486</td>\n",
       "    </tr>\n",
       "    <tr>\n",
       "      <th>1</th>\n",
       "      <td>11</td>\n",
       "      <td>1</td>\n",
       "      <td>5</td>\n",
       "      <td>42</td>\n",
       "    </tr>\n",
       "  </tbody>\n",
       "</table>\n",
       "</div>"
      ],
      "text/plain": [
       "   trial_id  expected_label     _0   _1\n",
       "0        11               0  27969  486\n",
       "1        11               1      5   42"
      ]
     },
     "execution_count": 16,
     "metadata": {},
     "output_type": "execute_result"
    }
   ],
   "source": [
    "query = f\"\"\"\n",
    "SELECT *\n",
    "FROM ML.CONFUSION_MATRIX (MODEL `{BQ_PROJECT}.{BQ_DATASET}.{BQ_MODEL}`,(\n",
    "    SELECT *\n",
    "    FROM `{BQ_PROJECT}.{BQ_DATASET}.{BQ_TABLE}`\n",
    "    WHERE splits = 'TEST')\n",
    "  )\n",
    "\"\"\"\n",
    "bq.query(query = query).to_dataframe()"
   ]
  },
  {
   "cell_type": "markdown",
   "id": "64a493ec-8f5b-4965-bb71-e7f081755bb0",
   "metadata": {},
   "source": [
    "### ROC Curve\n",
    "\n",
    "Retrieve the ROC Curve for each split using [`ML.ROC_CURVE`](https://cloud.google.com/bigquery-ml/docs/reference/standard-sql/bigqueryml-syntax-roc):"
   ]
  },
  {
   "cell_type": "code",
   "execution_count": 17,
   "id": "de87dd2e-642a-4bfa-ab34-a01b23dd8f9c",
   "metadata": {},
   "outputs": [
    {
     "data": {
      "text/html": [
       "<div>\n",
       "<style scoped>\n",
       "    .dataframe tbody tr th:only-of-type {\n",
       "        vertical-align: middle;\n",
       "    }\n",
       "\n",
       "    .dataframe tbody tr th {\n",
       "        vertical-align: top;\n",
       "    }\n",
       "\n",
       "    .dataframe thead th {\n",
       "        text-align: right;\n",
       "    }\n",
       "</style>\n",
       "<table border=\"1\" class=\"dataframe\">\n",
       "  <thead>\n",
       "    <tr style=\"text-align: right;\">\n",
       "      <th></th>\n",
       "      <th>trial_id</th>\n",
       "      <th>threshold</th>\n",
       "      <th>recall</th>\n",
       "      <th>false_positive_rate</th>\n",
       "      <th>true_positives</th>\n",
       "      <th>false_positives</th>\n",
       "      <th>true_negatives</th>\n",
       "      <th>false_negatives</th>\n",
       "    </tr>\n",
       "  </thead>\n",
       "  <tbody>\n",
       "    <tr>\n",
       "      <th>0</th>\n",
       "      <td>11</td>\n",
       "      <td>1.000000</td>\n",
       "      <td>0.002519</td>\n",
       "      <td>0.000000</td>\n",
       "      <td>1</td>\n",
       "      <td>0</td>\n",
       "      <td>227664</td>\n",
       "      <td>396</td>\n",
       "    </tr>\n",
       "    <tr>\n",
       "      <th>1</th>\n",
       "      <td>11</td>\n",
       "      <td>0.712465</td>\n",
       "      <td>0.884131</td>\n",
       "      <td>0.008513</td>\n",
       "      <td>351</td>\n",
       "      <td>1938</td>\n",
       "      <td>225726</td>\n",
       "      <td>46</td>\n",
       "    </tr>\n",
       "    <tr>\n",
       "      <th>2</th>\n",
       "      <td>11</td>\n",
       "      <td>0.490033</td>\n",
       "      <td>0.911839</td>\n",
       "      <td>0.018457</td>\n",
       "      <td>362</td>\n",
       "      <td>4202</td>\n",
       "      <td>223462</td>\n",
       "      <td>35</td>\n",
       "    </tr>\n",
       "    <tr>\n",
       "      <th>3</th>\n",
       "      <td>11</td>\n",
       "      <td>0.403515</td>\n",
       "      <td>0.921914</td>\n",
       "      <td>0.028397</td>\n",
       "      <td>366</td>\n",
       "      <td>6465</td>\n",
       "      <td>221199</td>\n",
       "      <td>31</td>\n",
       "    </tr>\n",
       "    <tr>\n",
       "      <th>4</th>\n",
       "      <td>11</td>\n",
       "      <td>0.348049</td>\n",
       "      <td>0.926952</td>\n",
       "      <td>0.038649</td>\n",
       "      <td>368</td>\n",
       "      <td>8799</td>\n",
       "      <td>218865</td>\n",
       "      <td>29</td>\n",
       "    </tr>\n",
       "  </tbody>\n",
       "</table>\n",
       "</div>"
      ],
      "text/plain": [
       "   trial_id  threshold    recall  false_positive_rate  true_positives  \\\n",
       "0        11   1.000000  0.002519             0.000000               1   \n",
       "1        11   0.712465  0.884131             0.008513             351   \n",
       "2        11   0.490033  0.911839             0.018457             362   \n",
       "3        11   0.403515  0.921914             0.028397             366   \n",
       "4        11   0.348049  0.926952             0.038649             368   \n",
       "\n",
       "   false_positives  true_negatives  false_negatives  \n",
       "0                0          227664              396  \n",
       "1             1938          225726               46  \n",
       "2             4202          223462               35  \n",
       "3             6465          221199               31  \n",
       "4             8799          218865               29  "
      ]
     },
     "execution_count": 17,
     "metadata": {},
     "output_type": "execute_result"
    }
   ],
   "source": [
    "query = f\"\"\"\n",
    "SELECT *\n",
    "FROM ML.ROC_CURVE (MODEL `{BQ_PROJECT}.{BQ_DATASET}.{BQ_MODEL}`,(\n",
    "    SELECT *\n",
    "    FROM `{BQ_PROJECT}.{BQ_DATASET}.{BQ_TABLE}`\n",
    "    WHERE splits = 'TRAIN')\n",
    "  )\n",
    "ORDER BY false_positive_rate\n",
    "\"\"\"\n",
    "train_roc = bq.query(query = query).to_dataframe()\n",
    "train_roc.head()"
   ]
  },
  {
   "cell_type": "code",
   "execution_count": 18,
   "id": "d91e539b-e5ad-4cb5-a324-0371ff06eca2",
   "metadata": {},
   "outputs": [
    {
     "data": {
      "text/html": [
       "<div>\n",
       "<style scoped>\n",
       "    .dataframe tbody tr th:only-of-type {\n",
       "        vertical-align: middle;\n",
       "    }\n",
       "\n",
       "    .dataframe tbody tr th {\n",
       "        vertical-align: top;\n",
       "    }\n",
       "\n",
       "    .dataframe thead th {\n",
       "        text-align: right;\n",
       "    }\n",
       "</style>\n",
       "<table border=\"1\" class=\"dataframe\">\n",
       "  <thead>\n",
       "    <tr style=\"text-align: right;\">\n",
       "      <th></th>\n",
       "      <th>trial_id</th>\n",
       "      <th>threshold</th>\n",
       "      <th>recall</th>\n",
       "      <th>false_positive_rate</th>\n",
       "      <th>true_positives</th>\n",
       "      <th>false_positives</th>\n",
       "      <th>true_negatives</th>\n",
       "      <th>false_negatives</th>\n",
       "    </tr>\n",
       "  </thead>\n",
       "  <tbody>\n",
       "    <tr>\n",
       "      <th>0</th>\n",
       "      <td>11</td>\n",
       "      <td>1.000000</td>\n",
       "      <td>0.020833</td>\n",
       "      <td>0.000000</td>\n",
       "      <td>1</td>\n",
       "      <td>0</td>\n",
       "      <td>28196</td>\n",
       "      <td>47</td>\n",
       "    </tr>\n",
       "    <tr>\n",
       "      <th>1</th>\n",
       "      <td>11</td>\n",
       "      <td>0.726496</td>\n",
       "      <td>0.875000</td>\n",
       "      <td>0.008512</td>\n",
       "      <td>42</td>\n",
       "      <td>240</td>\n",
       "      <td>27956</td>\n",
       "      <td>6</td>\n",
       "    </tr>\n",
       "    <tr>\n",
       "      <th>2</th>\n",
       "      <td>11</td>\n",
       "      <td>0.506201</td>\n",
       "      <td>0.895833</td>\n",
       "      <td>0.018407</td>\n",
       "      <td>43</td>\n",
       "      <td>519</td>\n",
       "      <td>27677</td>\n",
       "      <td>5</td>\n",
       "    </tr>\n",
       "    <tr>\n",
       "      <th>3</th>\n",
       "      <td>11</td>\n",
       "      <td>0.410432</td>\n",
       "      <td>0.916667</td>\n",
       "      <td>0.028621</td>\n",
       "      <td>44</td>\n",
       "      <td>807</td>\n",
       "      <td>27389</td>\n",
       "      <td>4</td>\n",
       "    </tr>\n",
       "    <tr>\n",
       "      <th>4</th>\n",
       "      <td>11</td>\n",
       "      <td>0.353290</td>\n",
       "      <td>0.916667</td>\n",
       "      <td>0.038445</td>\n",
       "      <td>44</td>\n",
       "      <td>1084</td>\n",
       "      <td>27112</td>\n",
       "      <td>4</td>\n",
       "    </tr>\n",
       "  </tbody>\n",
       "</table>\n",
       "</div>"
      ],
      "text/plain": [
       "   trial_id  threshold    recall  false_positive_rate  true_positives  \\\n",
       "0        11   1.000000  0.020833             0.000000               1   \n",
       "1        11   0.726496  0.875000             0.008512              42   \n",
       "2        11   0.506201  0.895833             0.018407              43   \n",
       "3        11   0.410432  0.916667             0.028621              44   \n",
       "4        11   0.353290  0.916667             0.038445              44   \n",
       "\n",
       "   false_positives  true_negatives  false_negatives  \n",
       "0                0           28196               47  \n",
       "1              240           27956                6  \n",
       "2              519           27677                5  \n",
       "3              807           27389                4  \n",
       "4             1084           27112                4  "
      ]
     },
     "execution_count": 18,
     "metadata": {},
     "output_type": "execute_result"
    }
   ],
   "source": [
    "query = f\"\"\"\n",
    "SELECT *\n",
    "FROM ML.ROC_CURVE (MODEL `{BQ_PROJECT}.{BQ_DATASET}.{BQ_MODEL}`,(\n",
    "    SELECT *\n",
    "    FROM `{BQ_PROJECT}.{BQ_DATASET}.{BQ_TABLE}`\n",
    "    WHERE splits = 'VALIDATE')\n",
    "  )\n",
    "ORDER BY false_positive_rate\n",
    "\"\"\"\n",
    "val_roc = bq.query(query = query).to_dataframe()\n",
    "val_roc.head()"
   ]
  },
  {
   "cell_type": "code",
   "execution_count": 19,
   "id": "92eb8ff7-89c1-47e0-9c68-e2c91f38cd13",
   "metadata": {},
   "outputs": [
    {
     "data": {
      "text/html": [
       "<div>\n",
       "<style scoped>\n",
       "    .dataframe tbody tr th:only-of-type {\n",
       "        vertical-align: middle;\n",
       "    }\n",
       "\n",
       "    .dataframe tbody tr th {\n",
       "        vertical-align: top;\n",
       "    }\n",
       "\n",
       "    .dataframe thead th {\n",
       "        text-align: right;\n",
       "    }\n",
       "</style>\n",
       "<table border=\"1\" class=\"dataframe\">\n",
       "  <thead>\n",
       "    <tr style=\"text-align: right;\">\n",
       "      <th></th>\n",
       "      <th>trial_id</th>\n",
       "      <th>threshold</th>\n",
       "      <th>recall</th>\n",
       "      <th>false_positive_rate</th>\n",
       "      <th>true_positives</th>\n",
       "      <th>false_positives</th>\n",
       "      <th>true_negatives</th>\n",
       "      <th>false_negatives</th>\n",
       "    </tr>\n",
       "  </thead>\n",
       "  <tbody>\n",
       "    <tr>\n",
       "      <th>0</th>\n",
       "      <td>11</td>\n",
       "      <td>1.000000</td>\n",
       "      <td>0.021277</td>\n",
       "      <td>0.000000</td>\n",
       "      <td>1</td>\n",
       "      <td>0</td>\n",
       "      <td>28455</td>\n",
       "      <td>46</td>\n",
       "    </tr>\n",
       "    <tr>\n",
       "      <th>1</th>\n",
       "      <td>11</td>\n",
       "      <td>0.676993</td>\n",
       "      <td>0.872340</td>\n",
       "      <td>0.008680</td>\n",
       "      <td>41</td>\n",
       "      <td>247</td>\n",
       "      <td>28208</td>\n",
       "      <td>6</td>\n",
       "    </tr>\n",
       "    <tr>\n",
       "      <th>2</th>\n",
       "      <td>11</td>\n",
       "      <td>0.482204</td>\n",
       "      <td>0.893617</td>\n",
       "      <td>0.018556</td>\n",
       "      <td>42</td>\n",
       "      <td>528</td>\n",
       "      <td>27927</td>\n",
       "      <td>5</td>\n",
       "    </tr>\n",
       "    <tr>\n",
       "      <th>3</th>\n",
       "      <td>11</td>\n",
       "      <td>0.400933</td>\n",
       "      <td>0.893617</td>\n",
       "      <td>0.028536</td>\n",
       "      <td>42</td>\n",
       "      <td>812</td>\n",
       "      <td>27643</td>\n",
       "      <td>5</td>\n",
       "    </tr>\n",
       "    <tr>\n",
       "      <th>4</th>\n",
       "      <td>11</td>\n",
       "      <td>0.349530</td>\n",
       "      <td>0.914894</td>\n",
       "      <td>0.038587</td>\n",
       "      <td>43</td>\n",
       "      <td>1098</td>\n",
       "      <td>27357</td>\n",
       "      <td>4</td>\n",
       "    </tr>\n",
       "  </tbody>\n",
       "</table>\n",
       "</div>"
      ],
      "text/plain": [
       "   trial_id  threshold    recall  false_positive_rate  true_positives  \\\n",
       "0        11   1.000000  0.021277             0.000000               1   \n",
       "1        11   0.676993  0.872340             0.008680              41   \n",
       "2        11   0.482204  0.893617             0.018556              42   \n",
       "3        11   0.400933  0.893617             0.028536              42   \n",
       "4        11   0.349530  0.914894             0.038587              43   \n",
       "\n",
       "   false_positives  true_negatives  false_negatives  \n",
       "0                0           28455               46  \n",
       "1              247           28208                6  \n",
       "2              528           27927                5  \n",
       "3              812           27643                5  \n",
       "4             1098           27357                4  "
      ]
     },
     "execution_count": 19,
     "metadata": {},
     "output_type": "execute_result"
    }
   ],
   "source": [
    "query = f\"\"\"\n",
    "SELECT *\n",
    "FROM ML.ROC_CURVE (MODEL `{BQ_PROJECT}.{BQ_DATASET}.{BQ_MODEL}`,(\n",
    "    SELECT *\n",
    "    FROM `{BQ_PROJECT}.{BQ_DATASET}.{BQ_TABLE}`\n",
    "    WHERE splits = 'TEST')\n",
    "  )\n",
    "ORDER BY false_positive_rate\n",
    "\"\"\"\n",
    "test_roc = bq.query(query = query).to_dataframe()\n",
    "test_roc.head()"
   ]
  },
  {
   "cell_type": "code",
   "execution_count": 20,
   "id": "a7dc7f24-157c-4200-bc77-144425d024c2",
   "metadata": {},
   "outputs": [
    {
     "data": {
      "image/png": "[encoded data removed]",
      "text/plain": [
       "<Figure size 1080x360 with 1 Axes>"
      ]
     },
     "metadata": {
      "needs_background": "light"
     },
     "output_type": "display_data"
    }
   ],
   "source": [
    "plt.figure(figsize=(15,5))\n",
    "plt.plot(train_roc['false_positive_rate'], train_roc['recall'], label='TRAIN')\n",
    "plt.plot(val_roc['false_positive_rate'], val_roc['recall'], label='VALIDATE')\n",
    "plt.plot(test_roc['false_positive_rate'], test_roc['recall'], label='TEST')\n",
    "plt.xlabel('False Positive Rate')\n",
    "plt.ylabel('True Positive Rate\\nRecall')\n",
    "plt.title('ROC Curves')\n",
    "plt.legend()\n",
    "plt.show()"
   ]
  },
  {
   "cell_type": "markdown",
   "id": "1572635f-61e9-45d1-859b-92576e6801a7",
   "metadata": {},
   "source": [
    "---\n",
    "## Predictions"
   ]
  },
  {
   "cell_type": "markdown",
   "id": "6b71060f-aa30-4868-abd3-952569ce6319",
   "metadata": {},
   "source": [
    "Create a pandas dataframe with predictions for the test data in the table:"
   ]
  },
  {
   "cell_type": "code",
   "execution_count": 21,
   "id": "b1ee97c8-77a4-4dd7-b2ec-77bba1d31922",
   "metadata": {},
   "outputs": [],
   "source": [
    "query = f\"\"\"\n",
    "SELECT *\n",
    "FROM ML.PREDICT (MODEL `{BQ_PROJECT}.{BQ_DATASET}.{BQ_MODEL}`,(\n",
    "    SELECT *\n",
    "    FROM `{BQ_PROJECT}.{BQ_DATASET}.{BQ_TABLE}`\n",
    "    WHERE splits = 'TEST')\n",
    "  )\n",
    "\"\"\"\n",
    "pred = bq.query(query = query).to_dataframe()"
   ]
  },
  {
   "cell_type": "markdown",
   "id": "3dd452f9-0878-4e44-a666-c34298d147a6",
   "metadata": {},
   "source": [
    "Review columns from the predictions - note that the query added columns with prefix `predicted_`"
   ]
  },
  {
   "cell_type": "code",
   "execution_count": 22,
   "id": "e9da8c03-d912-40d4-8eeb-a171b5296574",
   "metadata": {},
   "outputs": [
    {
     "data": {
      "text/plain": [
       "Index(['trial_id', 'predicted_Class', 'predicted_Class_probs', 'Time', 'V1',\n",
       "       'V2', 'V3', 'V4', 'V5', 'V6', 'V7', 'V8', 'V9', 'V10', 'V11', 'V12',\n",
       "       'V13', 'V14', 'V15', 'V16', 'V17', 'V18', 'V19', 'V20', 'V21', 'V22',\n",
       "       'V23', 'V24', 'V25', 'V26', 'V27', 'V28', 'Amount', 'Class',\n",
       "       'transaction_id', 'splits'],\n",
       "      dtype='object')"
      ]
     },
     "execution_count": 22,
     "metadata": {},
     "output_type": "execute_result"
    }
   ],
   "source": [
    "pred.columns"
   ]
  },
  {
   "cell_type": "markdown",
   "id": "c824f3df-8db2-47b9-bffa-43b2ec548a7f",
   "metadata": {},
   "source": [
    "Print the first few rows for the columns related to the actual and predicted values:"
   ]
  },
  {
   "cell_type": "code",
   "execution_count": 23,
   "id": "ba0eeadc-038d-4558-9ebe-7b0ed4a97f52",
   "metadata": {},
   "outputs": [
    {
     "data": {
      "text/html": [
       "<div>\n",
       "<style scoped>\n",
       "    .dataframe tbody tr th:only-of-type {\n",
       "        vertical-align: middle;\n",
       "    }\n",
       "\n",
       "    .dataframe tbody tr th {\n",
       "        vertical-align: top;\n",
       "    }\n",
       "\n",
       "    .dataframe thead th {\n",
       "        text-align: right;\n",
       "    }\n",
       "</style>\n",
       "<table border=\"1\" class=\"dataframe\">\n",
       "  <thead>\n",
       "    <tr style=\"text-align: right;\">\n",
       "      <th></th>\n",
       "      <th>Class</th>\n",
       "      <th>predicted_Class</th>\n",
       "      <th>predicted_Class_probs</th>\n",
       "      <th>splits</th>\n",
       "    </tr>\n",
       "  </thead>\n",
       "  <tbody>\n",
       "    <tr>\n",
       "      <th>0</th>\n",
       "      <td>0</td>\n",
       "      <td>0</td>\n",
       "      <td>[{'label': 1, 'prob': 0.24617433290491922}, {'...</td>\n",
       "      <td>TEST</td>\n",
       "    </tr>\n",
       "    <tr>\n",
       "      <th>1</th>\n",
       "      <td>0</td>\n",
       "      <td>0</td>\n",
       "      <td>[{'label': 1, 'prob': 0.09579806595250205}, {'...</td>\n",
       "      <td>TEST</td>\n",
       "    </tr>\n",
       "    <tr>\n",
       "      <th>2</th>\n",
       "      <td>0</td>\n",
       "      <td>0</td>\n",
       "      <td>[{'label': 1, 'prob': 0.3972422603767649}, {'l...</td>\n",
       "      <td>TEST</td>\n",
       "    </tr>\n",
       "    <tr>\n",
       "      <th>3</th>\n",
       "      <td>0</td>\n",
       "      <td>0</td>\n",
       "      <td>[{'label': 1, 'prob': 0.04919217148317422}, {'...</td>\n",
       "      <td>TEST</td>\n",
       "    </tr>\n",
       "    <tr>\n",
       "      <th>4</th>\n",
       "      <td>0</td>\n",
       "      <td>0</td>\n",
       "      <td>[{'label': 1, 'prob': 0.05858495142679441}, {'...</td>\n",
       "      <td>TEST</td>\n",
       "    </tr>\n",
       "  </tbody>\n",
       "</table>\n",
       "</div>"
      ],
      "text/plain": [
       "   Class  predicted_Class                              predicted_Class_probs  \\\n",
       "0      0                0  [{'label': 1, 'prob': 0.24617433290491922}, {'...   \n",
       "1      0                0  [{'label': 1, 'prob': 0.09579806595250205}, {'...   \n",
       "2      0                0  [{'label': 1, 'prob': 0.3972422603767649}, {'l...   \n",
       "3      0                0  [{'label': 1, 'prob': 0.04919217148317422}, {'...   \n",
       "4      0                0  [{'label': 1, 'prob': 0.05858495142679441}, {'...   \n",
       "\n",
       "  splits  \n",
       "0   TEST  \n",
       "1   TEST  \n",
       "2   TEST  \n",
       "3   TEST  \n",
       "4   TEST  "
      ]
     },
     "execution_count": 23,
     "metadata": {},
     "output_type": "execute_result"
    }
   ],
   "source": [
    "pred[[VAR_TARGET, f'predicted_{VAR_TARGET}', f'predicted_{VAR_TARGET}_probs', 'splits']].head()"
   ]
  },
  {
   "cell_type": "markdown",
   "id": "a8803535-6145-4f3e-b17d-3c56261fb997",
   "metadata": {},
   "source": [
    "Notice the nested dictionary for predicted probabilities.  In BigQuery this is a Record type structure with nested fields for `label` and `prop`.  This is returned to the pandas dataframe as a nested dictionary.\n",
    "\n",
    "The following code sorts the dictionary for the first record by `prob`:"
   ]
  },
  {
   "cell_type": "code",
   "execution_count": 24,
   "id": "0fb3eec3-ea7e-4f2d-aa75-ee6ca8dab4d5",
   "metadata": {},
   "outputs": [
    {
     "data": {
      "text/plain": [
       "[[{'label': 0, 'prob': 0.7538256670950808},\n",
       "  {'label': 1, 'prob': 0.24617433290491922}]]"
      ]
     },
     "execution_count": 24,
     "metadata": {},
     "output_type": "execute_result"
    }
   ],
   "source": [
    "exec('temp = pred.predicted_'+VAR_TARGET+'_probs[0]')\n",
    "[sorted(x, key = lambda x: x['label']) for x in [temp]]"
   ]
  },
  {
   "cell_type": "markdown",
   "id": "60b7c5f6-2f88-4b14-9fc7-16d4c357cd8a",
   "metadata": {},
   "source": [
    "---\n",
    "## Explanations\n",
    "[Built-in](https://cloud.google.com/bigquery-ml/docs/reference/standard-sql/bigqueryml-syntax-xai-overview) capabilities to understand how features contributed to predictions both individually (local) and overall (global)."
   ]
  },
  {
   "cell_type": "markdown",
   "id": "6f6e466a-9884-4623-a35f-39318c2d0774",
   "metadata": {},
   "source": [
    "### Local Explainability\n",
    "Retrieve feature attribution values to interpret each features contribution to a prediction relative to the baseline prediction using [`ML.EXPLAIN_PREDICT`](https://cloud.google.com/bigquery-ml/docs/reference/standard-sql/bigqueryml-syntax-explain-predict)."
   ]
  },
  {
   "cell_type": "code",
   "execution_count": 25,
   "id": "568808a3-eda9-4a85-930d-350045deef96",
   "metadata": {},
   "outputs": [],
   "source": [
    "query = f\"\"\"\n",
    "SELECT *\n",
    "FROM ML.EXPLAIN_PREDICT (MODEL `{BQ_PROJECT}.{BQ_DATASET}.{BQ_MODEL}`,(\n",
    "    SELECT *\n",
    "    FROM `{BQ_PROJECT}.{BQ_DATASET}.{BQ_TABLE}`\n",
    "    WHERE splits = 'TEST'), STRUCT(10 as top_k_features)\n",
    "  )\n",
    "\"\"\"\n",
    "explain = bq.query(query = query).to_dataframe()"
   ]
  },
  {
   "cell_type": "code",
   "execution_count": 26,
   "id": "e18b35e4-7f8b-462a-9a75-b41a00a9ef6a",
   "metadata": {},
   "outputs": [
    {
     "data": {
      "text/html": [
       "<div>\n",
       "<style scoped>\n",
       "    .dataframe tbody tr th:only-of-type {\n",
       "        vertical-align: middle;\n",
       "    }\n",
       "\n",
       "    .dataframe tbody tr th {\n",
       "        vertical-align: top;\n",
       "    }\n",
       "\n",
       "    .dataframe thead th {\n",
       "        text-align: right;\n",
       "    }\n",
       "</style>\n",
       "<table border=\"1\" class=\"dataframe\">\n",
       "  <thead>\n",
       "    <tr style=\"text-align: right;\">\n",
       "      <th></th>\n",
       "      <th>trial_id</th>\n",
       "      <th>predicted_Class</th>\n",
       "      <th>probability</th>\n",
       "      <th>top_feature_attributions</th>\n",
       "      <th>baseline_prediction_value</th>\n",
       "      <th>prediction_value</th>\n",
       "      <th>approximation_error</th>\n",
       "      <th>Time</th>\n",
       "      <th>V1</th>\n",
       "      <th>V2</th>\n",
       "      <th>...</th>\n",
       "      <th>V23</th>\n",
       "      <th>V24</th>\n",
       "      <th>V25</th>\n",
       "      <th>V26</th>\n",
       "      <th>V27</th>\n",
       "      <th>V28</th>\n",
       "      <th>Amount</th>\n",
       "      <th>Class</th>\n",
       "      <th>transaction_id</th>\n",
       "      <th>splits</th>\n",
       "    </tr>\n",
       "  </thead>\n",
       "  <tbody>\n",
       "    <tr>\n",
       "      <th>0</th>\n",
       "      <td>11</td>\n",
       "      <td>0</td>\n",
       "      <td>0.753826</td>\n",
       "      <td>[{'feature': 'V4', 'attribution': 1.6081802243...</td>\n",
       "      <td>-2.640148</td>\n",
       "      <td>-1.119121</td>\n",
       "      <td>0.0</td>\n",
       "      <td>35337</td>\n",
       "      <td>1.092844</td>\n",
       "      <td>-0.013230</td>\n",
       "      <td>...</td>\n",
       "      <td>-0.167647</td>\n",
       "      <td>0.027557</td>\n",
       "      <td>0.592115</td>\n",
       "      <td>0.219695</td>\n",
       "      <td>0.036970</td>\n",
       "      <td>0.010984</td>\n",
       "      <td>0.0</td>\n",
       "      <td>0</td>\n",
       "      <td>a1b10547-d270-48c0-b902-7a0f735dadc7</td>\n",
       "      <td>TEST</td>\n",
       "    </tr>\n",
       "    <tr>\n",
       "      <th>1</th>\n",
       "      <td>11</td>\n",
       "      <td>0</td>\n",
       "      <td>0.904202</td>\n",
       "      <td>[{'feature': 'V13', 'attribution': 0.390408721...</td>\n",
       "      <td>-2.640148</td>\n",
       "      <td>-2.244810</td>\n",
       "      <td>0.0</td>\n",
       "      <td>60481</td>\n",
       "      <td>1.238973</td>\n",
       "      <td>0.035226</td>\n",
       "      <td>...</td>\n",
       "      <td>-0.057718</td>\n",
       "      <td>0.104983</td>\n",
       "      <td>0.537987</td>\n",
       "      <td>0.589563</td>\n",
       "      <td>-0.046207</td>\n",
       "      <td>-0.006212</td>\n",
       "      <td>0.0</td>\n",
       "      <td>0</td>\n",
       "      <td>814c62c8-ade4-47d5-bf83-313b0aafdee5</td>\n",
       "      <td>TEST</td>\n",
       "    </tr>\n",
       "    <tr>\n",
       "      <th>2</th>\n",
       "      <td>11</td>\n",
       "      <td>0</td>\n",
       "      <td>0.602758</td>\n",
       "      <td>[{'feature': 'V4', 'attribution': 2.2900910815...</td>\n",
       "      <td>-2.640148</td>\n",
       "      <td>-0.416969</td>\n",
       "      <td>0.0</td>\n",
       "      <td>139587</td>\n",
       "      <td>1.870539</td>\n",
       "      <td>0.211079</td>\n",
       "      <td>...</td>\n",
       "      <td>0.180776</td>\n",
       "      <td>-0.060226</td>\n",
       "      <td>-0.228979</td>\n",
       "      <td>0.080827</td>\n",
       "      <td>0.009868</td>\n",
       "      <td>-0.036997</td>\n",
       "      <td>0.0</td>\n",
       "      <td>0</td>\n",
       "      <td>d08a1bfa-85c5-4f1b-9537-1c5a93e6afd0</td>\n",
       "      <td>TEST</td>\n",
       "    </tr>\n",
       "    <tr>\n",
       "      <th>3</th>\n",
       "      <td>11</td>\n",
       "      <td>0</td>\n",
       "      <td>0.950808</td>\n",
       "      <td>[{'feature': 'V12', 'attribution': -0.28214770...</td>\n",
       "      <td>-2.640148</td>\n",
       "      <td>-2.961577</td>\n",
       "      <td>0.0</td>\n",
       "      <td>162908</td>\n",
       "      <td>-3.368339</td>\n",
       "      <td>-1.980442</td>\n",
       "      <td>...</td>\n",
       "      <td>-1.171627</td>\n",
       "      <td>0.214333</td>\n",
       "      <td>-0.159652</td>\n",
       "      <td>-0.060883</td>\n",
       "      <td>1.294977</td>\n",
       "      <td>0.120503</td>\n",
       "      <td>0.0</td>\n",
       "      <td>0</td>\n",
       "      <td>802f3307-8e5a-4475-b795-5d5d8d7d0120</td>\n",
       "      <td>TEST</td>\n",
       "    </tr>\n",
       "    <tr>\n",
       "      <th>4</th>\n",
       "      <td>11</td>\n",
       "      <td>0</td>\n",
       "      <td>0.941415</td>\n",
       "      <td>[{'feature': 'V14', 'attribution': -0.62786034...</td>\n",
       "      <td>-2.640148</td>\n",
       "      <td>-2.776906</td>\n",
       "      <td>0.0</td>\n",
       "      <td>165236</td>\n",
       "      <td>2.180149</td>\n",
       "      <td>0.218732</td>\n",
       "      <td>...</td>\n",
       "      <td>-0.176957</td>\n",
       "      <td>0.563779</td>\n",
       "      <td>0.730183</td>\n",
       "      <td>0.707494</td>\n",
       "      <td>-0.131066</td>\n",
       "      <td>-0.090428</td>\n",
       "      <td>0.0</td>\n",
       "      <td>0</td>\n",
       "      <td>c8a5b93a-1598-4689-80be-4f9f5df0b8ce</td>\n",
       "      <td>TEST</td>\n",
       "    </tr>\n",
       "  </tbody>\n",
       "</table>\n",
       "<p>5 rows × 40 columns</p>\n",
       "</div>"
      ],
      "text/plain": [
       "   trial_id  predicted_Class  probability  \\\n",
       "0        11                0     0.753826   \n",
       "1        11                0     0.904202   \n",
       "2        11                0     0.602758   \n",
       "3        11                0     0.950808   \n",
       "4        11                0     0.941415   \n",
       "\n",
       "                            top_feature_attributions  \\\n",
       "0  [{'feature': 'V4', 'attribution': 1.6081802243...   \n",
       "1  [{'feature': 'V13', 'attribution': 0.390408721...   \n",
       "2  [{'feature': 'V4', 'attribution': 2.2900910815...   \n",
       "3  [{'feature': 'V12', 'attribution': -0.28214770...   \n",
       "4  [{'feature': 'V14', 'attribution': -0.62786034...   \n",
       "\n",
       "   baseline_prediction_value  prediction_value  approximation_error    Time  \\\n",
       "0                  -2.640148         -1.119121                  0.0   35337   \n",
       "1                  -2.640148         -2.244810                  0.0   60481   \n",
       "2                  -2.640148         -0.416969                  0.0  139587   \n",
       "3                  -2.640148         -2.961577                  0.0  162908   \n",
       "4                  -2.640148         -2.776906                  0.0  165236   \n",
       "\n",
       "         V1        V2  ...       V23       V24       V25       V26       V27  \\\n",
       "0  1.092844 -0.013230  ... -0.167647  0.027557  0.592115  0.219695  0.036970   \n",
       "1  1.238973  0.035226  ... -0.057718  0.104983  0.537987  0.589563 -0.046207   \n",
       "2  1.870539  0.211079  ...  0.180776 -0.060226 -0.228979  0.080827  0.009868   \n",
       "3 -3.368339 -1.980442  ... -1.171627  0.214333 -0.159652 -0.060883  1.294977   \n",
       "4  2.180149  0.218732  ... -0.176957  0.563779  0.730183  0.707494 -0.131066   \n",
       "\n",
       "        V28  Amount  Class                        transaction_id  splits  \n",
       "0  0.010984     0.0      0  a1b10547-d270-48c0-b902-7a0f735dadc7    TEST  \n",
       "1 -0.006212     0.0      0  814c62c8-ade4-47d5-bf83-313b0aafdee5    TEST  \n",
       "2 -0.036997     0.0      0  d08a1bfa-85c5-4f1b-9537-1c5a93e6afd0    TEST  \n",
       "3  0.120503     0.0      0  802f3307-8e5a-4475-b795-5d5d8d7d0120    TEST  \n",
       "4 -0.090428     0.0      0  c8a5b93a-1598-4689-80be-4f9f5df0b8ce    TEST  \n",
       "\n",
       "[5 rows x 40 columns]"
      ]
     },
     "execution_count": 26,
     "metadata": {},
     "output_type": "execute_result"
    }
   ],
   "source": [
    "explain.head()"
   ]
  },
  {
   "cell_type": "markdown",
   "id": "c6a5ebf3-9585-41b6-8638-fd215ee22c4f",
   "metadata": {},
   "source": [
    "Create a plot of feature attributions for a single prediction:"
   ]
  },
  {
   "cell_type": "code",
   "execution_count": 27,
   "id": "653510f0-30f7-4076-8b3c-73c28f115b6f",
   "metadata": {},
   "outputs": [],
   "source": [
    "explanation = explain.iloc[0]['top_feature_attributions']"
   ]
  },
  {
   "cell_type": "code",
   "execution_count": 28,
   "id": "b3f944c3-6d8f-4e6b-9954-c2c243acd9dd",
   "metadata": {},
   "outputs": [
    {
     "data": {
      "image/png": "[encoded data removed]",
      "text/plain": [
       "<Figure size 1080x360 with 1 Axes>"
      ]
     },
     "metadata": {
      "needs_background": "light"
     },
     "output_type": "display_data"
    }
   ],
   "source": [
    "features = []\n",
    "scores = []\n",
    "for k in explanation:\n",
    "    features.append(k['feature'])\n",
    "    scores.append(k['attribution'])\n",
    "features = [x for _, x in sorted(zip(scores, features))]\n",
    "scores = sorted(scores)\n",
    "\n",
    "plt.figure(figsize=(15,5))\n",
    "plt.barh(features, scores)\n",
    "plt.title('Feature Attribution for Prediction')\n",
    "plt.show()"
   ]
  },
  {
   "cell_type": "markdown",
   "id": "50921daa-d5e5-4328-b557-7c0d8f9688ff",
   "metadata": {},
   "source": [
    "### Global Explainability\n",
    "Retrieve the influence of each feature on the model with [`ML.GLOBAL_EXPLAIN`](https://cloud.google.com/bigquery-ml/docs/reference/standard-sql/bigqueryml-syntax-global-explain).  "
   ]
  },
  {
   "cell_type": "code",
   "execution_count": 29,
   "id": "9435b59c-d1bc-4e1a-adec-bed4e7a3dcdf",
   "metadata": {},
   "outputs": [],
   "source": [
    "query = f\"\"\"\n",
    "SELECT *\n",
    "FROM ML.GLOBAL_EXPLAIN (MODEL `{BQ_PROJECT}.{BQ_DATASET}.{BQ_MODEL}`)\n",
    "\"\"\"\n",
    "gexplain = bq.query(query = query).to_dataframe()"
   ]
  },
  {
   "cell_type": "code",
   "execution_count": 30,
   "id": "0dc8c2ee-d358-43a5-834b-6325c997f6d5",
   "metadata": {},
   "outputs": [
    {
     "data": {
      "text/html": [
       "<div>\n",
       "<style scoped>\n",
       "    .dataframe tbody tr th:only-of-type {\n",
       "        vertical-align: middle;\n",
       "    }\n",
       "\n",
       "    .dataframe tbody tr th {\n",
       "        vertical-align: top;\n",
       "    }\n",
       "\n",
       "    .dataframe thead th {\n",
       "        text-align: right;\n",
       "    }\n",
       "</style>\n",
       "<table border=\"1\" class=\"dataframe\">\n",
       "  <thead>\n",
       "    <tr style=\"text-align: right;\">\n",
       "      <th></th>\n",
       "      <th>trial_id</th>\n",
       "      <th>feature</th>\n",
       "      <th>attribution</th>\n",
       "    </tr>\n",
       "  </thead>\n",
       "  <tbody>\n",
       "    <tr>\n",
       "      <th>0</th>\n",
       "      <td>11</td>\n",
       "      <td>V4</td>\n",
       "      <td>0.625590</td>\n",
       "    </tr>\n",
       "    <tr>\n",
       "      <th>1</th>\n",
       "      <td>11</td>\n",
       "      <td>V14</td>\n",
       "      <td>0.450314</td>\n",
       "    </tr>\n",
       "    <tr>\n",
       "      <th>2</th>\n",
       "      <td>11</td>\n",
       "      <td>V12</td>\n",
       "      <td>0.358059</td>\n",
       "    </tr>\n",
       "    <tr>\n",
       "      <th>3</th>\n",
       "      <td>11</td>\n",
       "      <td>V13</td>\n",
       "      <td>0.177850</td>\n",
       "    </tr>\n",
       "    <tr>\n",
       "      <th>4</th>\n",
       "      <td>11</td>\n",
       "      <td>V10</td>\n",
       "      <td>0.143357</td>\n",
       "    </tr>\n",
       "  </tbody>\n",
       "</table>\n",
       "</div>"
      ],
      "text/plain": [
       "   trial_id feature  attribution\n",
       "0        11      V4     0.625590\n",
       "1        11     V14     0.450314\n",
       "2        11     V12     0.358059\n",
       "3        11     V13     0.177850\n",
       "4        11     V10     0.143357"
      ]
     },
     "execution_count": 30,
     "metadata": {},
     "output_type": "execute_result"
    }
   ],
   "source": [
    "gexplain.head()"
   ]
  },
  {
   "cell_type": "code",
   "execution_count": 31,
   "id": "45cf7c3f-e84e-4d96-8eb6-cb04c3c4fbbe",
   "metadata": {},
   "outputs": [
    {
     "data": {
      "image/png": "[encoded data removed]",
      "text/plain": [
       "<Figure size 1080x576 with 1 Axes>"
      ]
     },
     "metadata": {
      "needs_background": "light"
     },
     "output_type": "display_data"
    }
   ],
   "source": [
    "plt.figure(figsize=(15,8))\n",
    "plt.barh(gexplain['feature'], gexplain['attribution'])\n",
    "plt.title('Global Influence')\n",
    "plt.xlabel('Attribution')\n",
    "#plt.ylabel('Feature')\n",
    "plt.show()"
   ]
  },
  {
   "cell_type": "markdown",
   "id": "faada679-6333-4c43-8fd4-6e5fa413b910",
   "metadata": {},
   "source": [
    "---\n",
    "## Serving With Vertex AI\n",
    "\n",
    "This demonstration shows the process of exporting and registering a BQML model with Vertex AI Model Registry.  To directly integrate BQML with Vertex AI Model Registry it is now (April 1, 2022) possible at model creation time with options `vertex_ai_model_id` and `vertex_ai_model_version_alises`. See the documentation for this direct integration [here](https://cloud.google.com/bigquery-ml/docs/managing-models-vertex)."
   ]
  },
  {
   "cell_type": "markdown",
   "id": "a01458c5-9bf8-4e24-b517-0e12fe58c64d",
   "metadata": {},
   "source": [
    "### Export the BigQuery Model\n",
    "\n",
    "Reference: [Export the BigQuery Model](https://cloud.google.com/bigquery-ml/docs/exporting-models)"
   ]
  },
  {
   "cell_type": "code",
   "execution_count": 32,
   "id": "b1101869-7067-496c-a913-6da79e536c62",
   "metadata": {},
   "outputs": [
    {
     "data": {
      "text/plain": [
       "<google.cloud.bigquery.table._EmptyRowIterator at 0x7f695425c690>"
      ]
     },
     "execution_count": 32,
     "metadata": {},
     "output_type": "execute_result"
    }
   ],
   "source": [
    "query = f\"\"\"\n",
    "EXPORT MODEL `{BQ_PROJECT}.{BQ_DATASET}.{BQ_MODEL}`\n",
    "    OPTIONS (URI = '{URI}/models/{TIMESTAMP}/model')\n",
    "\"\"\"\n",
    "export = bq.query(query = query)\n",
    "export.result()"
   ]
  },
  {
   "cell_type": "code",
   "execution_count": 33,
   "id": "8f763ae4-565a-452f-921f-d0795c229315",
   "metadata": {},
   "outputs": [
    {
     "data": {
      "text/plain": [
       "23.04"
      ]
     },
     "execution_count": 33,
     "metadata": {},
     "output_type": "execute_result"
    }
   ],
   "source": [
    "(export.ended - export.started).total_seconds()"
   ]
  },
  {
   "cell_type": "code",
   "execution_count": 34,
   "id": "4a6f4d6d-c07a-4083-ae9c-6c1b79227ce9",
   "metadata": {},
   "outputs": [
    {
     "data": {
      "text/plain": [
       "['gs://statmike-mlops-349915/03/03f/models/20221003130014/model/',\n",
       " 'gs://statmike-mlops-349915/03/03f/models/20221003130014/model/saved_model.pb',\n",
       " 'gs://statmike-mlops-349915/03/03f/models/20221003130014/model/variables/']"
      ]
     },
     "execution_count": 34,
     "metadata": {},
     "output_type": "execute_result"
    }
   ],
   "source": [
    "listing = !gsutil ls {URI}/models/{TIMESTAMP}/model\n",
    "listing"
   ]
  },
  {
   "cell_type": "code",
   "execution_count": 35,
   "id": "8c523ecb-b0da-4590-9a60-4da94da1051e",
   "metadata": {},
   "outputs": [
    {
     "name": "stdout",
     "output_type": "stream",
     "text": [
      "View the export in the console:\n",
      "https://console.cloud.google.com/storage/browser/statmike-mlops-349915/03/03f/models/20221003130014/model?project=statmike-mlops-349915\n"
     ]
    }
   ],
   "source": [
    "print(f\"View the export in the console:\\nhttps://console.cloud.google.com/storage/browser/{URI.split('//')[-1]}/models/{TIMESTAMP}/model?project={PROJECT_ID}\")"
   ]
  },
  {
   "cell_type": "markdown",
   "id": "eb3954d4-0482-40af-a002-e8efe4a5a0cd",
   "metadata": {},
   "source": [
    "### Detect The Model Types Framework"
   ]
  },
  {
   "cell_type": "code",
   "execution_count": 36,
   "id": "a9f82ccb-e9b1-449c-bb24-39fe2db0a893",
   "metadata": {},
   "outputs": [
    {
     "name": "stdout",
     "output_type": "stream",
     "text": [
      "framework = TensorFlow\n"
     ]
    }
   ],
   "source": [
    "filetype = {'pb': 'TensorFlow', 'bst': 'XGBoost'}\n",
    "\n",
    "filetypes = [filetype[f.split('.')[-1]] for f in listing if f.split('.')[-1] in ['pb','bst']]\n",
    "if len(filetypes) == 1:\n",
    "    framework = filetypes[0]\n",
    "    print(f'framework = {framework}')\n",
    "else:\n",
    "    raise TypeError(f\"Model Type Undeteremined!! Review the contents of of 'listing = {listing}'.\")"
   ]
  },
  {
   "cell_type": "markdown",
   "id": "c82cc639-4112-4fc9-b83b-a04b35105644",
   "metadata": {},
   "source": [
    "Set the `DEPLOY_IMAGE` based on the framework:"
   ]
  },
  {
   "cell_type": "code",
   "execution_count": 37,
   "id": "9facb872-2ef7-4d8c-8693-965ba56704c6",
   "metadata": {},
   "outputs": [
    {
     "data": {
      "text/plain": [
       "'us-docker.pkg.dev/vertex-ai/prediction/tf2-cpu.2-3:latest'"
      ]
     },
     "execution_count": 37,
     "metadata": {},
     "output_type": "execute_result"
    }
   ],
   "source": [
    "if framework == 'TensorFlow':\n",
    "    DEPLOY_IMAGE = TF_DEPLOY_IMAGE\n",
    "elif framework == 'XGBoost':\n",
    "    DEPLOY_IMAGE = XGB_DEPLOY_IMAGE\n",
    "    \n",
    "DEPLOY_IMAGE"
   ]
  },
  {
   "cell_type": "markdown",
   "id": "0308ff15-ca2f-417c-898e-8ad435876aa5",
   "metadata": {},
   "source": [
    "### Upload The Model To Vertex AI Model Registry\n",
    "References:\n",
    "- Python SDK for [`aiplatform.Model`](https://googleapis.dev/python/aiplatform/latest/aiplatform/services.html#google.cloud.aiplatform.Model)\n",
    "- Python Client for [`aiplatform.Model`](https://cloud.google.com/python/docs/reference/aiplatform/latest/google.cloud.aiplatform.Model)"
   ]
  },
  {
   "cell_type": "code",
   "execution_count": 38,
   "id": "5ec5722c-00a3-4679-94ee-46d26f5f8785",
   "metadata": {},
   "outputs": [
    {
     "name": "stdout",
     "output_type": "stream",
     "text": [
      "This is a new model, adding to model registry as version 1\n",
      "Creating Model\n",
      "Create Model backing LRO: projects/1026793852137/locations/us-central1/models/model_03_03f/operations/3426155541561344000\n",
      "Model created. Resource name: projects/1026793852137/locations/us-central1/models/2485525199424847872@1\n",
      "To use this Model in another session:\n",
      "model = aiplatform.Model('projects/1026793852137/locations/us-central1/models/2485525199424847872@1')\n"
     ]
    }
   ],
   "source": [
    "modelmatch = aiplatform.Model.list(filter = f'display_name={SERIES}_{EXPERIMENT} AND labels.series={SERIES} AND labels.experiment={EXPERIMENT}')\n",
    "\n",
    "upload_model = True\n",
    "if modelmatch:\n",
    "    print(\"Model Already in Registry:\")\n",
    "    if RUN_NAME in modelmatch[0].version_aliases:\n",
    "        print(\"This version already loaded, no action taken.\")\n",
    "        upload_model = False\n",
    "        model = aiplatform.Model(model_name = modelmatch[0].resource_name)\n",
    "    else:\n",
    "        print('Loading model as new default version.')\n",
    "        parent_model =  modelmatch[0].resource_name\n",
    "else:\n",
    "    print('This is a new model, adding to model registry as version 1')\n",
    "    parent_model = ''\n",
    "\n",
    "if upload_model:\n",
    "    model = aiplatform.Model.upload(\n",
    "        display_name = f'{SERIES}_{EXPERIMENT}',\n",
    "        model_id = f'model_{SERIES}_{EXPERIMENT}',\n",
    "        parent_model = parent_model,\n",
    "        serving_container_image_uri = DEPLOY_IMAGE,\n",
    "        artifact_uri = f\"{URI}/models/{TIMESTAMP}/model\",\n",
    "        is_default_version = True,\n",
    "        version_aliases = [RUN_NAME],\n",
    "        version_description = RUN_NAME,\n",
    "        labels = {'series' : f'{SERIES}', 'experiment' : f'{EXPERIMENT}', 'timestamp': f'{TIMESTAMP}', 'run_name' : f'{RUN_NAME}', 'framework' : f'{framework.lower()}'}\n",
    "    )  "
   ]
  },
  {
   "cell_type": "code",
   "execution_count": 39,
   "id": "3c952ee1-0226-441d-acce-294eb981358f",
   "metadata": {},
   "outputs": [
    {
     "data": {
      "text/plain": [
       "'03_03f'"
      ]
     },
     "execution_count": 39,
     "metadata": {},
     "output_type": "execute_result"
    }
   ],
   "source": [
    "model.display_name"
   ]
  },
  {
   "cell_type": "code",
   "execution_count": 40,
   "id": "e7a7c4e6-cc6a-4813-8446-1164a9961078",
   "metadata": {},
   "outputs": [
    {
     "data": {
      "text/plain": [
       "'projects/1026793852137/locations/us-central1/models/2485525199424847872'"
      ]
     },
     "execution_count": 40,
     "metadata": {},
     "output_type": "execute_result"
    }
   ],
   "source": [
    "model.resource_name"
   ]
  },
  {
   "cell_type": "code",
   "execution_count": 41,
   "id": "c80203c9-3bfb-4ad9-a010-594c897a4cca",
   "metadata": {},
   "outputs": [
    {
     "name": "stdout",
     "output_type": "stream",
     "text": [
      "View the model in the Vertex AI Console:\n",
      "https://console.cloud.google.com/vertex-ai/locations/us-central1/models/model_03_03f?project=statmike-mlops-349915\n"
     ]
    }
   ],
   "source": [
    "print(f\"View the model in the Vertex AI Console:\\nhttps://console.cloud.google.com/vertex-ai/locations/{REGION}/models/model_{SERIES}_{EXPERIMENT}?project={PROJECT_ID}\")"
   ]
  },
  {
   "cell_type": "markdown",
   "id": "0b461a6b-7dd1-438c-a55e-572da9f2b01e",
   "metadata": {},
   "source": [
    "---\n",
    "## Online Predictions with Vertex AI Endpoints\n",
    "Check out the notebook [03Tools - Predictions](./03Tools%20-%20Predictions.ipynb) to see how to use this model with [online predictions in Vertex AI](https://cloud.google.com/vertex-ai/docs/predictions/online-predictions-custom-models)."
   ]
  },
  {
   "cell_type": "markdown",
   "id": "54d8ec83-0ef9-4cb7-a57d-c0fd54890eea",
   "metadata": {},
   "source": [
    "---\n",
    "## Remove Resources\n",
    "see notebook \"99 - Cleanup\""
   ]
  }
 ],
 "metadata": {
  "environment": {
   "kernel": "python3",
   "name": "tf2-gpu.2-3.m94",
   "type": "gcloud",
   "uri": "gcr.io/deeplearning-platform-release/tf2-gpu.2-3:m94"
  },
  "kernelspec": {
   "display_name": "Python 3",
   "language": "python",
   "name": "python3"
  },
  "language_info": {
   "codemirror_mode": {
    "name": "ipython",
    "version": 3
   },
   "file_extension": ".py",
   "mimetype": "text/x-python",
   "name": "python",
   "nbconvert_exporter": "python",
   "pygments_lexer": "ipython3",
   "version": "3.7.12"
  }
 },
 "nbformat": 4,
 "nbformat_minor": 5
}
