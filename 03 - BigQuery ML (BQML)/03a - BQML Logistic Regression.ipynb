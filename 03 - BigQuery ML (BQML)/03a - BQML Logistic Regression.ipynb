{
 "cells": [
  {
   "cell_type": "markdown",
   "id": "b3ccbadc",
   "metadata": {},
   "source": [
    "# 03a - BigQuery ML (BQML) - Logistic Regression For Classification\n",
    "\n",
    ">**Note:** Formerly named `03a - BigQuery Machine Learning (BQML) - Machine Learning with SQL.ipynb`.  This [link](https://github.com/statmike/vertex-ai-mlops/blob/fd442b458c710a0a7afdc41bae690d2a3282e93c/03a%20-%20BigQuery%20Machine%20Learning%20(BQML)%20-%20Machine%20Learning%20with%20SQL.ipynb) goes to the previous version featured in the video.\n",
    "\n",
    "In this notebook, BigQuery ML (BQML) is used to create a logistic regression model.\n",
    "\n",
    "**Logistic Regression**\n",
    "\n",
    "Logistic Regression is a statistical model for the probability, `p`, of a class.  This is accomplished by fitting a linear combination of the features to the log-odds of the class.  The log-odds is called the logit and is the logarithm ($ln$) of the odds ($\\frac{p}{1-p}$).  This is a supervised learning approach where the labels, classes, are learned as function of the features.  While the model is estimating the probability of a class `p` which might be considered regression, the probabilities are used to assign a class which is classification.\n",
    "\n",
    "Reference:\n",
    "- [Logistic Regression](https://en.wikipedia.org/wiki/Logistic_regression)\n",
    "- [Supervised Learning](https://en.wikipedia.org/wiki/Supervised_learning)\n",
    "\n",
    "**BigQuery ML (BQML)**\n",
    "\n",
    "BigQuery has a number of machine learning algorithms callable directly from SQL.  This gives the convenience of using the common language of `SQL` with statments like `CREATE MODEL …`.  The library of available models is constantly growing and covers supervised, unsupervised, and time series methods as well as functions for evaluation - even anomaly detection from results, explainability and hyperparameter tuning.  A great starting point for seeing the scope of available methods is the [user journey for models](https://cloud.google.com/bigquery-ml/docs/reference/standard-sql/bigqueryml-syntax-e2e-journey).\n",
    "\n",
    "**Video Walkthrough of this notebook:**\n",
    "\n",
    "Includes conversational walkthrough and more explanatory information than the notebook:\n",
    "\n",
    "<p align=\"center\" width=\"100%\"><center><a href=\"https://youtu.be/IcVyP_ZAXmY\" target=\"_blank\" rel=\"noopener noreferrer\"><img src=\"../architectures/thumbnails/playbutton/03a.png\" width=\"40%\"></a></center></p>\n",
    "\n",
    "\n",
    "**Prerequisites:**\n",
    "- [01 - BigQuery - Table Data Source](../01%20-%20Data%20Sources/01%20-%20BigQuery%20-%20Table%20Data%20Source.ipynb)\n",
    "\n",
    "**Resources:**\n",
    "- [BigQuery ML (BQML) Overview](https://cloud.google.com/bigquery-ml/docs/introduction)\n",
    "- [Overview of BQML methods and workflows](https://cloud.google.com/bigquery-ml/docs/reference/standard-sql/bigqueryml-syntax-e2e-journey)\n",
    "- [BigQuery](https://cloud.google.com/bigquery)\n",
    "    - [Documentation:](https://cloud.google.com/bigquery/docs/query-overview)\n",
    "    - [API:](https://cloud.google.com/bigquery/docs/reference/libraries-overview)\n",
    "        - [Clients](https://cloud.google.com/bigquery/docs/reference/libraries)\n",
    "            - [Python SDK:](https://github.com/googleapis/python-bigquery)\n",
    "            - [Python Library Reference:](https://cloud.google.com/python/docs/reference/bigquery/latest)\n",
    "- [Vertex AI](https://cloud.google.com/vertex-ai)\n",
    "    - [Documentation:](https://cloud.google.com/vertex-ai/docs/start/introduction-unified-platform)\n",
    "    - [API:](https://cloud.google.com/vertex-ai/docs/reference)\n",
    "        - [Clients:](https://cloud.google.com/vertex-ai/docs/start/client-libraries)\n",
    "            - [Python SDK:](https://github.com/googleapis/python-aiplatform)\n",
    "            - [Python Library Reference:](https://cloud.google.com/python/docs/reference/aiplatform/latest)\n",
    "\n",
    "**Conceptual Flow & Workflow**\n",
    "<p align=\"center\">\n",
    "  <img alt=\"Conceptual Flow\" src=\"../architectures/slides/03a_arch.png\" width=\"45%\">\n",
    "&nbsp; &nbsp; &nbsp; &nbsp;\n",
    "  <img alt=\"Workflow\" src=\"../architectures/slides/03a_console.png\" width=\"45%\">\n",
    "</p>"
   ]
  },
  {
   "cell_type": "markdown",
   "id": "9efb7249",
   "metadata": {},
   "source": [
    "---\n",
    "## Setup"
   ]
  },
  {
   "cell_type": "markdown",
   "id": "5120acf8",
   "metadata": {},
   "source": [
    "inputs:"
   ]
  },
  {
   "cell_type": "code",
   "execution_count": 1,
   "id": "e835bf74-e1c7-4802-9744-c7c41936d3f8",
   "metadata": {},
   "outputs": [
    {
     "data": {
      "text/plain": [
       "'google.com:cbo-mnl'"
      ]
     },
     "execution_count": 1,
     "metadata": {},
     "output_type": "execute_result"
    }
   ],
   "source": [
    "project = !gcloud config get-value project\n",
    "PROJECT_ID = project[0]\n",
    "PROJECT_ID"
   ]
  },
  {
   "cell_type": "code",
   "execution_count": 2,
   "id": "d7e73d29",
   "metadata": {},
   "outputs": [],
   "source": [
    "REGION = 'us-central1'\n",
    "EXPERIMENT = '03a'\n",
    "SERIES = '03'\n",
    "\n",
    "# source data\n",
    "BQ_PROJECT = PROJECT_ID\n",
    "BQ_DATASET = 'fraud'\n",
    "BQ_TABLE = 'fraud_prepped'\n",
    "\n",
    "# Resources for serving BigQuery Model Exports\n",
    "TF_DEPLOY_IMAGE = 'us-docker.pkg.dev/vertex-ai/prediction/tf2-cpu.2-3:latest'\n",
    "XGB_DEPLOY_IMAGE = 'us-docker.pkg.dev/vertex-ai/prediction/xgboost-cpu.0-82:latest'\n",
    "\n",
    "# Resources for serving BigQuery Model Exports\n",
    "DEPLOY_COMPUTE = 'n1-standard-4'\n",
    "\n",
    "# Model Training\n",
    "VAR_TARGET = 'Class'\n",
    "VAR_OMIT = 'transaction_id' # add more variables to the string with space delimiters"
   ]
  },
  {
   "cell_type": "markdown",
   "id": "4aa71004",
   "metadata": {},
   "source": [
    "packages:"
   ]
  },
  {
   "cell_type": "code",
   "execution_count": 145,
   "id": "4aa7cd23",
   "metadata": {},
   "outputs": [],
   "source": [
    "from google.cloud import bigquery\n",
    "from google.cloud import aiplatform\n",
    "from datetime import datetime\n",
    "import matplotlib.pyplot as plt\n",
    "from sklearn import metrics\n",
    "\n",
    "from google.api import httpbody_pb2\n",
    "import json"
   ]
  },
  {
   "cell_type": "markdown",
   "id": "dbe01073",
   "metadata": {},
   "source": [
    "clients:"
   ]
  },
  {
   "cell_type": "code",
   "execution_count": 146,
   "id": "3baa671e",
   "metadata": {},
   "outputs": [],
   "source": [
    "bq = bigquery.Client()\n",
    "aiplatform.init(project=PROJECT_ID, location=REGION)"
   ]
  },
  {
   "cell_type": "markdown",
   "id": "bb3081f4-addd-4ea5-b192-e0649eadd511",
   "metadata": {},
   "source": [
    "parameters:"
   ]
  },
  {
   "cell_type": "code",
   "execution_count": 5,
   "id": "8b9b5149-0f20-4a44-8d5b-debba31c2d17",
   "metadata": {},
   "outputs": [],
   "source": [
    "TIMESTAMP = datetime.now().strftime(\"%Y%m%d%H%M%S\")\n",
    "BUCKET = 'jonas-ai-experiment'\n",
    "URI = f\"gs://{BUCKET}/{SERIES}/{EXPERIMENT}\"\n",
    "RUN_NAME = f'run-{TIMESTAMP}'\n",
    "\n",
    "BQ_MODEL = f'{SERIES}_{EXPERIMENT}_{TIMESTAMP}'"
   ]
  },
  {
   "cell_type": "markdown",
   "id": "ef28426e-6ee5-4a97-8de2-83a13d2bd6c9",
   "metadata": {},
   "source": [
    "environment:"
   ]
  },
  {
   "cell_type": "code",
   "execution_count": 92,
   "id": "cc2f1b43",
   "metadata": {},
   "outputs": [],
   "source": [
    "DIR = f\"temp/{EXPERIMENT}\"\n",
    "\n",
    "!rm -rf {DIR}\n",
    "!mkdir -p {DIR}"
   ]
  },
  {
   "cell_type": "markdown",
   "id": "df8c0e3d-ae3b-4a4d-bbbe-bb03011b23df",
   "metadata": {},
   "source": [
    "---\n",
    "## Review Data\n",
    "\n",
    "The data source here was prepared in [01 - BigQuery - Table Data Source](../01%20-%20Data%20Sources/01%20-%20BigQuery%20-%20Table%20Data%20Source.ipynb).  In this notebook we will use prepared BigQuery table to build a model with BigQuery ML (BQML).\n",
    "\n",
    "This is a table of 284,807 credit card transactions classified as fradulant or normal in the column `Class`.  In order protect confidentiality, the original features have been transformed using [principle component analysis (PCA)](https://en.wikipedia.org/wiki/Principal_component_analysis) into 28 features named `V1, V2, ... V28` (float).  Two descriptive features are provided without transformation by PCA:\n",
    "- `Time` (integer) is the seconds elapsed between the transaction and the earliest transaction in the table\n",
    "- `Amount` (float) is the value of the transaction\n",
    "\n",
    "The data preparation included added splits for machine learning with a column named `splits` with 80% for training (`TRAIN`), 10% for validation (`VALIDATE`) and 10% for testing (`TEST`).  Additionally, a unique identifier was added to each transaction, `transaction_id`.  "
   ]
  },
  {
   "cell_type": "markdown",
   "id": "3e24d41f-35b9-4f66-b287-3608f02f842d",
   "metadata": {},
   "source": [
    "Review the number of records for each level of Class (VAR_TARGET) for each of the data splits:"
   ]
  },
  {
   "cell_type": "code",
   "execution_count": 31,
   "id": "ff09e056-b0f5-414e-8e82-d4d3c12159c7",
   "metadata": {},
   "outputs": [
    {
     "data": {
      "text/html": [
       "<div>\n",
       "<style scoped>\n",
       "    .dataframe tbody tr th:only-of-type {\n",
       "        vertical-align: middle;\n",
       "    }\n",
       "\n",
       "    .dataframe tbody tr th {\n",
       "        vertical-align: top;\n",
       "    }\n",
       "\n",
       "    .dataframe thead th {\n",
       "        text-align: right;\n",
       "    }\n",
       "</style>\n",
       "<table border=\"1\" class=\"dataframe\">\n",
       "  <thead>\n",
       "    <tr style=\"text-align: right;\">\n",
       "      <th></th>\n",
       "      <th>splits</th>\n",
       "      <th>Class</th>\n",
       "      <th>n</th>\n",
       "    </tr>\n",
       "  </thead>\n",
       "  <tbody>\n",
       "    <tr>\n",
       "      <th>0</th>\n",
       "      <td>TEST</td>\n",
       "      <td>0</td>\n",
       "      <td>28455</td>\n",
       "    </tr>\n",
       "    <tr>\n",
       "      <th>1</th>\n",
       "      <td>TEST</td>\n",
       "      <td>1</td>\n",
       "      <td>47</td>\n",
       "    </tr>\n",
       "    <tr>\n",
       "      <th>2</th>\n",
       "      <td>TRAIN</td>\n",
       "      <td>0</td>\n",
       "      <td>227664</td>\n",
       "    </tr>\n",
       "    <tr>\n",
       "      <th>3</th>\n",
       "      <td>TRAIN</td>\n",
       "      <td>1</td>\n",
       "      <td>397</td>\n",
       "    </tr>\n",
       "    <tr>\n",
       "      <th>4</th>\n",
       "      <td>VALIDATE</td>\n",
       "      <td>0</td>\n",
       "      <td>28196</td>\n",
       "    </tr>\n",
       "    <tr>\n",
       "      <th>5</th>\n",
       "      <td>VALIDATE</td>\n",
       "      <td>1</td>\n",
       "      <td>48</td>\n",
       "    </tr>\n",
       "  </tbody>\n",
       "</table>\n",
       "</div>"
      ],
      "text/plain": [
       "     splits  Class       n\n",
       "0      TEST      0   28455\n",
       "1      TEST      1      47\n",
       "2     TRAIN      0  227664\n",
       "3     TRAIN      1     397\n",
       "4  VALIDATE      0   28196\n",
       "5  VALIDATE      1      48"
      ]
     },
     "execution_count": 31,
     "metadata": {},
     "output_type": "execute_result"
    }
   ],
   "source": [
    "query = f\"\"\"\n",
    "SELECT splits, {VAR_TARGET}, count(*) as n\n",
    "FROM `{BQ_PROJECT}.{BQ_DATASET}.{BQ_TABLE}`\n",
    "GROUP BY splits, {VAR_TARGET}\n",
    "\"\"\"\n",
    "bq.query(query = query).to_dataframe()"
   ]
  },
  {
   "cell_type": "markdown",
   "id": "aed9c61c-3c3c-46a4-b533-4010993b9d41",
   "metadata": {},
   "source": [
    "Further review the balance of the target variable (VAR_TARGET) for each split as a percentage of the split:"
   ]
  },
  {
   "cell_type": "code",
   "execution_count": 32,
   "id": "09b42087-032c-4775-97da-5e074bb4baa7",
   "metadata": {},
   "outputs": [
    {
     "data": {
      "text/html": [
       "<div>\n",
       "<style scoped>\n",
       "    .dataframe tbody tr th:only-of-type {\n",
       "        vertical-align: middle;\n",
       "    }\n",
       "\n",
       "    .dataframe tbody tr th {\n",
       "        vertical-align: top;\n",
       "    }\n",
       "\n",
       "    .dataframe thead th {\n",
       "        text-align: right;\n",
       "    }\n",
       "</style>\n",
       "<table border=\"1\" class=\"dataframe\">\n",
       "  <thead>\n",
       "    <tr style=\"text-align: right;\">\n",
       "      <th></th>\n",
       "      <th>splits</th>\n",
       "      <th>Class</th>\n",
       "      <th>n</th>\n",
       "      <th>total</th>\n",
       "      <th>n_pct_class</th>\n",
       "      <th>n_pct_split</th>\n",
       "      <th>class_pct_total</th>\n",
       "    </tr>\n",
       "  </thead>\n",
       "  <tbody>\n",
       "    <tr>\n",
       "      <th>0</th>\n",
       "      <td>TRAIN</td>\n",
       "      <td>0</td>\n",
       "      <td>227664</td>\n",
       "      <td>284807</td>\n",
       "      <td>0.800746</td>\n",
       "      <td>0.998259</td>\n",
       "      <td>0.998273</td>\n",
       "    </tr>\n",
       "    <tr>\n",
       "      <th>1</th>\n",
       "      <td>TRAIN</td>\n",
       "      <td>1</td>\n",
       "      <td>397</td>\n",
       "      <td>284807</td>\n",
       "      <td>0.806911</td>\n",
       "      <td>0.001741</td>\n",
       "      <td>0.001727</td>\n",
       "    </tr>\n",
       "    <tr>\n",
       "      <th>2</th>\n",
       "      <td>TEST</td>\n",
       "      <td>0</td>\n",
       "      <td>28455</td>\n",
       "      <td>284807</td>\n",
       "      <td>0.100083</td>\n",
       "      <td>0.998351</td>\n",
       "      <td>0.998273</td>\n",
       "    </tr>\n",
       "    <tr>\n",
       "      <th>3</th>\n",
       "      <td>TEST</td>\n",
       "      <td>1</td>\n",
       "      <td>47</td>\n",
       "      <td>284807</td>\n",
       "      <td>0.095528</td>\n",
       "      <td>0.001649</td>\n",
       "      <td>0.001727</td>\n",
       "    </tr>\n",
       "    <tr>\n",
       "      <th>4</th>\n",
       "      <td>VALIDATE</td>\n",
       "      <td>0</td>\n",
       "      <td>28196</td>\n",
       "      <td>284807</td>\n",
       "      <td>0.099172</td>\n",
       "      <td>0.998301</td>\n",
       "      <td>0.998273</td>\n",
       "    </tr>\n",
       "    <tr>\n",
       "      <th>5</th>\n",
       "      <td>VALIDATE</td>\n",
       "      <td>1</td>\n",
       "      <td>48</td>\n",
       "      <td>284807</td>\n",
       "      <td>0.097561</td>\n",
       "      <td>0.001699</td>\n",
       "      <td>0.001727</td>\n",
       "    </tr>\n",
       "  </tbody>\n",
       "</table>\n",
       "</div>"
      ],
      "text/plain": [
       "     splits  Class       n   total  n_pct_class  n_pct_split  class_pct_total\n",
       "0     TRAIN      0  227664  284807     0.800746     0.998259         0.998273\n",
       "1     TRAIN      1     397  284807     0.806911     0.001741         0.001727\n",
       "2      TEST      0   28455  284807     0.100083     0.998351         0.998273\n",
       "3      TEST      1      47  284807     0.095528     0.001649         0.001727\n",
       "4  VALIDATE      0   28196  284807     0.099172     0.998301         0.998273\n",
       "5  VALIDATE      1      48  284807     0.097561     0.001699         0.001727"
      ]
     },
     "execution_count": 32,
     "metadata": {},
     "output_type": "execute_result"
    }
   ],
   "source": [
    "query = f\"\"\"\n",
    "WITH\n",
    "    COUNTS as (SELECT splits, {VAR_TARGET}, count(*) as n FROM `{BQ_PROJECT}.{BQ_DATASET}.{BQ_TABLE}` GROUP BY splits, {VAR_TARGET})\n",
    "    \n",
    "SELECT *,\n",
    "    SUM(n) OVER() as total,\n",
    "    SAFE_DIVIDE(n, SUM(n) OVER(PARTITION BY {VAR_TARGET})) as n_pct_class,\n",
    "    SAFE_DIVIDE(n, SUM(n) OVER(PARTITION BY splits)) as n_pct_split,\n",
    "    SAFE_DIVIDE(SUM(n) OVER(PARTITION BY {VAR_TARGET}), SUM(n) OVER()) as class_pct_total\n",
    "FROM COUNTS\n",
    "\"\"\"\n",
    "review = bq.query(query = query).to_dataframe()\n",
    "review"
   ]
  },
  {
   "cell_type": "markdown",
   "id": "1a532dad-3eb4-4fd7-b1f6-eb60278e15eb",
   "metadata": {},
   "source": [
    "---\n",
    "## This Run"
   ]
  },
  {
   "cell_type": "code",
   "execution_count": 6,
   "id": "4bc58c52-2d51-4298-a0f6-74be71f5e1f7",
   "metadata": {},
   "outputs": [
    {
     "name": "stdout",
     "output_type": "stream",
     "text": [
      "This run with create BQML model: google.com:cbo-mnl.fraud.03_03a_20221020070549\n",
      "The Timestamp Is: 20221020070549\n"
     ]
    }
   ],
   "source": [
    "print(f'This run with create BQML model: {BQ_PROJECT}.{BQ_DATASET}.{BQ_MODEL}')\n",
    "print(f'The Timestamp Is: {TIMESTAMP}')"
   ]
  },
  {
   "cell_type": "markdown",
   "id": "5686a4bb",
   "metadata": {},
   "source": [
    "---\n",
    "## Train Model\n",
    "\n",
    "Use BigQuery ML to train multiclass logistic regression model:\n",
    "- [Logistic Regression](https://cloud.google.com/bigquery-ml/docs/reference/standard-sql/bigqueryml-syntax-create-glm) with BigQuery ML (BQML)\n",
    "- This uses the `splits` column that notebook `01` created\n",
    "- `data_split_method = CUSTOM` uses the column in `data_split_col` to assign training data for `FALSE` values and evaluation data for `TRUE` values.\n",
    "    - in this example the `WHERE splits != 'TEST'` statement filters out the test data and\n",
    "    - the `CASE` statement maps training data to FALSE and validation data to TRUE"
   ]
  },
  {
   "cell_type": "code",
   "execution_count": 7,
   "id": "8ec35834",
   "metadata": {},
   "outputs": [
    {
     "data": {
      "text/plain": [
       "<google.cloud.bigquery.table._EmptyRowIterator at 0x7f813b1ddd90>"
      ]
     },
     "execution_count": 7,
     "metadata": {},
     "output_type": "execute_result"
    }
   ],
   "source": [
    "query = f\"\"\"\n",
    "CREATE MODEL `{BQ_DATASET}.{BQ_MODEL}`\n",
    "OPTIONS (\n",
    "        model_type = 'LOGISTIC_REG',\n",
    "        auto_class_weights = TRUE,\n",
    "        input_label_cols = ['{VAR_TARGET}'],\n",
    "        enable_global_explain = TRUE,\n",
    "        data_split_col = 'custom_splits',\n",
    "        data_split_method = 'CUSTOM'\n",
    "    ) AS\n",
    "SELECT * EXCEPT({','.join(VAR_OMIT.split())}, splits),\n",
    "    CASE\n",
    "        WHEN splits = 'TRAIN' THEN FALSE\n",
    "        ELSE TRUE\n",
    "    END AS custom_splits\n",
    "FROM `{BQ_PROJECT}.{BQ_DATASET}.{BQ_TABLE}`\n",
    "WHERE splits != 'TEST'\n",
    "\"\"\"\n",
    "job = bq.query(query = query)\n",
    "job.result()"
   ]
  },
  {
   "cell_type": "code",
   "execution_count": 8,
   "id": "e3a6b5f1",
   "metadata": {},
   "outputs": [
    {
     "data": {
      "text/plain": [
       "135.169"
      ]
     },
     "execution_count": 8,
     "metadata": {},
     "output_type": "execute_result"
    }
   ],
   "source": [
    "(job.ended-job.started).total_seconds()"
   ]
  },
  {
   "cell_type": "markdown",
   "id": "d0c79c71-963c-4aa0-a95c-f773c4dc5d82",
   "metadata": {},
   "source": [
    "Add labels to the model in BigQuery:"
   ]
  },
  {
   "cell_type": "code",
   "execution_count": 9,
   "id": "13d696f2-a277-422c-9cb0-f2ea8b5b242f",
   "metadata": {},
   "outputs": [],
   "source": [
    "model = bq.get_model(f'{BQ_PROJECT}.{BQ_DATASET}.{BQ_MODEL}')\n",
    "model.labels = {'series' : f'{SERIES}', 'experiment' : f'{EXPERIMENT}'}\n",
    "model = bq.update_model(model, ['labels'])"
   ]
  },
  {
   "cell_type": "markdown",
   "id": "f22f31dc-0704-48a3-9820-db6b4b480029",
   "metadata": {},
   "source": [
    "Review the Model Inputs, the feature information, with [ML.FEATURE_INFO](https://cloud.google.com/bigquery-ml/docs/reference/standard-sql/bigqueryml-syntax-feature):"
   ]
  },
  {
   "cell_type": "code",
   "execution_count": 172,
   "id": "1100435a-f279-4ebe-9fd0-85d6eb88b225",
   "metadata": {},
   "outputs": [
    {
     "data": {
      "text/html": [
       "<div>\n",
       "<style scoped>\n",
       "    .dataframe tbody tr th:only-of-type {\n",
       "        vertical-align: middle;\n",
       "    }\n",
       "\n",
       "    .dataframe tbody tr th {\n",
       "        vertical-align: top;\n",
       "    }\n",
       "\n",
       "    .dataframe thead th {\n",
       "        text-align: right;\n",
       "    }\n",
       "</style>\n",
       "<table border=\"1\" class=\"dataframe\">\n",
       "  <thead>\n",
       "    <tr style=\"text-align: right;\">\n",
       "      <th></th>\n",
       "      <th>input</th>\n",
       "      <th>min</th>\n",
       "      <th>max</th>\n",
       "      <th>mean</th>\n",
       "      <th>median</th>\n",
       "      <th>stddev</th>\n",
       "      <th>category_count</th>\n",
       "      <th>null_count</th>\n",
       "      <th>dimension</th>\n",
       "    </tr>\n",
       "  </thead>\n",
       "  <tbody>\n",
       "    <tr>\n",
       "      <th>0</th>\n",
       "      <td>Time</td>\n",
       "      <td>0.000000</td>\n",
       "      <td>172792.000000</td>\n",
       "      <td>94811.116749</td>\n",
       "      <td>85529.000000</td>\n",
       "      <td>47493.531641</td>\n",
       "      <td>NaN</td>\n",
       "      <td>0</td>\n",
       "      <td>NaN</td>\n",
       "    </tr>\n",
       "    <tr>\n",
       "      <th>1</th>\n",
       "      <td>V1</td>\n",
       "      <td>-56.407510</td>\n",
       "      <td>2.454930</td>\n",
       "      <td>-0.000215</td>\n",
       "      <td>0.028043</td>\n",
       "      <td>1.958173</td>\n",
       "      <td>NaN</td>\n",
       "      <td>0</td>\n",
       "      <td>NaN</td>\n",
       "    </tr>\n",
       "    <tr>\n",
       "      <th>2</th>\n",
       "      <td>V2</td>\n",
       "      <td>-72.715728</td>\n",
       "      <td>22.057729</td>\n",
       "      <td>0.000316</td>\n",
       "      <td>0.062607</td>\n",
       "      <td>1.649662</td>\n",
       "      <td>NaN</td>\n",
       "      <td>0</td>\n",
       "      <td>NaN</td>\n",
       "    </tr>\n",
       "    <tr>\n",
       "      <th>3</th>\n",
       "      <td>V3</td>\n",
       "      <td>-48.325589</td>\n",
       "      <td>9.382558</td>\n",
       "      <td>-0.000525</td>\n",
       "      <td>0.189124</td>\n",
       "      <td>1.520173</td>\n",
       "      <td>NaN</td>\n",
       "      <td>0</td>\n",
       "      <td>NaN</td>\n",
       "    </tr>\n",
       "    <tr>\n",
       "      <th>4</th>\n",
       "      <td>V4</td>\n",
       "      <td>-5.600607</td>\n",
       "      <td>16.875344</td>\n",
       "      <td>0.000695</td>\n",
       "      <td>-0.024260</td>\n",
       "      <td>1.415309</td>\n",
       "      <td>NaN</td>\n",
       "      <td>0</td>\n",
       "      <td>NaN</td>\n",
       "    </tr>\n",
       "    <tr>\n",
       "      <th>5</th>\n",
       "      <td>V5</td>\n",
       "      <td>-113.743307</td>\n",
       "      <td>34.801666</td>\n",
       "      <td>-0.001264</td>\n",
       "      <td>-0.058462</td>\n",
       "      <td>1.381807</td>\n",
       "      <td>NaN</td>\n",
       "      <td>0</td>\n",
       "      <td>NaN</td>\n",
       "    </tr>\n",
       "    <tr>\n",
       "      <th>6</th>\n",
       "      <td>V6</td>\n",
       "      <td>-26.160506</td>\n",
       "      <td>73.301626</td>\n",
       "      <td>0.002089</td>\n",
       "      <td>-0.280567</td>\n",
       "      <td>1.334135</td>\n",
       "      <td>NaN</td>\n",
       "      <td>0</td>\n",
       "      <td>NaN</td>\n",
       "    </tr>\n",
       "    <tr>\n",
       "      <th>7</th>\n",
       "      <td>V7</td>\n",
       "      <td>-43.557242</td>\n",
       "      <td>120.589494</td>\n",
       "      <td>-0.000721</td>\n",
       "      <td>0.036147</td>\n",
       "      <td>1.245465</td>\n",
       "      <td>NaN</td>\n",
       "      <td>0</td>\n",
       "      <td>NaN</td>\n",
       "    </tr>\n",
       "    <tr>\n",
       "      <th>8</th>\n",
       "      <td>V8</td>\n",
       "      <td>-73.216718</td>\n",
       "      <td>19.168327</td>\n",
       "      <td>-0.001064</td>\n",
       "      <td>0.025770</td>\n",
       "      <td>1.205023</td>\n",
       "      <td>NaN</td>\n",
       "      <td>0</td>\n",
       "      <td>NaN</td>\n",
       "    </tr>\n",
       "    <tr>\n",
       "      <th>9</th>\n",
       "      <td>V9</td>\n",
       "      <td>-13.434066</td>\n",
       "      <td>15.594995</td>\n",
       "      <td>0.001406</td>\n",
       "      <td>-0.057073</td>\n",
       "      <td>1.100121</td>\n",
       "      <td>NaN</td>\n",
       "      <td>0</td>\n",
       "      <td>NaN</td>\n",
       "    </tr>\n",
       "    <tr>\n",
       "      <th>10</th>\n",
       "      <td>V10</td>\n",
       "      <td>-24.588262</td>\n",
       "      <td>23.745136</td>\n",
       "      <td>-0.000072</td>\n",
       "      <td>-0.093228</td>\n",
       "      <td>1.093471</td>\n",
       "      <td>NaN</td>\n",
       "      <td>0</td>\n",
       "      <td>NaN</td>\n",
       "    </tr>\n",
       "    <tr>\n",
       "      <th>11</th>\n",
       "      <td>V11</td>\n",
       "      <td>-4.797473</td>\n",
       "      <td>12.018913</td>\n",
       "      <td>-0.000641</td>\n",
       "      <td>-0.042043</td>\n",
       "      <td>1.021083</td>\n",
       "      <td>NaN</td>\n",
       "      <td>0</td>\n",
       "      <td>NaN</td>\n",
       "    </tr>\n",
       "    <tr>\n",
       "      <th>12</th>\n",
       "      <td>V12</td>\n",
       "      <td>-18.683715</td>\n",
       "      <td>7.848392</td>\n",
       "      <td>-0.001596</td>\n",
       "      <td>0.145408</td>\n",
       "      <td>1.002343</td>\n",
       "      <td>NaN</td>\n",
       "      <td>0</td>\n",
       "      <td>NaN</td>\n",
       "    </tr>\n",
       "    <tr>\n",
       "      <th>13</th>\n",
       "      <td>V13</td>\n",
       "      <td>-5.791881</td>\n",
       "      <td>7.126883</td>\n",
       "      <td>0.001823</td>\n",
       "      <td>-0.009854</td>\n",
       "      <td>0.996051</td>\n",
       "      <td>NaN</td>\n",
       "      <td>0</td>\n",
       "      <td>NaN</td>\n",
       "    </tr>\n",
       "    <tr>\n",
       "      <th>14</th>\n",
       "      <td>V14</td>\n",
       "      <td>-19.214325</td>\n",
       "      <td>10.526766</td>\n",
       "      <td>-0.000667</td>\n",
       "      <td>0.037348</td>\n",
       "      <td>0.961650</td>\n",
       "      <td>NaN</td>\n",
       "      <td>0</td>\n",
       "      <td>NaN</td>\n",
       "    </tr>\n",
       "    <tr>\n",
       "      <th>15</th>\n",
       "      <td>V15</td>\n",
       "      <td>-4.498945</td>\n",
       "      <td>8.877742</td>\n",
       "      <td>0.000422</td>\n",
       "      <td>0.036363</td>\n",
       "      <td>0.916010</td>\n",
       "      <td>NaN</td>\n",
       "      <td>0</td>\n",
       "      <td>NaN</td>\n",
       "    </tr>\n",
       "    <tr>\n",
       "      <th>16</th>\n",
       "      <td>V16</td>\n",
       "      <td>-13.563273</td>\n",
       "      <td>17.315112</td>\n",
       "      <td>-0.000231</td>\n",
       "      <td>0.069629</td>\n",
       "      <td>0.876491</td>\n",
       "      <td>NaN</td>\n",
       "      <td>0</td>\n",
       "      <td>NaN</td>\n",
       "    </tr>\n",
       "    <tr>\n",
       "      <th>17</th>\n",
       "      <td>V17</td>\n",
       "      <td>-25.162799</td>\n",
       "      <td>9.253526</td>\n",
       "      <td>0.000599</td>\n",
       "      <td>-0.071361</td>\n",
       "      <td>0.851699</td>\n",
       "      <td>NaN</td>\n",
       "      <td>0</td>\n",
       "      <td>NaN</td>\n",
       "    </tr>\n",
       "    <tr>\n",
       "      <th>18</th>\n",
       "      <td>V18</td>\n",
       "      <td>-9.498746</td>\n",
       "      <td>5.041069</td>\n",
       "      <td>-0.000701</td>\n",
       "      <td>-0.010815</td>\n",
       "      <td>0.839235</td>\n",
       "      <td>NaN</td>\n",
       "      <td>0</td>\n",
       "      <td>NaN</td>\n",
       "    </tr>\n",
       "    <tr>\n",
       "      <th>19</th>\n",
       "      <td>V19</td>\n",
       "      <td>-7.213527</td>\n",
       "      <td>5.591971</td>\n",
       "      <td>-0.001121</td>\n",
       "      <td>-0.011818</td>\n",
       "      <td>0.814700</td>\n",
       "      <td>NaN</td>\n",
       "      <td>0</td>\n",
       "      <td>NaN</td>\n",
       "    </tr>\n",
       "    <tr>\n",
       "      <th>20</th>\n",
       "      <td>V20</td>\n",
       "      <td>-54.497720</td>\n",
       "      <td>39.420904</td>\n",
       "      <td>0.000744</td>\n",
       "      <td>-0.058926</td>\n",
       "      <td>0.773090</td>\n",
       "      <td>NaN</td>\n",
       "      <td>0</td>\n",
       "      <td>NaN</td>\n",
       "    </tr>\n",
       "    <tr>\n",
       "      <th>21</th>\n",
       "      <td>V21</td>\n",
       "      <td>-34.830382</td>\n",
       "      <td>27.202839</td>\n",
       "      <td>-0.000542</td>\n",
       "      <td>-0.027709</td>\n",
       "      <td>0.739335</td>\n",
       "      <td>NaN</td>\n",
       "      <td>0</td>\n",
       "      <td>NaN</td>\n",
       "    </tr>\n",
       "    <tr>\n",
       "      <th>22</th>\n",
       "      <td>V22</td>\n",
       "      <td>-10.933144</td>\n",
       "      <td>10.503090</td>\n",
       "      <td>0.000768</td>\n",
       "      <td>0.007398</td>\n",
       "      <td>0.725885</td>\n",
       "      <td>NaN</td>\n",
       "      <td>0</td>\n",
       "      <td>NaN</td>\n",
       "    </tr>\n",
       "    <tr>\n",
       "      <th>23</th>\n",
       "      <td>V23</td>\n",
       "      <td>-36.666000</td>\n",
       "      <td>22.083545</td>\n",
       "      <td>0.000326</td>\n",
       "      <td>-0.012736</td>\n",
       "      <td>0.614379</td>\n",
       "      <td>NaN</td>\n",
       "      <td>0</td>\n",
       "      <td>NaN</td>\n",
       "    </tr>\n",
       "    <tr>\n",
       "      <th>24</th>\n",
       "      <td>V24</td>\n",
       "      <td>-2.836627</td>\n",
       "      <td>4.584549</td>\n",
       "      <td>0.000351</td>\n",
       "      <td>0.038472</td>\n",
       "      <td>0.606016</td>\n",
       "      <td>NaN</td>\n",
       "      <td>0</td>\n",
       "      <td>NaN</td>\n",
       "    </tr>\n",
       "    <tr>\n",
       "      <th>25</th>\n",
       "      <td>V25</td>\n",
       "      <td>-8.696627</td>\n",
       "      <td>6.070850</td>\n",
       "      <td>-0.000594</td>\n",
       "      <td>0.015507</td>\n",
       "      <td>0.521749</td>\n",
       "      <td>NaN</td>\n",
       "      <td>0</td>\n",
       "      <td>NaN</td>\n",
       "    </tr>\n",
       "    <tr>\n",
       "      <th>26</th>\n",
       "      <td>V26</td>\n",
       "      <td>-2.604551</td>\n",
       "      <td>3.517346</td>\n",
       "      <td>0.000466</td>\n",
       "      <td>-0.053596</td>\n",
       "      <td>0.481984</td>\n",
       "      <td>NaN</td>\n",
       "      <td>0</td>\n",
       "      <td>NaN</td>\n",
       "    </tr>\n",
       "    <tr>\n",
       "      <th>27</th>\n",
       "      <td>V27</td>\n",
       "      <td>-22.565679</td>\n",
       "      <td>31.612198</td>\n",
       "      <td>-0.000629</td>\n",
       "      <td>-0.000182</td>\n",
       "      <td>0.405146</td>\n",
       "      <td>NaN</td>\n",
       "      <td>0</td>\n",
       "      <td>NaN</td>\n",
       "    </tr>\n",
       "    <tr>\n",
       "      <th>28</th>\n",
       "      <td>V28</td>\n",
       "      <td>-15.430084</td>\n",
       "      <td>33.847808</td>\n",
       "      <td>-0.000083</td>\n",
       "      <td>0.010529</td>\n",
       "      <td>0.329876</td>\n",
       "      <td>NaN</td>\n",
       "      <td>0</td>\n",
       "      <td>NaN</td>\n",
       "    </tr>\n",
       "    <tr>\n",
       "      <th>29</th>\n",
       "      <td>Amount</td>\n",
       "      <td>0.000000</td>\n",
       "      <td>25691.160000</td>\n",
       "      <td>88.535335</td>\n",
       "      <td>21.670000</td>\n",
       "      <td>251.361162</td>\n",
       "      <td>NaN</td>\n",
       "      <td>0</td>\n",
       "      <td>NaN</td>\n",
       "    </tr>\n",
       "  </tbody>\n",
       "</table>\n",
       "</div>"
      ],
      "text/plain": [
       "     input         min            max          mean        median  \\\n",
       "0     Time    0.000000  172792.000000  94811.116749  85529.000000   \n",
       "1       V1  -56.407510       2.454930     -0.000215      0.028043   \n",
       "2       V2  -72.715728      22.057729      0.000316      0.062607   \n",
       "3       V3  -48.325589       9.382558     -0.000525      0.189124   \n",
       "4       V4   -5.600607      16.875344      0.000695     -0.024260   \n",
       "5       V5 -113.743307      34.801666     -0.001264     -0.058462   \n",
       "6       V6  -26.160506      73.301626      0.002089     -0.280567   \n",
       "7       V7  -43.557242     120.589494     -0.000721      0.036147   \n",
       "8       V8  -73.216718      19.168327     -0.001064      0.025770   \n",
       "9       V9  -13.434066      15.594995      0.001406     -0.057073   \n",
       "10     V10  -24.588262      23.745136     -0.000072     -0.093228   \n",
       "11     V11   -4.797473      12.018913     -0.000641     -0.042043   \n",
       "12     V12  -18.683715       7.848392     -0.001596      0.145408   \n",
       "13     V13   -5.791881       7.126883      0.001823     -0.009854   \n",
       "14     V14  -19.214325      10.526766     -0.000667      0.037348   \n",
       "15     V15   -4.498945       8.877742      0.000422      0.036363   \n",
       "16     V16  -13.563273      17.315112     -0.000231      0.069629   \n",
       "17     V17  -25.162799       9.253526      0.000599     -0.071361   \n",
       "18     V18   -9.498746       5.041069     -0.000701     -0.010815   \n",
       "19     V19   -7.213527       5.591971     -0.001121     -0.011818   \n",
       "20     V20  -54.497720      39.420904      0.000744     -0.058926   \n",
       "21     V21  -34.830382      27.202839     -0.000542     -0.027709   \n",
       "22     V22  -10.933144      10.503090      0.000768      0.007398   \n",
       "23     V23  -36.666000      22.083545      0.000326     -0.012736   \n",
       "24     V24   -2.836627       4.584549      0.000351      0.038472   \n",
       "25     V25   -8.696627       6.070850     -0.000594      0.015507   \n",
       "26     V26   -2.604551       3.517346      0.000466     -0.053596   \n",
       "27     V27  -22.565679      31.612198     -0.000629     -0.000182   \n",
       "28     V28  -15.430084      33.847808     -0.000083      0.010529   \n",
       "29  Amount    0.000000   25691.160000     88.535335     21.670000   \n",
       "\n",
       "          stddev  category_count  null_count  dimension  \n",
       "0   47493.531641             NaN           0        NaN  \n",
       "1       1.958173             NaN           0        NaN  \n",
       "2       1.649662             NaN           0        NaN  \n",
       "3       1.520173             NaN           0        NaN  \n",
       "4       1.415309             NaN           0        NaN  \n",
       "5       1.381807             NaN           0        NaN  \n",
       "6       1.334135             NaN           0        NaN  \n",
       "7       1.245465             NaN           0        NaN  \n",
       "8       1.205023             NaN           0        NaN  \n",
       "9       1.100121             NaN           0        NaN  \n",
       "10      1.093471             NaN           0        NaN  \n",
       "11      1.021083             NaN           0        NaN  \n",
       "12      1.002343             NaN           0        NaN  \n",
       "13      0.996051             NaN           0        NaN  \n",
       "14      0.961650             NaN           0        NaN  \n",
       "15      0.916010             NaN           0        NaN  \n",
       "16      0.876491             NaN           0        NaN  \n",
       "17      0.851699             NaN           0        NaN  \n",
       "18      0.839235             NaN           0        NaN  \n",
       "19      0.814700             NaN           0        NaN  \n",
       "20      0.773090             NaN           0        NaN  \n",
       "21      0.739335             NaN           0        NaN  \n",
       "22      0.725885             NaN           0        NaN  \n",
       "23      0.614379             NaN           0        NaN  \n",
       "24      0.606016             NaN           0        NaN  \n",
       "25      0.521749             NaN           0        NaN  \n",
       "26      0.481984             NaN           0        NaN  \n",
       "27      0.405146             NaN           0        NaN  \n",
       "28      0.329876             NaN           0        NaN  \n",
       "29    251.361162             NaN           0        NaN  "
      ]
     },
     "execution_count": 172,
     "metadata": {},
     "output_type": "execute_result"
    }
   ],
   "source": [
    "feature_info = bq.query(\n",
    "    query = f\"\"\"\n",
    "        SELECT *\n",
    "        FROM ML.FEATURE_INFO(MODEL `{BQ_PROJECT}.{BQ_DATASET}.{BQ_MODEL}`)\n",
    "        \"\"\"\n",
    ").to_dataframe()\n",
    "feature_info"
   ]
  },
  {
   "cell_type": "markdown",
   "id": "c30f3d34",
   "metadata": {},
   "source": [
    "Review the iterations from training with [ML.TRAINING_INFO](https://cloud.google.com/bigquery-ml/docs/reference/standard-sql/bigqueryml-syntax-train):"
   ]
  },
  {
   "cell_type": "code",
   "execution_count": 10,
   "id": "14d2757d",
   "metadata": {},
   "outputs": [
    {
     "data": {
      "text/html": [
       "<div>\n",
       "<style scoped>\n",
       "    .dataframe tbody tr th:only-of-type {\n",
       "        vertical-align: middle;\n",
       "    }\n",
       "\n",
       "    .dataframe tbody tr th {\n",
       "        vertical-align: top;\n",
       "    }\n",
       "\n",
       "    .dataframe thead th {\n",
       "        text-align: right;\n",
       "    }\n",
       "</style>\n",
       "<table border=\"1\" class=\"dataframe\">\n",
       "  <thead>\n",
       "    <tr style=\"text-align: right;\">\n",
       "      <th></th>\n",
       "      <th>training_run</th>\n",
       "      <th>iteration</th>\n",
       "      <th>loss</th>\n",
       "      <th>eval_loss</th>\n",
       "      <th>learning_rate</th>\n",
       "      <th>duration_ms</th>\n",
       "    </tr>\n",
       "  </thead>\n",
       "  <tbody>\n",
       "    <tr>\n",
       "      <th>0</th>\n",
       "      <td>0</td>\n",
       "      <td>0</td>\n",
       "      <td>0.684205</td>\n",
       "      <td>0.684469</td>\n",
       "      <td>0.2</td>\n",
       "      <td>9543</td>\n",
       "    </tr>\n",
       "    <tr>\n",
       "      <th>1</th>\n",
       "      <td>0</td>\n",
       "      <td>1</td>\n",
       "      <td>0.646252</td>\n",
       "      <td>0.646556</td>\n",
       "      <td>0.4</td>\n",
       "      <td>8939</td>\n",
       "    </tr>\n",
       "    <tr>\n",
       "      <th>2</th>\n",
       "      <td>0</td>\n",
       "      <td>2</td>\n",
       "      <td>0.578601</td>\n",
       "      <td>0.578960</td>\n",
       "      <td>0.8</td>\n",
       "      <td>8885</td>\n",
       "    </tr>\n",
       "    <tr>\n",
       "      <th>3</th>\n",
       "      <td>0</td>\n",
       "      <td>3</td>\n",
       "      <td>0.471104</td>\n",
       "      <td>0.471530</td>\n",
       "      <td>1.6</td>\n",
       "      <td>9809</td>\n",
       "    </tr>\n",
       "    <tr>\n",
       "      <th>4</th>\n",
       "      <td>0</td>\n",
       "      <td>4</td>\n",
       "      <td>0.334772</td>\n",
       "      <td>0.335257</td>\n",
       "      <td>3.2</td>\n",
       "      <td>9742</td>\n",
       "    </tr>\n",
       "    <tr>\n",
       "      <th>5</th>\n",
       "      <td>0</td>\n",
       "      <td>5</td>\n",
       "      <td>0.217272</td>\n",
       "      <td>0.217744</td>\n",
       "      <td>6.4</td>\n",
       "      <td>10024</td>\n",
       "    </tr>\n",
       "    <tr>\n",
       "      <th>6</th>\n",
       "      <td>0</td>\n",
       "      <td>6</td>\n",
       "      <td>0.160166</td>\n",
       "      <td>0.160342</td>\n",
       "      <td>12.8</td>\n",
       "      <td>10494</td>\n",
       "    </tr>\n",
       "    <tr>\n",
       "      <th>7</th>\n",
       "      <td>0</td>\n",
       "      <td>7</td>\n",
       "      <td>0.123444</td>\n",
       "      <td>0.123306</td>\n",
       "      <td>25.6</td>\n",
       "      <td>9142</td>\n",
       "    </tr>\n",
       "  </tbody>\n",
       "</table>\n",
       "</div>"
      ],
      "text/plain": [
       "   training_run  iteration      loss  eval_loss  learning_rate  duration_ms\n",
       "0             0          0  0.684205   0.684469            0.2         9543\n",
       "1             0          1  0.646252   0.646556            0.4         8939\n",
       "2             0          2  0.578601   0.578960            0.8         8885\n",
       "3             0          3  0.471104   0.471530            1.6         9809\n",
       "4             0          4  0.334772   0.335257            3.2         9742\n",
       "5             0          5  0.217272   0.217744            6.4        10024\n",
       "6             0          6  0.160166   0.160342           12.8        10494\n",
       "7             0          7  0.123444   0.123306           25.6         9142"
      ]
     },
     "execution_count": 10,
     "metadata": {},
     "output_type": "execute_result"
    }
   ],
   "source": [
    "history = bq.query(\n",
    "    query = f\"\"\"\n",
    "        SELECT *\n",
    "        FROM ML.TRAINING_INFO(MODEL `{BQ_PROJECT}.{BQ_DATASET}.{BQ_MODEL}`)\n",
    "        ORDER BY iteration\"\"\"\n",
    ").to_dataframe()\n",
    "history"
   ]
  },
  {
   "cell_type": "markdown",
   "id": "e95fa43e-076c-4c59-a848-1107930c81f9",
   "metadata": {},
   "source": [
    "Plot the loss history:"
   ]
  },
  {
   "cell_type": "code",
   "execution_count": 11,
   "id": "7b20cc72-f5c1-4ed0-95d2-89d7a6ff4a6a",
   "metadata": {},
   "outputs": [
    {
     "data": {
      "text/plain": [
       "<AxesSubplot:xlabel='iteration'>"
      ]
     },
     "execution_count": 11,
     "metadata": {},
     "output_type": "execute_result"
    },
    {
     "data": {
      "image/png": "[encoded data removed]",
      "text/plain": [
       "<Figure size 1000x500 with 1 Axes>"
      ]
     },
     "metadata": {},
     "output_type": "display_data"
    }
   ],
   "source": [
    "history.plot(x = 'iteration', y = ['loss','eval_loss'], figsize = (10, 5), grid = True)"
   ]
  },
  {
   "cell_type": "markdown",
   "id": "e993eee1-1a45-4fee-9c32-5b9412b4c88f",
   "metadata": {},
   "source": [
    "### Check out this model in BigQuery Console:\n",
    "- Make sure project selected is the one from this notebook\n",
    "- Under Explore, expand this project and dataset\n",
    "- Expand Models and select the model create here"
   ]
  },
  {
   "cell_type": "code",
   "execution_count": 12,
   "id": "2e612ea8-ff94-4100-8293-5e2d691cfc69",
   "metadata": {},
   "outputs": [
    {
     "name": "stdout",
     "output_type": "stream",
     "text": [
      "BigQuery Console for Project:\n",
      "https://console.cloud.google.com/bigquery?project=google.com:cbo-mnl\n"
     ]
    }
   ],
   "source": [
    "print(f'BigQuery Console for Project:\\nhttps://console.cloud.google.com/bigquery?project={PROJECT_ID}')"
   ]
  },
  {
   "cell_type": "code",
   "execution_count": 13,
   "id": "a70136c5-da05-4083-b45e-1c19d4a32c3c",
   "metadata": {},
   "outputs": [
    {
     "name": "stdout",
     "output_type": "stream",
     "text": [
      "Direct link to the model in BigQuery:\n",
      "https://console.cloud.google.com/bigquery?project=google.com:cbo-mnl&ws=!1m5!1m4!5m3!1sgoogle.com:cbo-mnl!2sfraud!3s03_03a_20221020070549\n"
     ]
    }
   ],
   "source": [
    "print(f'Direct link to the model in BigQuery:\\nhttps://console.cloud.google.com/bigquery?project={PROJECT_ID}&ws=!1m5!1m4!5m3!1s{PROJECT_ID}!2s{BQ_DATASET}!3s{BQ_MODEL}')"
   ]
  },
  {
   "cell_type": "markdown",
   "id": "3801418e",
   "metadata": {},
   "source": [
    "---\n",
    "## Evaluate Model"
   ]
  },
  {
   "cell_type": "markdown",
   "id": "ad2510dd-e9b3-460d-ae57-e7b32b8455cb",
   "metadata": {},
   "source": [
    "### Metrics"
   ]
  },
  {
   "cell_type": "markdown",
   "id": "e7820b93",
   "metadata": {},
   "source": [
    "Review the model evaluation statistics on the splits with [ML.EVALUATE](https://cloud.google.com/bigquery-ml/docs/reference/standard-sql/bigqueryml-syntax-evaluate):"
   ]
  },
  {
   "cell_type": "code",
   "execution_count": 14,
   "id": "cc215352",
   "metadata": {},
   "outputs": [
    {
     "data": {
      "text/html": [
       "<div>\n",
       "<style scoped>\n",
       "    .dataframe tbody tr th:only-of-type {\n",
       "        vertical-align: middle;\n",
       "    }\n",
       "\n",
       "    .dataframe tbody tr th {\n",
       "        vertical-align: top;\n",
       "    }\n",
       "\n",
       "    .dataframe thead th {\n",
       "        text-align: right;\n",
       "    }\n",
       "</style>\n",
       "<table border=\"1\" class=\"dataframe\">\n",
       "  <thead>\n",
       "    <tr style=\"text-align: right;\">\n",
       "      <th></th>\n",
       "      <th>SPLIT</th>\n",
       "      <th>precision</th>\n",
       "      <th>recall</th>\n",
       "      <th>accuracy</th>\n",
       "      <th>f1_score</th>\n",
       "      <th>log_loss</th>\n",
       "      <th>roc_auc</th>\n",
       "    </tr>\n",
       "  </thead>\n",
       "  <tbody>\n",
       "    <tr>\n",
       "      <th>0</th>\n",
       "      <td>VALIDATE</td>\n",
       "      <td>0.102041</td>\n",
       "      <td>0.923077</td>\n",
       "      <td>0.981431</td>\n",
       "      <td>0.183767</td>\n",
       "      <td>0.139059</td>\n",
       "      <td>0.986646</td>\n",
       "    </tr>\n",
       "    <tr>\n",
       "      <th>1</th>\n",
       "      <td>TEST</td>\n",
       "      <td>0.081356</td>\n",
       "      <td>0.941176</td>\n",
       "      <td>0.980935</td>\n",
       "      <td>0.149766</td>\n",
       "      <td>0.121316</td>\n",
       "      <td>0.977919</td>\n",
       "    </tr>\n",
       "    <tr>\n",
       "      <th>2</th>\n",
       "      <td>TRAIN</td>\n",
       "      <td>0.073430</td>\n",
       "      <td>0.898936</td>\n",
       "      <td>0.981087</td>\n",
       "      <td>0.135770</td>\n",
       "      <td>0.123444</td>\n",
       "      <td>0.985450</td>\n",
       "    </tr>\n",
       "  </tbody>\n",
       "</table>\n",
       "</div>"
      ],
      "text/plain": [
       "      SPLIT  precision    recall  accuracy  f1_score  log_loss   roc_auc\n",
       "0  VALIDATE   0.102041  0.923077  0.981431  0.183767  0.139059  0.986646\n",
       "1      TEST   0.081356  0.941176  0.980935  0.149766  0.121316  0.977919\n",
       "2     TRAIN   0.073430  0.898936  0.981087  0.135770  0.123444  0.985450"
      ]
     },
     "execution_count": 14,
     "metadata": {},
     "output_type": "execute_result"
    }
   ],
   "source": [
    "query = f\"\"\"\n",
    "SELECT 'TEST' as SPLIT, * FROM ML.EVALUATE (MODEL `{BQ_PROJECT}.{BQ_DATASET}.{BQ_MODEL}`,\n",
    "    (SELECT * FROM `{BQ_PROJECT}.{BQ_DATASET}.{BQ_TABLE}` WHERE SPLITS='TEST'))\n",
    "UNION ALL\n",
    "SELECT 'VALIDATE' as SPLIT, * FROM ML.EVALUATE (MODEL `{BQ_PROJECT}.{BQ_DATASET}.{BQ_MODEL}`,\n",
    "    (SELECT * FROM `{BQ_PROJECT}.{BQ_DATASET}.{BQ_TABLE}` WHERE SPLITS='VALIDATE'))\n",
    "UNION ALL\n",
    "SELECT 'TRAIN' as SPLIT, * FROM ML.EVALUATE (MODEL `{BQ_PROJECT}.{BQ_DATASET}.{BQ_MODEL}`,\n",
    "    (SELECT * FROM `{BQ_PROJECT}.{BQ_DATASET}.{BQ_TABLE}` WHERE SPLITS='TRAIN'))\n",
    "\"\"\"\n",
    "bq.query(query = query).to_dataframe()"
   ]
  },
  {
   "cell_type": "markdown",
   "id": "49d81406-68ac-467d-a470-54f7d80a5129",
   "metadata": {},
   "source": [
    "### Confusion Matrix"
   ]
  },
  {
   "cell_type": "markdown",
   "id": "51559961",
   "metadata": {},
   "source": [
    "Review the confusion matrix for each split with [ML.CONFUSION_MATRIX](https://cloud.google.com/bigquery-ml/docs/reference/standard-sql/bigqueryml-syntax-confusion):"
   ]
  },
  {
   "cell_type": "code",
   "execution_count": 15,
   "id": "0feb32e9",
   "metadata": {},
   "outputs": [
    {
     "data": {
      "text/html": [
       "<div>\n",
       "<style scoped>\n",
       "    .dataframe tbody tr th:only-of-type {\n",
       "        vertical-align: middle;\n",
       "    }\n",
       "\n",
       "    .dataframe tbody tr th {\n",
       "        vertical-align: top;\n",
       "    }\n",
       "\n",
       "    .dataframe thead th {\n",
       "        text-align: right;\n",
       "    }\n",
       "</style>\n",
       "<table border=\"1\" class=\"dataframe\">\n",
       "  <thead>\n",
       "    <tr style=\"text-align: right;\">\n",
       "      <th></th>\n",
       "      <th>expected_label</th>\n",
       "      <th>_0</th>\n",
       "      <th>_1</th>\n",
       "    </tr>\n",
       "  </thead>\n",
       "  <tbody>\n",
       "    <tr>\n",
       "      <th>0</th>\n",
       "      <td>0</td>\n",
       "      <td>222876</td>\n",
       "      <td>4265</td>\n",
       "    </tr>\n",
       "    <tr>\n",
       "      <th>1</th>\n",
       "      <td>1</td>\n",
       "      <td>38</td>\n",
       "      <td>338</td>\n",
       "    </tr>\n",
       "  </tbody>\n",
       "</table>\n",
       "</div>"
      ],
      "text/plain": [
       "   expected_label      _0    _1\n",
       "0               0  222876  4265\n",
       "1               1      38   338"
      ]
     },
     "execution_count": 15,
     "metadata": {},
     "output_type": "execute_result"
    }
   ],
   "source": [
    "query = f\"\"\"\n",
    "SELECT *\n",
    "FROM ML.CONFUSION_MATRIX (MODEL `{BQ_PROJECT}.{BQ_DATASET}.{BQ_MODEL}`,(\n",
    "    SELECT *\n",
    "    FROM `{BQ_PROJECT}.{BQ_DATASET}.{BQ_TABLE}`\n",
    "    WHERE splits = 'TRAIN')\n",
    "  )\n",
    "\"\"\"\n",
    "bq.query(query = query).to_dataframe()"
   ]
  },
  {
   "cell_type": "code",
   "execution_count": 16,
   "id": "b26c799e",
   "metadata": {},
   "outputs": [
    {
     "data": {
      "text/html": [
       "<div>\n",
       "<style scoped>\n",
       "    .dataframe tbody tr th:only-of-type {\n",
       "        vertical-align: middle;\n",
       "    }\n",
       "\n",
       "    .dataframe tbody tr th {\n",
       "        vertical-align: top;\n",
       "    }\n",
       "\n",
       "    .dataframe thead th {\n",
       "        text-align: right;\n",
       "    }\n",
       "</style>\n",
       "<table border=\"1\" class=\"dataframe\">\n",
       "  <thead>\n",
       "    <tr style=\"text-align: right;\">\n",
       "      <th></th>\n",
       "      <th>expected_label</th>\n",
       "      <th>_0</th>\n",
       "      <th>_1</th>\n",
       "    </tr>\n",
       "  </thead>\n",
       "  <tbody>\n",
       "    <tr>\n",
       "      <th>0</th>\n",
       "      <td>0</td>\n",
       "      <td>28110</td>\n",
       "      <td>528</td>\n",
       "    </tr>\n",
       "    <tr>\n",
       "      <th>1</th>\n",
       "      <td>1</td>\n",
       "      <td>5</td>\n",
       "      <td>60</td>\n",
       "    </tr>\n",
       "  </tbody>\n",
       "</table>\n",
       "</div>"
      ],
      "text/plain": [
       "   expected_label     _0   _1\n",
       "0               0  28110  528\n",
       "1               1      5   60"
      ]
     },
     "execution_count": 16,
     "metadata": {},
     "output_type": "execute_result"
    }
   ],
   "source": [
    "query = f\"\"\"\n",
    "SELECT *\n",
    "FROM ML.CONFUSION_MATRIX (MODEL `{BQ_PROJECT}.{BQ_DATASET}.{BQ_MODEL}`,(\n",
    "    SELECT *\n",
    "    FROM `{BQ_PROJECT}.{BQ_DATASET}.{BQ_TABLE}`\n",
    "    WHERE splits = 'VALIDATE')\n",
    "  )\n",
    "\"\"\"\n",
    "bq.query(query = query).to_dataframe()"
   ]
  },
  {
   "cell_type": "code",
   "execution_count": 17,
   "id": "c1251bc5",
   "metadata": {},
   "outputs": [
    {
     "data": {
      "text/html": [
       "<div>\n",
       "<style scoped>\n",
       "    .dataframe tbody tr th:only-of-type {\n",
       "        vertical-align: middle;\n",
       "    }\n",
       "\n",
       "    .dataframe tbody tr th {\n",
       "        vertical-align: top;\n",
       "    }\n",
       "\n",
       "    .dataframe thead th {\n",
       "        text-align: right;\n",
       "    }\n",
       "</style>\n",
       "<table border=\"1\" class=\"dataframe\">\n",
       "  <thead>\n",
       "    <tr style=\"text-align: right;\">\n",
       "      <th></th>\n",
       "      <th>expected_label</th>\n",
       "      <th>_0</th>\n",
       "      <th>_1</th>\n",
       "    </tr>\n",
       "  </thead>\n",
       "  <tbody>\n",
       "    <tr>\n",
       "      <th>0</th>\n",
       "      <td>0</td>\n",
       "      <td>27994</td>\n",
       "      <td>542</td>\n",
       "    </tr>\n",
       "    <tr>\n",
       "      <th>1</th>\n",
       "      <td>1</td>\n",
       "      <td>3</td>\n",
       "      <td>48</td>\n",
       "    </tr>\n",
       "  </tbody>\n",
       "</table>\n",
       "</div>"
      ],
      "text/plain": [
       "   expected_label     _0   _1\n",
       "0               0  27994  542\n",
       "1               1      3   48"
      ]
     },
     "execution_count": 17,
     "metadata": {},
     "output_type": "execute_result"
    }
   ],
   "source": [
    "query = f\"\"\"\n",
    "SELECT *\n",
    "FROM ML.CONFUSION_MATRIX (MODEL `{BQ_PROJECT}.{BQ_DATASET}.{BQ_MODEL}`,(\n",
    "    SELECT *\n",
    "    FROM `{BQ_PROJECT}.{BQ_DATASET}.{BQ_TABLE}`\n",
    "    WHERE splits = 'TEST')\n",
    "  )\n",
    "\"\"\"\n",
    "bq.query(query = query).to_dataframe()"
   ]
  },
  {
   "cell_type": "markdown",
   "id": "4c0727f7-dd27-4f83-9ffe-1f7018f8402a",
   "metadata": {},
   "source": [
    "### ROC Curve\n",
    "\n",
    "Retrieve the ROC Curve for each split using [ML.ROC_CURVE](https://cloud.google.com/bigquery-ml/docs/reference/standard-sql/bigqueryml-syntax-roc):"
   ]
  },
  {
   "cell_type": "code",
   "execution_count": 18,
   "id": "fedf624f-6749-4648-9b0f-64fc3f9edfb8",
   "metadata": {},
   "outputs": [
    {
     "data": {
      "text/html": [
       "<div>\n",
       "<style scoped>\n",
       "    .dataframe tbody tr th:only-of-type {\n",
       "        vertical-align: middle;\n",
       "    }\n",
       "\n",
       "    .dataframe tbody tr th {\n",
       "        vertical-align: top;\n",
       "    }\n",
       "\n",
       "    .dataframe thead th {\n",
       "        text-align: right;\n",
       "    }\n",
       "</style>\n",
       "<table border=\"1\" class=\"dataframe\">\n",
       "  <thead>\n",
       "    <tr style=\"text-align: right;\">\n",
       "      <th></th>\n",
       "      <th>threshold</th>\n",
       "      <th>recall</th>\n",
       "      <th>false_positive_rate</th>\n",
       "      <th>true_positives</th>\n",
       "      <th>false_positives</th>\n",
       "      <th>true_negatives</th>\n",
       "      <th>false_negatives</th>\n",
       "    </tr>\n",
       "  </thead>\n",
       "  <tbody>\n",
       "    <tr>\n",
       "      <th>0</th>\n",
       "      <td>1.000000</td>\n",
       "      <td>0.015957</td>\n",
       "      <td>0.000000</td>\n",
       "      <td>6</td>\n",
       "      <td>0</td>\n",
       "      <td>227141</td>\n",
       "      <td>370</td>\n",
       "    </tr>\n",
       "    <tr>\n",
       "      <th>1</th>\n",
       "      <td>0.719878</td>\n",
       "      <td>0.882979</td>\n",
       "      <td>0.008730</td>\n",
       "      <td>332</td>\n",
       "      <td>1983</td>\n",
       "      <td>225158</td>\n",
       "      <td>44</td>\n",
       "    </tr>\n",
       "    <tr>\n",
       "      <th>2</th>\n",
       "      <td>0.505042</td>\n",
       "      <td>0.898936</td>\n",
       "      <td>0.018425</td>\n",
       "      <td>338</td>\n",
       "      <td>4185</td>\n",
       "      <td>222956</td>\n",
       "      <td>38</td>\n",
       "    </tr>\n",
       "    <tr>\n",
       "      <th>3</th>\n",
       "      <td>0.409439</td>\n",
       "      <td>0.909574</td>\n",
       "      <td>0.028392</td>\n",
       "      <td>342</td>\n",
       "      <td>6449</td>\n",
       "      <td>220692</td>\n",
       "      <td>34</td>\n",
       "    </tr>\n",
       "    <tr>\n",
       "      <th>4</th>\n",
       "      <td>0.346575</td>\n",
       "      <td>0.920213</td>\n",
       "      <td>0.038685</td>\n",
       "      <td>346</td>\n",
       "      <td>8787</td>\n",
       "      <td>218354</td>\n",
       "      <td>30</td>\n",
       "    </tr>\n",
       "  </tbody>\n",
       "</table>\n",
       "</div>"
      ],
      "text/plain": [
       "   threshold    recall  false_positive_rate  true_positives  false_positives  \\\n",
       "0   1.000000  0.015957             0.000000               6                0   \n",
       "1   0.719878  0.882979             0.008730             332             1983   \n",
       "2   0.505042  0.898936             0.018425             338             4185   \n",
       "3   0.409439  0.909574             0.028392             342             6449   \n",
       "4   0.346575  0.920213             0.038685             346             8787   \n",
       "\n",
       "   true_negatives  false_negatives  \n",
       "0          227141              370  \n",
       "1          225158               44  \n",
       "2          222956               38  \n",
       "3          220692               34  \n",
       "4          218354               30  "
      ]
     },
     "execution_count": 18,
     "metadata": {},
     "output_type": "execute_result"
    }
   ],
   "source": [
    "query = f\"\"\"\n",
    "SELECT *\n",
    "FROM ML.ROC_CURVE (MODEL `{BQ_PROJECT}.{BQ_DATASET}.{BQ_MODEL}`,(\n",
    "    SELECT *\n",
    "    FROM `{BQ_PROJECT}.{BQ_DATASET}.{BQ_TABLE}`\n",
    "    WHERE splits = 'TRAIN')\n",
    "  )\n",
    "ORDER BY false_positive_rate\n",
    "\"\"\"\n",
    "train_roc = bq.query(query = query).to_dataframe()\n",
    "train_roc.head()"
   ]
  },
  {
   "cell_type": "code",
   "execution_count": 19,
   "id": "dbdba57b-c3c7-4f99-b658-026608f57037",
   "metadata": {},
   "outputs": [
    {
     "data": {
      "text/html": [
       "<div>\n",
       "<style scoped>\n",
       "    .dataframe tbody tr th:only-of-type {\n",
       "        vertical-align: middle;\n",
       "    }\n",
       "\n",
       "    .dataframe tbody tr th {\n",
       "        vertical-align: top;\n",
       "    }\n",
       "\n",
       "    .dataframe thead th {\n",
       "        text-align: right;\n",
       "    }\n",
       "</style>\n",
       "<table border=\"1\" class=\"dataframe\">\n",
       "  <thead>\n",
       "    <tr style=\"text-align: right;\">\n",
       "      <th></th>\n",
       "      <th>threshold</th>\n",
       "      <th>recall</th>\n",
       "      <th>false_positive_rate</th>\n",
       "      <th>true_positives</th>\n",
       "      <th>false_positives</th>\n",
       "      <th>true_negatives</th>\n",
       "      <th>false_negatives</th>\n",
       "    </tr>\n",
       "  </thead>\n",
       "  <tbody>\n",
       "    <tr>\n",
       "      <th>0</th>\n",
       "      <td>1.000000</td>\n",
       "      <td>0.015385</td>\n",
       "      <td>0.000035</td>\n",
       "      <td>1</td>\n",
       "      <td>1</td>\n",
       "      <td>28637</td>\n",
       "      <td>64</td>\n",
       "    </tr>\n",
       "    <tr>\n",
       "      <th>1</th>\n",
       "      <td>0.734753</td>\n",
       "      <td>0.923077</td>\n",
       "      <td>0.008171</td>\n",
       "      <td>60</td>\n",
       "      <td>234</td>\n",
       "      <td>28404</td>\n",
       "      <td>5</td>\n",
       "    </tr>\n",
       "    <tr>\n",
       "      <th>2</th>\n",
       "      <td>0.508578</td>\n",
       "      <td>0.923077</td>\n",
       "      <td>0.017913</td>\n",
       "      <td>60</td>\n",
       "      <td>513</td>\n",
       "      <td>28125</td>\n",
       "      <td>5</td>\n",
       "    </tr>\n",
       "    <tr>\n",
       "      <th>3</th>\n",
       "      <td>0.399880</td>\n",
       "      <td>0.938462</td>\n",
       "      <td>0.027865</td>\n",
       "      <td>61</td>\n",
       "      <td>798</td>\n",
       "      <td>27840</td>\n",
       "      <td>4</td>\n",
       "    </tr>\n",
       "    <tr>\n",
       "      <th>4</th>\n",
       "      <td>0.346353</td>\n",
       "      <td>0.953846</td>\n",
       "      <td>0.038061</td>\n",
       "      <td>62</td>\n",
       "      <td>1090</td>\n",
       "      <td>27548</td>\n",
       "      <td>3</td>\n",
       "    </tr>\n",
       "  </tbody>\n",
       "</table>\n",
       "</div>"
      ],
      "text/plain": [
       "   threshold    recall  false_positive_rate  true_positives  false_positives  \\\n",
       "0   1.000000  0.015385             0.000035               1                1   \n",
       "1   0.734753  0.923077             0.008171              60              234   \n",
       "2   0.508578  0.923077             0.017913              60              513   \n",
       "3   0.399880  0.938462             0.027865              61              798   \n",
       "4   0.346353  0.953846             0.038061              62             1090   \n",
       "\n",
       "   true_negatives  false_negatives  \n",
       "0           28637               64  \n",
       "1           28404                5  \n",
       "2           28125                5  \n",
       "3           27840                4  \n",
       "4           27548                3  "
      ]
     },
     "execution_count": 19,
     "metadata": {},
     "output_type": "execute_result"
    }
   ],
   "source": [
    "query = f\"\"\"\n",
    "SELECT *\n",
    "FROM ML.ROC_CURVE (MODEL `{BQ_PROJECT}.{BQ_DATASET}.{BQ_MODEL}`,(\n",
    "    SELECT *\n",
    "    FROM `{BQ_PROJECT}.{BQ_DATASET}.{BQ_TABLE}`\n",
    "    WHERE splits = 'VALIDATE')\n",
    "  )\n",
    "ORDER BY false_positive_rate\n",
    "\"\"\"\n",
    "val_roc = bq.query(query = query).to_dataframe()\n",
    "val_roc.head()"
   ]
  },
  {
   "cell_type": "code",
   "execution_count": 20,
   "id": "c8127f09-ce81-4f6d-8e81-e7c569eb39db",
   "metadata": {},
   "outputs": [
    {
     "data": {
      "text/html": [
       "<div>\n",
       "<style scoped>\n",
       "    .dataframe tbody tr th:only-of-type {\n",
       "        vertical-align: middle;\n",
       "    }\n",
       "\n",
       "    .dataframe tbody tr th {\n",
       "        vertical-align: top;\n",
       "    }\n",
       "\n",
       "    .dataframe thead th {\n",
       "        text-align: right;\n",
       "    }\n",
       "</style>\n",
       "<table border=\"1\" class=\"dataframe\">\n",
       "  <thead>\n",
       "    <tr style=\"text-align: right;\">\n",
       "      <th></th>\n",
       "      <th>threshold</th>\n",
       "      <th>recall</th>\n",
       "      <th>false_positive_rate</th>\n",
       "      <th>true_positives</th>\n",
       "      <th>false_positives</th>\n",
       "      <th>true_negatives</th>\n",
       "      <th>false_negatives</th>\n",
       "    </tr>\n",
       "  </thead>\n",
       "  <tbody>\n",
       "    <tr>\n",
       "      <th>0</th>\n",
       "      <td>1.000000</td>\n",
       "      <td>0.019608</td>\n",
       "      <td>0.000000</td>\n",
       "      <td>1</td>\n",
       "      <td>0</td>\n",
       "      <td>28536</td>\n",
       "      <td>50</td>\n",
       "    </tr>\n",
       "    <tr>\n",
       "      <th>1</th>\n",
       "      <td>0.732479</td>\n",
       "      <td>0.882353</td>\n",
       "      <td>0.008305</td>\n",
       "      <td>45</td>\n",
       "      <td>237</td>\n",
       "      <td>28299</td>\n",
       "      <td>6</td>\n",
       "    </tr>\n",
       "    <tr>\n",
       "      <th>2</th>\n",
       "      <td>0.507369</td>\n",
       "      <td>0.941176</td>\n",
       "      <td>0.018433</td>\n",
       "      <td>48</td>\n",
       "      <td>526</td>\n",
       "      <td>28010</td>\n",
       "      <td>3</td>\n",
       "    </tr>\n",
       "    <tr>\n",
       "      <th>3</th>\n",
       "      <td>0.408272</td>\n",
       "      <td>0.960784</td>\n",
       "      <td>0.028350</td>\n",
       "      <td>49</td>\n",
       "      <td>809</td>\n",
       "      <td>27727</td>\n",
       "      <td>2</td>\n",
       "    </tr>\n",
       "    <tr>\n",
       "      <th>4</th>\n",
       "      <td>0.344958</td>\n",
       "      <td>0.960784</td>\n",
       "      <td>0.038583</td>\n",
       "      <td>49</td>\n",
       "      <td>1101</td>\n",
       "      <td>27435</td>\n",
       "      <td>2</td>\n",
       "    </tr>\n",
       "  </tbody>\n",
       "</table>\n",
       "</div>"
      ],
      "text/plain": [
       "   threshold    recall  false_positive_rate  true_positives  false_positives  \\\n",
       "0   1.000000  0.019608             0.000000               1                0   \n",
       "1   0.732479  0.882353             0.008305              45              237   \n",
       "2   0.507369  0.941176             0.018433              48              526   \n",
       "3   0.408272  0.960784             0.028350              49              809   \n",
       "4   0.344958  0.960784             0.038583              49             1101   \n",
       "\n",
       "   true_negatives  false_negatives  \n",
       "0           28536               50  \n",
       "1           28299                6  \n",
       "2           28010                3  \n",
       "3           27727                2  \n",
       "4           27435                2  "
      ]
     },
     "execution_count": 20,
     "metadata": {},
     "output_type": "execute_result"
    }
   ],
   "source": [
    "query = f\"\"\"\n",
    "SELECT *\n",
    "FROM ML.ROC_CURVE (MODEL `{BQ_PROJECT}.{BQ_DATASET}.{BQ_MODEL}`,(\n",
    "    SELECT *\n",
    "    FROM `{BQ_PROJECT}.{BQ_DATASET}.{BQ_TABLE}`\n",
    "    WHERE splits = 'TEST')\n",
    "  )\n",
    "ORDER BY false_positive_rate\n",
    "\"\"\"\n",
    "test_roc = bq.query(query = query).to_dataframe()\n",
    "test_roc.head()"
   ]
  },
  {
   "cell_type": "code",
   "execution_count": 21,
   "id": "473cb999-eae9-425b-ade6-ec8c183baa6c",
   "metadata": {},
   "outputs": [
    {
     "data": {
      "image/png": "[encoded data removed]",
      "text/plain": [
       "<Figure size 1500x500 with 1 Axes>"
      ]
     },
     "metadata": {},
     "output_type": "display_data"
    }
   ],
   "source": [
    "plt.figure(figsize=(15,5))\n",
    "plt.plot(train_roc['false_positive_rate'], train_roc['recall'], label='TRAIN')\n",
    "plt.plot(val_roc['false_positive_rate'], val_roc['recall'], label='VALIDATE')\n",
    "plt.plot(test_roc['false_positive_rate'], test_roc['recall'], label='TEST')\n",
    "plt.xlabel('False Positive Rate')\n",
    "plt.ylabel('True Positive Rate\\nRecall')\n",
    "plt.title('ROC Curves')\n",
    "plt.legend()\n",
    "plt.show()"
   ]
  },
  {
   "cell_type": "markdown",
   "id": "567d51f8",
   "metadata": {},
   "source": [
    "---\n",
    "## Predictions With BigQuery ML (BQML)"
   ]
  },
  {
   "cell_type": "markdown",
   "id": "0d0065d0",
   "metadata": {},
   "source": [
    "Create a pandas dataframe with retrieved predictions for the test data in the table using [ML.PREDICT](https://cloud.google.com/bigquery-ml/docs/reference/standard-sql/bigqueryml-syntax-predict):"
   ]
  },
  {
   "cell_type": "code",
   "execution_count": 22,
   "id": "11007445",
   "metadata": {},
   "outputs": [],
   "source": [
    "query = f\"\"\"\n",
    "SELECT *\n",
    "FROM ML.PREDICT (MODEL `{BQ_PROJECT}.{BQ_DATASET}.{BQ_MODEL}`,(\n",
    "    SELECT *\n",
    "    FROM `{BQ_PROJECT}.{BQ_DATASET}.{BQ_TABLE}`\n",
    "    WHERE splits = 'TEST')\n",
    "  )\n",
    "\"\"\"\n",
    "pred = bq.query(query = query).to_dataframe()"
   ]
  },
  {
   "cell_type": "markdown",
   "id": "39907308",
   "metadata": {},
   "source": [
    "Review columns from the predictions - note that the query added columns with prefix `predicted_`"
   ]
  },
  {
   "cell_type": "code",
   "execution_count": 23,
   "id": "78c44b1f",
   "metadata": {},
   "outputs": [
    {
     "data": {
      "text/plain": [
       "Index(['predicted_Class', 'predicted_Class_probs', 'Time', 'V1', 'V2', 'V3',\n",
       "       'V4', 'V5', 'V6', 'V7', 'V8', 'V9', 'V10', 'V11', 'V12', 'V13', 'V14',\n",
       "       'V15', 'V16', 'V17', 'V18', 'V19', 'V20', 'V21', 'V22', 'V23', 'V24',\n",
       "       'V25', 'V26', 'V27', 'V28', 'Amount', 'Class', 'transaction_id',\n",
       "       'splits'],\n",
       "      dtype='object')"
      ]
     },
     "execution_count": 23,
     "metadata": {},
     "output_type": "execute_result"
    }
   ],
   "source": [
    "pred.columns"
   ]
  },
  {
   "cell_type": "markdown",
   "id": "4b072761",
   "metadata": {},
   "source": [
    "Print the first few rows for the columns related to the actual and predicted values:"
   ]
  },
  {
   "cell_type": "code",
   "execution_count": 24,
   "id": "c66df846",
   "metadata": {},
   "outputs": [
    {
     "data": {
      "text/html": [
       "<div>\n",
       "<style scoped>\n",
       "    .dataframe tbody tr th:only-of-type {\n",
       "        vertical-align: middle;\n",
       "    }\n",
       "\n",
       "    .dataframe tbody tr th {\n",
       "        vertical-align: top;\n",
       "    }\n",
       "\n",
       "    .dataframe thead th {\n",
       "        text-align: right;\n",
       "    }\n",
       "</style>\n",
       "<table border=\"1\" class=\"dataframe\">\n",
       "  <thead>\n",
       "    <tr style=\"text-align: right;\">\n",
       "      <th></th>\n",
       "      <th>Class</th>\n",
       "      <th>predicted_Class</th>\n",
       "      <th>predicted_Class_probs</th>\n",
       "      <th>splits</th>\n",
       "    </tr>\n",
       "  </thead>\n",
       "  <tbody>\n",
       "    <tr>\n",
       "      <th>0</th>\n",
       "      <td>0</td>\n",
       "      <td>0</td>\n",
       "      <td>[{'label': 1, 'prob': 0.2021197148107373}, {'l...</td>\n",
       "      <td>TEST</td>\n",
       "    </tr>\n",
       "    <tr>\n",
       "      <th>1</th>\n",
       "      <td>0</td>\n",
       "      <td>0</td>\n",
       "      <td>[{'label': 1, 'prob': 0.06757966789496891}, {'...</td>\n",
       "      <td>TEST</td>\n",
       "    </tr>\n",
       "    <tr>\n",
       "      <th>2</th>\n",
       "      <td>0</td>\n",
       "      <td>0</td>\n",
       "      <td>[{'label': 1, 'prob': 0.07195032997687613}, {'...</td>\n",
       "      <td>TEST</td>\n",
       "    </tr>\n",
       "    <tr>\n",
       "      <th>3</th>\n",
       "      <td>0</td>\n",
       "      <td>0</td>\n",
       "      <td>[{'label': 1, 'prob': 0.30904135954614875}, {'...</td>\n",
       "      <td>TEST</td>\n",
       "    </tr>\n",
       "    <tr>\n",
       "      <th>4</th>\n",
       "      <td>0</td>\n",
       "      <td>0</td>\n",
       "      <td>[{'label': 1, 'prob': 0.06342774927749216}, {'...</td>\n",
       "      <td>TEST</td>\n",
       "    </tr>\n",
       "  </tbody>\n",
       "</table>\n",
       "</div>"
      ],
      "text/plain": [
       "   Class  predicted_Class                              predicted_Class_probs  \\\n",
       "0      0                0  [{'label': 1, 'prob': 0.2021197148107373}, {'l...   \n",
       "1      0                0  [{'label': 1, 'prob': 0.06757966789496891}, {'...   \n",
       "2      0                0  [{'label': 1, 'prob': 0.07195032997687613}, {'...   \n",
       "3      0                0  [{'label': 1, 'prob': 0.30904135954614875}, {'...   \n",
       "4      0                0  [{'label': 1, 'prob': 0.06342774927749216}, {'...   \n",
       "\n",
       "  splits  \n",
       "0   TEST  \n",
       "1   TEST  \n",
       "2   TEST  \n",
       "3   TEST  \n",
       "4   TEST  "
      ]
     },
     "execution_count": 24,
     "metadata": {},
     "output_type": "execute_result"
    }
   ],
   "source": [
    "pred[[VAR_TARGET, f'predicted_{VAR_TARGET}', f'predicted_{VAR_TARGET}_probs', 'splits']].head()"
   ]
  },
  {
   "cell_type": "markdown",
   "id": "abcf9a35",
   "metadata": {},
   "source": [
    "Notice the nested dictionary for predicted probabilities.  In BigQuery this is a Record type structure with nested fields for `label` and `prop`.  This is returned to the pandas dataframe as a nested dictionary.\n",
    "\n",
    "The following code sorts the dictionary for the first record by `prob`:"
   ]
  },
  {
   "cell_type": "code",
   "execution_count": 25,
   "id": "b213c1f7",
   "metadata": {},
   "outputs": [
    {
     "data": {
      "text/plain": [
       "[[{'label': 0, 'prob': 0.7978802851892627},\n",
       "  {'label': 1, 'prob': 0.2021197148107373}]]"
      ]
     },
     "execution_count": 25,
     "metadata": {},
     "output_type": "execute_result"
    }
   ],
   "source": [
    "exec('temp = pred.predicted_'+VAR_TARGET+'_probs[0]')\n",
    "[sorted(x, key = lambda x: x['label']) for x in [temp]]"
   ]
  },
  {
   "cell_type": "markdown",
   "id": "c34160fc-acde-457d-b1d7-b461aea9b77a",
   "metadata": {},
   "source": [
    "---\n",
    "## Custom Eval Metrics\n",
    "Retrieve the predictions to a local dataframe and use [scikit-learn](https://scikit-learn.org/stable/index.html) metrics [fuctions](https://scikit-learn.org/stable/modules/model_evaluation.html) to do model evaluation."
   ]
  },
  {
   "cell_type": "code",
   "execution_count": 54,
   "id": "f5597c51-0624-4655-a1d8-84e39c163a15",
   "metadata": {},
   "outputs": [
    {
     "data": {
      "text/plain": [
       "array([[27969,   486],\n",
       "       [    5,    42]])"
      ]
     },
     "execution_count": 54,
     "metadata": {},
     "output_type": "execute_result"
    }
   ],
   "source": [
    "metrics.confusion_matrix(pred[f'{VAR_TARGET}'], pred[f'predicted_{VAR_TARGET}'])"
   ]
  },
  {
   "cell_type": "code",
   "execution_count": 55,
   "id": "fc2de447-e779-4b86-8a20-d7a724767255",
   "metadata": {},
   "outputs": [
    {
     "data": {
      "text/plain": [
       "<sklearn.metrics._plot.confusion_matrix.ConfusionMatrixDisplay at 0x7efe71f91dd0>"
      ]
     },
     "execution_count": 55,
     "metadata": {},
     "output_type": "execute_result"
    },
    {
     "data": {
      "image/png": "[encoded data removed]",
      "text/plain": [
       "<Figure size 432x288 with 2 Axes>"
      ]
     },
     "metadata": {
      "needs_background": "light"
     },
     "output_type": "display_data"
    }
   ],
   "source": [
    "disp = metrics.ConfusionMatrixDisplay(\n",
    "    confusion_matrix = metrics.confusion_matrix(pred[f'{VAR_TARGET}'], pred[f'predicted_{VAR_TARGET}'])\n",
    ")\n",
    "disp.plot()"
   ]
  },
  {
   "cell_type": "code",
   "execution_count": 56,
   "id": "f12fc9e8-621e-4aa8-a0c2-fdcafce4a78c",
   "metadata": {},
   "outputs": [
    {
     "data": {
      "text/plain": [
       "0.9827731387271069"
      ]
     },
     "execution_count": 56,
     "metadata": {},
     "output_type": "execute_result"
    }
   ],
   "source": [
    "metrics.accuracy_score(pred[f'{VAR_TARGET}'], pred[f'predicted_{VAR_TARGET}'])"
   ]
  },
  {
   "cell_type": "code",
   "execution_count": 57,
   "id": "01edc1f5-bb23-4dab-833c-c1489d4ad355",
   "metadata": {},
   "outputs": [
    {
     "name": "stdout",
     "output_type": "stream",
     "text": [
      "              precision    recall  f1-score   support\n",
      "\n",
      "           0       1.00      0.98      0.99     28455\n",
      "           1       0.08      0.89      0.15        47\n",
      "\n",
      "    accuracy                           0.98     28502\n",
      "   macro avg       0.54      0.94      0.57     28502\n",
      "weighted avg       1.00      0.98      0.99     28502\n",
      "\n"
     ]
    }
   ],
   "source": [
    "print(metrics.classification_report(pred[f'{VAR_TARGET}'], pred[f'predicted_{VAR_TARGET}']))"
   ]
  },
  {
   "cell_type": "markdown",
   "id": "e3d40959-4812-4094-a2f9-5452d7273c89",
   "metadata": {},
   "source": [
    "---\n",
    "## Explanations\n",
    "[Built-in](https://cloud.google.com/bigquery-ml/docs/reference/standard-sql/bigqueryml-syntax-xai-overview) capabilities to understand how features contributed to predictions both individually (local) and overall (global)."
   ]
  },
  {
   "cell_type": "markdown",
   "id": "6e7ce029-5baf-4019-b680-29f8e6c5f989",
   "metadata": {},
   "source": [
    "### Local Explainability\n",
    "Retrieve feature attribution values to interpret each features contribution to a prediction relative to the baseline prediction using [ML.EXPLAIN_PREDICT](https://cloud.google.com/bigquery-ml/docs/reference/standard-sql/bigqueryml-syntax-explain-predict)."
   ]
  },
  {
   "cell_type": "code",
   "execution_count": 26,
   "id": "219fd574-6971-4e8a-8805-fdd2d3514a69",
   "metadata": {},
   "outputs": [],
   "source": [
    "query = f\"\"\"\n",
    "SELECT *\n",
    "FROM ML.EXPLAIN_PREDICT (MODEL `{BQ_PROJECT}.{BQ_DATASET}.{BQ_MODEL}`,(\n",
    "    SELECT *\n",
    "    FROM `{BQ_PROJECT}.{BQ_DATASET}.{BQ_TABLE}`\n",
    "    WHERE splits = 'TEST'), STRUCT(10 as top_k_features)\n",
    "  )\n",
    "\"\"\"\n",
    "explain = bq.query(query = query).to_dataframe()"
   ]
  },
  {
   "cell_type": "code",
   "execution_count": 27,
   "id": "6b9e6324-b1c5-477d-95c8-c3338738fec0",
   "metadata": {},
   "outputs": [
    {
     "data": {
      "text/html": [
       "<div>\n",
       "<style scoped>\n",
       "    .dataframe tbody tr th:only-of-type {\n",
       "        vertical-align: middle;\n",
       "    }\n",
       "\n",
       "    .dataframe tbody tr th {\n",
       "        vertical-align: top;\n",
       "    }\n",
       "\n",
       "    .dataframe thead th {\n",
       "        text-align: right;\n",
       "    }\n",
       "</style>\n",
       "<table border=\"1\" class=\"dataframe\">\n",
       "  <thead>\n",
       "    <tr style=\"text-align: right;\">\n",
       "      <th></th>\n",
       "      <th>predicted_Class</th>\n",
       "      <th>probability</th>\n",
       "      <th>top_feature_attributions</th>\n",
       "      <th>baseline_prediction_value</th>\n",
       "      <th>prediction_value</th>\n",
       "      <th>approximation_error</th>\n",
       "      <th>Time</th>\n",
       "      <th>V1</th>\n",
       "      <th>V2</th>\n",
       "      <th>V3</th>\n",
       "      <th>...</th>\n",
       "      <th>V23</th>\n",
       "      <th>V24</th>\n",
       "      <th>V25</th>\n",
       "      <th>V26</th>\n",
       "      <th>V27</th>\n",
       "      <th>V28</th>\n",
       "      <th>Amount</th>\n",
       "      <th>Class</th>\n",
       "      <th>transaction_id</th>\n",
       "      <th>splits</th>\n",
       "    </tr>\n",
       "  </thead>\n",
       "  <tbody>\n",
       "    <tr>\n",
       "      <th>0</th>\n",
       "      <td>0</td>\n",
       "      <td>0.797880</td>\n",
       "      <td>[{'feature': 'V12', 'attribution': 1.454715142...</td>\n",
       "      <td>-2.652128</td>\n",
       "      <td>-1.373098</td>\n",
       "      <td>0.0</td>\n",
       "      <td>5043</td>\n",
       "      <td>-0.610353</td>\n",
       "      <td>0.876268</td>\n",
       "      <td>3.134572</td>\n",
       "      <td>...</td>\n",
       "      <td>-0.183132</td>\n",
       "      <td>0.295979</td>\n",
       "      <td>-0.159989</td>\n",
       "      <td>-0.130196</td>\n",
       "      <td>-0.076139</td>\n",
       "      <td>-0.109076</td>\n",
       "      <td>0.0</td>\n",
       "      <td>0</td>\n",
       "      <td>c53a0939-4986-4db8-bf1b-1b8a5d66a495</td>\n",
       "      <td>TEST</td>\n",
       "    </tr>\n",
       "    <tr>\n",
       "      <th>1</th>\n",
       "      <td>0</td>\n",
       "      <td>0.932420</td>\n",
       "      <td>[{'feature': 'V4', 'attribution': 1.1224840793...</td>\n",
       "      <td>-2.652128</td>\n",
       "      <td>-2.624477</td>\n",
       "      <td>0.0</td>\n",
       "      <td>8785</td>\n",
       "      <td>1.153022</td>\n",
       "      <td>0.436133</td>\n",
       "      <td>1.274728</td>\n",
       "      <td>...</td>\n",
       "      <td>0.054247</td>\n",
       "      <td>0.441790</td>\n",
       "      <td>0.144198</td>\n",
       "      <td>0.995412</td>\n",
       "      <td>-0.057928</td>\n",
       "      <td>0.011057</td>\n",
       "      <td>0.0</td>\n",
       "      <td>0</td>\n",
       "      <td>31c6a284-bf4e-4fe1-a6a5-54e814db9049</td>\n",
       "      <td>TEST</td>\n",
       "    </tr>\n",
       "    <tr>\n",
       "      <th>2</th>\n",
       "      <td>0</td>\n",
       "      <td>0.928050</td>\n",
       "      <td>[{'feature': 'V12', 'attribution': -0.30636510...</td>\n",
       "      <td>-2.652128</td>\n",
       "      <td>-2.557109</td>\n",
       "      <td>0.0</td>\n",
       "      <td>47284</td>\n",
       "      <td>1.083086</td>\n",
       "      <td>-0.351338</td>\n",
       "      <td>1.128419</td>\n",
       "      <td>...</td>\n",
       "      <td>0.014244</td>\n",
       "      <td>-0.240059</td>\n",
       "      <td>0.120230</td>\n",
       "      <td>0.618435</td>\n",
       "      <td>0.029500</td>\n",
       "      <td>0.003249</td>\n",
       "      <td>0.0</td>\n",
       "      <td>0</td>\n",
       "      <td>80849f70-e097-4769-ba15-bb77a323de47</td>\n",
       "      <td>TEST</td>\n",
       "    </tr>\n",
       "    <tr>\n",
       "      <th>3</th>\n",
       "      <td>0</td>\n",
       "      <td>0.690959</td>\n",
       "      <td>[{'feature': 'V4', 'attribution': 1.6689737676...</td>\n",
       "      <td>-2.652128</td>\n",
       "      <td>-0.804605</td>\n",
       "      <td>0.0</td>\n",
       "      <td>49582</td>\n",
       "      <td>1.069103</td>\n",
       "      <td>-0.040292</td>\n",
       "      <td>1.437476</td>\n",
       "      <td>...</td>\n",
       "      <td>-0.078798</td>\n",
       "      <td>0.084000</td>\n",
       "      <td>0.487789</td>\n",
       "      <td>0.248265</td>\n",
       "      <td>0.054261</td>\n",
       "      <td>0.019949</td>\n",
       "      <td>0.0</td>\n",
       "      <td>0</td>\n",
       "      <td>3e86637b-a1c9-475d-8a45-75627b3141f0</td>\n",
       "      <td>TEST</td>\n",
       "    </tr>\n",
       "    <tr>\n",
       "      <th>4</th>\n",
       "      <td>0</td>\n",
       "      <td>0.936572</td>\n",
       "      <td>[{'feature': 'V4', 'attribution': 1.6543331103...</td>\n",
       "      <td>-2.652128</td>\n",
       "      <td>-2.692325</td>\n",
       "      <td>0.0</td>\n",
       "      <td>78048</td>\n",
       "      <td>-6.484267</td>\n",
       "      <td>-7.875117</td>\n",
       "      <td>0.680973</td>\n",
       "      <td>...</td>\n",
       "      <td>-0.041943</td>\n",
       "      <td>-0.246966</td>\n",
       "      <td>-0.745300</td>\n",
       "      <td>0.195860</td>\n",
       "      <td>0.166256</td>\n",
       "      <td>-1.216419</td>\n",
       "      <td>0.0</td>\n",
       "      <td>0</td>\n",
       "      <td>8bf45536-66ba-43c0-b1cc-0bf14731dd37</td>\n",
       "      <td>TEST</td>\n",
       "    </tr>\n",
       "  </tbody>\n",
       "</table>\n",
       "<p>5 rows × 39 columns</p>\n",
       "</div>"
      ],
      "text/plain": [
       "   predicted_Class  probability  \\\n",
       "0                0     0.797880   \n",
       "1                0     0.932420   \n",
       "2                0     0.928050   \n",
       "3                0     0.690959   \n",
       "4                0     0.936572   \n",
       "\n",
       "                            top_feature_attributions  \\\n",
       "0  [{'feature': 'V12', 'attribution': 1.454715142...   \n",
       "1  [{'feature': 'V4', 'attribution': 1.1224840793...   \n",
       "2  [{'feature': 'V12', 'attribution': -0.30636510...   \n",
       "3  [{'feature': 'V4', 'attribution': 1.6689737676...   \n",
       "4  [{'feature': 'V4', 'attribution': 1.6543331103...   \n",
       "\n",
       "   baseline_prediction_value  prediction_value  approximation_error   Time  \\\n",
       "0                  -2.652128         -1.373098                  0.0   5043   \n",
       "1                  -2.652128         -2.624477                  0.0   8785   \n",
       "2                  -2.652128         -2.557109                  0.0  47284   \n",
       "3                  -2.652128         -0.804605                  0.0  49582   \n",
       "4                  -2.652128         -2.692325                  0.0  78048   \n",
       "\n",
       "         V1        V2        V3  ...       V23       V24       V25       V26  \\\n",
       "0 -0.610353  0.876268  3.134572  ... -0.183132  0.295979 -0.159989 -0.130196   \n",
       "1  1.153022  0.436133  1.274728  ...  0.054247  0.441790  0.144198  0.995412   \n",
       "2  1.083086 -0.351338  1.128419  ...  0.014244 -0.240059  0.120230  0.618435   \n",
       "3  1.069103 -0.040292  1.437476  ... -0.078798  0.084000  0.487789  0.248265   \n",
       "4 -6.484267 -7.875117  0.680973  ... -0.041943 -0.246966 -0.745300  0.195860   \n",
       "\n",
       "        V27       V28  Amount  Class                        transaction_id  \\\n",
       "0 -0.076139 -0.109076     0.0      0  c53a0939-4986-4db8-bf1b-1b8a5d66a495   \n",
       "1 -0.057928  0.011057     0.0      0  31c6a284-bf4e-4fe1-a6a5-54e814db9049   \n",
       "2  0.029500  0.003249     0.0      0  80849f70-e097-4769-ba15-bb77a323de47   \n",
       "3  0.054261  0.019949     0.0      0  3e86637b-a1c9-475d-8a45-75627b3141f0   \n",
       "4  0.166256 -1.216419     0.0      0  8bf45536-66ba-43c0-b1cc-0bf14731dd37   \n",
       "\n",
       "   splits  \n",
       "0    TEST  \n",
       "1    TEST  \n",
       "2    TEST  \n",
       "3    TEST  \n",
       "4    TEST  \n",
       "\n",
       "[5 rows x 39 columns]"
      ]
     },
     "execution_count": 27,
     "metadata": {},
     "output_type": "execute_result"
    }
   ],
   "source": [
    "explain.head()"
   ]
  },
  {
   "cell_type": "markdown",
   "id": "50496e64-0841-4a63-833e-34ae6102c50a",
   "metadata": {},
   "source": [
    "Create a plot of feature attributions for a single prediction:"
   ]
  },
  {
   "cell_type": "code",
   "execution_count": 28,
   "id": "d9d6f625-5d5b-4017-b7b0-ccb59148ee62",
   "metadata": {},
   "outputs": [],
   "source": [
    "explanation = explain.iloc[0]['top_feature_attributions']"
   ]
  },
  {
   "cell_type": "code",
   "execution_count": 29,
   "id": "3645d9e5-b411-40f2-953a-c45a2c160664",
   "metadata": {},
   "outputs": [
    {
     "data": {
      "image/png": "[encoded data removed]",
      "text/plain": [
       "<Figure size 1500x500 with 1 Axes>"
      ]
     },
     "metadata": {},
     "output_type": "display_data"
    }
   ],
   "source": [
    "features = []\n",
    "scores = []\n",
    "for k in explanation:\n",
    "    features.append(k['feature'])\n",
    "    scores.append(k['attribution'])\n",
    "features = [x for _, x in sorted(zip(scores, features))]\n",
    "scores = sorted(scores)\n",
    "\n",
    "plt.figure(figsize=(15,5))\n",
    "plt.barh(features, scores)\n",
    "plt.title('Feature Attribution for Prediction')\n",
    "plt.show()"
   ]
  },
  {
   "cell_type": "markdown",
   "id": "a1dfafa7-2404-471d-921f-3e239102ea39",
   "metadata": {},
   "source": [
    "### Global Explainability\n",
    "Retrieve the influence of each feature on the model with [ML.GLOBAL_EXPLAIN](https://cloud.google.com/bigquery-ml/docs/reference/standard-sql/bigqueryml-syntax-global-explain).  "
   ]
  },
  {
   "cell_type": "code",
   "execution_count": 30,
   "id": "c8175a73-b86a-403e-8692-66aad5131512",
   "metadata": {},
   "outputs": [],
   "source": [
    "query = f\"\"\"\n",
    "SELECT *\n",
    "FROM ML.GLOBAL_EXPLAIN (MODEL `{BQ_PROJECT}.{BQ_DATASET}.{BQ_MODEL}`)\n",
    "\"\"\"\n",
    "gexplain = bq.query(query = query).to_dataframe()"
   ]
  },
  {
   "cell_type": "code",
   "execution_count": 31,
   "id": "f9cba8b6-2117-4c16-b8e2-c0bd3a3249b1",
   "metadata": {},
   "outputs": [
    {
     "data": {
      "text/html": [
       "<div>\n",
       "<style scoped>\n",
       "    .dataframe tbody tr th:only-of-type {\n",
       "        vertical-align: middle;\n",
       "    }\n",
       "\n",
       "    .dataframe tbody tr th {\n",
       "        vertical-align: top;\n",
       "    }\n",
       "\n",
       "    .dataframe thead th {\n",
       "        text-align: right;\n",
       "    }\n",
       "</style>\n",
       "<table border=\"1\" class=\"dataframe\">\n",
       "  <thead>\n",
       "    <tr style=\"text-align: right;\">\n",
       "      <th></th>\n",
       "      <th>feature</th>\n",
       "      <th>attribution</th>\n",
       "    </tr>\n",
       "  </thead>\n",
       "  <tbody>\n",
       "    <tr>\n",
       "      <th>0</th>\n",
       "      <td>V4</td>\n",
       "      <td>0.629891</td>\n",
       "    </tr>\n",
       "    <tr>\n",
       "      <th>1</th>\n",
       "      <td>V14</td>\n",
       "      <td>0.484722</td>\n",
       "    </tr>\n",
       "    <tr>\n",
       "      <th>2</th>\n",
       "      <td>V12</td>\n",
       "      <td>0.357872</td>\n",
       "    </tr>\n",
       "    <tr>\n",
       "      <th>3</th>\n",
       "      <td>V13</td>\n",
       "      <td>0.243563</td>\n",
       "    </tr>\n",
       "    <tr>\n",
       "      <th>4</th>\n",
       "      <td>V10</td>\n",
       "      <td>0.216432</td>\n",
       "    </tr>\n",
       "  </tbody>\n",
       "</table>\n",
       "</div>"
      ],
      "text/plain": [
       "  feature  attribution\n",
       "0      V4     0.629891\n",
       "1     V14     0.484722\n",
       "2     V12     0.357872\n",
       "3     V13     0.243563\n",
       "4     V10     0.216432"
      ]
     },
     "execution_count": 31,
     "metadata": {},
     "output_type": "execute_result"
    }
   ],
   "source": [
    "gexplain.head()"
   ]
  },
  {
   "cell_type": "code",
   "execution_count": 32,
   "id": "e1529486-9a8d-4587-9ec0-4f5e2d39b3d4",
   "metadata": {},
   "outputs": [
    {
     "data": {
      "image/png": "[encoded data removed]",
      "text/plain": [
       "<Figure size 1500x800 with 1 Axes>"
      ]
     },
     "metadata": {},
     "output_type": "display_data"
    }
   ],
   "source": [
    "plt.figure(figsize=(15,8))\n",
    "plt.barh(gexplain['feature'], gexplain['attribution'])\n",
    "plt.title('Global Influence')\n",
    "plt.xlabel('Attribution')\n",
    "#plt.ylabel('Feature')\n",
    "plt.show()"
   ]
  },
  {
   "cell_type": "markdown",
   "id": "c26329f6-87f9-4ee4-a1c9-24fbdf9b844c",
   "metadata": {},
   "source": [
    "---\n",
    "## Serving With Vertex AI\n",
    "\n",
    "This demonstration shows the process of exporting and registering a BQML model with Vertex AI Model Registry.  To directly integrate BQML with Vertex AI Model Registry it is now (April 1, 2022) possible at model creation time with options `vertex_ai_model_id` and `vertex_ai_model_version_alises`. See the documentation for this direct integration [here](https://cloud.google.com/bigquery-ml/docs/managing-models-vertex)."
   ]
  },
  {
   "cell_type": "markdown",
   "id": "1374d366-c60d-4e74-a767-69dd8c22fee4",
   "metadata": {},
   "source": [
    "### Export the BigQuery Model\n",
    "\n",
    "Reference: [Export the BigQuery Model](https://cloud.google.com/bigquery-ml/docs/exporting-models)"
   ]
  },
  {
   "cell_type": "code",
   "execution_count": 34,
   "id": "b1101869-7067-496c-a913-6da79e536c62",
   "metadata": {},
   "outputs": [
    {
     "data": {
      "text/plain": [
       "<google.cloud.bigquery.table._EmptyRowIterator at 0x7f813aa2eb10>"
      ]
     },
     "execution_count": 34,
     "metadata": {},
     "output_type": "execute_result"
    }
   ],
   "source": [
    "query = f\"\"\"\n",
    "EXPORT MODEL `{BQ_DATASET}.{BQ_MODEL}`\n",
    "    OPTIONS (URI = '{URI}/models/{TIMESTAMP}/model')\n",
    "\"\"\"\n",
    "export = bq.query(query = query)\n",
    "export.result()"
   ]
  },
  {
   "cell_type": "code",
   "execution_count": 35,
   "id": "8f763ae4-565a-452f-921f-d0795c229315",
   "metadata": {},
   "outputs": [
    {
     "data": {
      "text/plain": [
       "22.25"
      ]
     },
     "execution_count": 35,
     "metadata": {},
     "output_type": "execute_result"
    }
   ],
   "source": [
    "(export.ended - export.started).total_seconds()"
   ]
  },
  {
   "cell_type": "code",
   "execution_count": 36,
   "id": "4a6f4d6d-c07a-4083-ae9c-6c1b79227ce9",
   "metadata": {},
   "outputs": [
    {
     "data": {
      "text/plain": [
       "['gs://jonas-ai-experiment/03/03a/models/20221020070549/model/',\n",
       " 'gs://jonas-ai-experiment/03/03a/models/20221020070549/model/saved_model.pb',\n",
       " 'gs://jonas-ai-experiment/03/03a/models/20221020070549/model/variables/']"
      ]
     },
     "execution_count": 36,
     "metadata": {},
     "output_type": "execute_result"
    }
   ],
   "source": [
    "listing = !gsutil ls {URI}/models/{TIMESTAMP}/model\n",
    "listing"
   ]
  },
  {
   "cell_type": "code",
   "execution_count": 37,
   "id": "8c523ecb-b0da-4590-9a60-4da94da1051e",
   "metadata": {},
   "outputs": [
    {
     "name": "stdout",
     "output_type": "stream",
     "text": [
      "View the export in the console:\n",
      "https://console.cloud.google.com/storage/browser/jonas-ai-experiment/03/03a/models/20221020070549/model?project=google.com:cbo-mnl\n"
     ]
    }
   ],
   "source": [
    "print(f\"View the export in the console:\\nhttps://console.cloud.google.com/storage/browser/{URI.split('//')[-1]}/models/{TIMESTAMP}/model?project={PROJECT_ID}\")"
   ]
  },
  {
   "cell_type": "markdown",
   "id": "fdcab0f4-a0d4-480b-a0e7-24491a59d548",
   "metadata": {},
   "source": [
    "### Detect The Model Types Framework"
   ]
  },
  {
   "cell_type": "code",
   "execution_count": 38,
   "id": "8db83a4c-2ea0-486d-aee3-ba39331bbad1",
   "metadata": {},
   "outputs": [
    {
     "name": "stdout",
     "output_type": "stream",
     "text": [
      "framework = TensorFlow\n"
     ]
    }
   ],
   "source": [
    "filetype = {'pb': 'TensorFlow', 'bst': 'XGBoost'}\n",
    "\n",
    "filetypes = [filetype[f.split('.')[-1]] for f in listing if f.split('.')[-1] in ['pb','bst']]\n",
    "if len(filetypes) == 1:\n",
    "    framework = filetypes[0]\n",
    "    print(f'framework = {framework}')\n",
    "else:\n",
    "    raise TypeError(f\"Model Type Undeteremined!! Review the contents of of 'listing = {listing}'.\")"
   ]
  },
  {
   "cell_type": "markdown",
   "id": "5188a380-73ac-4e46-b26a-c5c1bfdae956",
   "metadata": {},
   "source": [
    "Set the `DEPLOY_IMAGE` based on the framework:"
   ]
  },
  {
   "cell_type": "code",
   "execution_count": 39,
   "id": "67e2084f-a7b3-4a00-986f-e37237260141",
   "metadata": {},
   "outputs": [
    {
     "data": {
      "text/plain": [
       "'us-docker.pkg.dev/vertex-ai/prediction/tf2-cpu.2-3:latest'"
      ]
     },
     "execution_count": 39,
     "metadata": {},
     "output_type": "execute_result"
    }
   ],
   "source": [
    "if framework == 'TensorFlow':\n",
    "    DEPLOY_IMAGE = TF_DEPLOY_IMAGE\n",
    "elif framework == 'XGBoost':\n",
    "    DEPLOY_IMAGE = XGB_DEPLOY_IMAGE\n",
    "    \n",
    "DEPLOY_IMAGE"
   ]
  },
  {
   "cell_type": "markdown",
   "id": "2e4c5fa6-715c-47be-a526-b84b1b3ffec8",
   "metadata": {},
   "source": [
    "### Upload The Model To Vertex AI Model Registry\n",
    "\n",
    "References:\n",
    "- [aiplatform.Model](https://cloud.google.com/python/docs/reference/aiplatform/latest/google.cloud.aiplatform.Model)"
   ]
  },
  {
   "cell_type": "code",
   "execution_count": 40,
   "id": "928bda52-faa0-4f9c-86a3-0d5269c66dc3",
   "metadata": {},
   "outputs": [
    {
     "name": "stdout",
     "output_type": "stream",
     "text": [
      "This is a new model, adding to model registry as version 1\n",
      "Creating Model\n",
      "Create Model backing LRO: projects/169853841455/locations/us-central1/models/model_03_03a/operations/687996654934032384\n",
      "Model created. Resource name: projects/169853841455/locations/us-central1/models/5473065417859661824@1\n",
      "To use this Model in another session:\n",
      "model = aiplatform.Model('projects/169853841455/locations/us-central1/models/5473065417859661824@1')\n"
     ]
    }
   ],
   "source": [
    "modelmatch = aiplatform.Model.list(filter = f'display_name={SERIES}_{EXPERIMENT} AND labels.series={SERIES} AND labels.experiment={EXPERIMENT}')\n",
    "\n",
    "upload_model = True\n",
    "if modelmatch:\n",
    "    print(\"Model Already in Registry:\")\n",
    "    if RUN_NAME in modelmatch[0].version_aliases:\n",
    "        print(\"This version already loaded, no action taken.\")\n",
    "        upload_model = False\n",
    "        model = aiplatform.Model(model_name = modelmatch[0].resource_name)\n",
    "    else:\n",
    "        print('Loading model as new default version.')\n",
    "        parent_model =  modelmatch[0].resource_name\n",
    "else:\n",
    "    print('This is a new model, adding to model registry as version 1')\n",
    "    parent_model = ''\n",
    "\n",
    "if upload_model:\n",
    "    model = aiplatform.Model.upload(\n",
    "        display_name = f'{SERIES}_{EXPERIMENT}',\n",
    "        model_id = f'model_{SERIES}_{EXPERIMENT}',\n",
    "        parent_model = parent_model,\n",
    "        serving_container_image_uri = DEPLOY_IMAGE,\n",
    "        artifact_uri = f\"{URI}/models/{TIMESTAMP}/model\",\n",
    "        is_default_version = True,\n",
    "        version_aliases = [RUN_NAME],\n",
    "        version_description = RUN_NAME,\n",
    "        labels = {'series' : f'{SERIES}', 'experiment' : f'{EXPERIMENT}', 'timestamp': f'{TIMESTAMP}', 'run_name' : f'{RUN_NAME}', 'framework' : f'{framework.lower()}'}\n",
    "    )  "
   ]
  },
  {
   "cell_type": "code",
   "execution_count": 41,
   "id": "1cadcc07-e99e-4591-b34f-f714ea373216",
   "metadata": {},
   "outputs": [
    {
     "data": {
      "text/plain": [
       "'03_03a'"
      ]
     },
     "execution_count": 41,
     "metadata": {},
     "output_type": "execute_result"
    }
   ],
   "source": [
    "model.display_name"
   ]
  },
  {
   "cell_type": "code",
   "execution_count": 42,
   "id": "86a44804-0301-452b-bd16-63c0d7041bfb",
   "metadata": {},
   "outputs": [
    {
     "data": {
      "text/plain": [
       "'projects/169853841455/locations/us-central1/models/5473065417859661824'"
      ]
     },
     "execution_count": 42,
     "metadata": {},
     "output_type": "execute_result"
    }
   ],
   "source": [
    "model.resource_name"
   ]
  },
  {
   "cell_type": "code",
   "execution_count": 43,
   "id": "a812d9a9-17ff-4d7f-9707-a3f714d1ebec",
   "metadata": {},
   "outputs": [
    {
     "name": "stdout",
     "output_type": "stream",
     "text": [
      "View the model in the Vertex AI Console:\n",
      "https://console.cloud.google.com/vertex-ai/locations/us-central1/models/model_03_03a?project=google.com:cbo-mnl\n"
     ]
    }
   ],
   "source": [
    "print(f\"View the model in the Vertex AI Console:\\nhttps://console.cloud.google.com/vertex-ai/locations/{REGION}/models/model_{SERIES}_{EXPERIMENT}?project={PROJECT_ID}\")"
   ]
  },
  {
   "cell_type": "markdown",
   "id": "9291d5d9-2a79-41e2-9b01-4cd9e0cd6ea2",
   "metadata": {},
   "source": [
    "---\n",
    "## Online Predictions with Vertex AI Endpoints"
   ]
  },
  {
   "cell_type": "markdown",
   "id": "7a4a6b2c-3273-4004-8622-f92cd3a75638",
   "metadata": {},
   "source": [
    "### Create/Retrieve An Endpoint\n",
    "References:\n",
    "- [aiplatform.Endpoint()](https://cloud.google.com/python/docs/reference/aiplatform/latest/google.cloud.aiplatform.Endpoint)"
   ]
  },
  {
   "cell_type": "code",
   "execution_count": 147,
   "id": "a00bde54-48d0-4937-a39d-96fe9ae97543",
   "metadata": {},
   "outputs": [
    {
     "name": "stdout",
     "output_type": "stream",
     "text": [
      "Endpoint Exists: projects/1026793852137/locations/us-central1/endpoints/7506942026919706624\n",
      "Review the Endpoint in the Console:\n",
      "https://console.cloud.google.com/vertex-ai/locations/us-central1/endpoints/7506942026919706624?project=statmike-mlops-349915\n"
     ]
    }
   ],
   "source": [
    "endpoints = aiplatform.Endpoint.list(filter = f\"labels.series={SERIES}\")\n",
    "if endpoints:\n",
    "    endpoint = endpoints[0]\n",
    "    print(f\"Endpoint Exists: {endpoints[0].resource_name}\")\n",
    "else:\n",
    "    endpoint = aiplatform.Endpoint.create(\n",
    "        display_name = f\"{SERIES}\",\n",
    "        labels = {'series' : f\"{SERIES}\"}    \n",
    "    )\n",
    "    print(f\"Endpoint Created: {endpoint.resource_name}\")\n",
    "\n",
    "print(f'Review the Endpoint in the Console:\\nhttps://console.cloud.google.com/vertex-ai/locations/{REGION}/endpoints/{endpoint.name}?project={PROJECT_ID}')"
   ]
  },
  {
   "cell_type": "code",
   "execution_count": 148,
   "id": "02fe9c29-a537-4e1e-a0b9-e31491043e08",
   "metadata": {},
   "outputs": [
    {
     "data": {
      "text/plain": [
       "'03'"
      ]
     },
     "execution_count": 148,
     "metadata": {},
     "output_type": "execute_result"
    }
   ],
   "source": [
    "endpoint.display_name"
   ]
  },
  {
   "cell_type": "code",
   "execution_count": 149,
   "id": "e2f82332-5d9c-479b-8afe-234622b6ab44",
   "metadata": {},
   "outputs": [
    {
     "data": {
      "text/plain": [
       "{'739210463446827008': 100}"
      ]
     },
     "execution_count": 149,
     "metadata": {},
     "output_type": "execute_result"
    }
   ],
   "source": [
    "endpoint.traffic_split"
   ]
  },
  {
   "cell_type": "code",
   "execution_count": 150,
   "id": "d88e2bbe-aaeb-4d24-be0c-8eb939b3ea3b",
   "metadata": {},
   "outputs": [],
   "source": [
    "deployed_models = endpoint.list_models()\n",
    "#deployed_models"
   ]
  },
  {
   "cell_type": "markdown",
   "id": "8a44746b-dcc3-4883-b19f-55da035f83f7",
   "metadata": {},
   "source": [
    "### Deploy Model To Endpoint"
   ]
  },
  {
   "cell_type": "code",
   "execution_count": 151,
   "id": "62adba0d-e0a7-4f45-ac5a-0c17d042323e",
   "metadata": {},
   "outputs": [
    {
     "name": "stdout",
     "output_type": "stream",
     "text": [
      "The current model/version is already deployed.\n"
     ]
    }
   ],
   "source": [
    "if (model.display_name, model.version_id) not in [(deployed_model.display_name, deployed_model.model_version_id) for deployed_model in endpoint.list_models()]:\n",
    "    print(f'Deploying model with 100% of traffic...')\n",
    "    endpoint.deploy(\n",
    "        model = model,\n",
    "        deployed_model_display_name = model.display_name,\n",
    "        traffic_percentage = 100,\n",
    "        machine_type = DEPLOY_COMPUTE,\n",
    "        min_replica_count = 1,\n",
    "        max_replica_count = 1\n",
    "    )\n",
    "else: \n",
    "    print(f'The current model/version is already deployed.')"
   ]
  },
  {
   "cell_type": "markdown",
   "id": "2127cdf1-a5a2-45bf-a0f0-1995aa0e7128",
   "metadata": {},
   "source": [
    "### Remove Deployed Models without Traffic"
   ]
  },
  {
   "cell_type": "code",
   "execution_count": 152,
   "id": "f347f281-1ce2-4e74-bde2-b8e74c709144",
   "metadata": {},
   "outputs": [
    {
     "name": "stdout",
     "output_type": "stream",
     "text": [
      "Model 03_03a with version 1 has traffic = 100\n"
     ]
    }
   ],
   "source": [
    "for deployed_model in endpoint.list_models():\n",
    "    if deployed_model.id in endpoint.traffic_split:\n",
    "        print(f\"Model {deployed_model.display_name} with version {deployed_model.model_version_id} has traffic = {endpoint.traffic_split[deployed_model.id]}\")\n",
    "    else:\n",
    "        endpoint.undeploy(deployed_model_id = deployed_model.id)\n",
    "        print(f\"Undeploying {deployed_model.display_name} with version {deployed_model.model_version_id} because it has no traffic.\")"
   ]
  },
  {
   "cell_type": "code",
   "execution_count": 153,
   "id": "fd47dd42-fc0c-4a13-ab42-ebe63fcd658e",
   "metadata": {},
   "outputs": [
    {
     "data": {
      "text/plain": [
       "{'739210463446827008': 100}"
      ]
     },
     "execution_count": 153,
     "metadata": {},
     "output_type": "execute_result"
    }
   ],
   "source": [
    "endpoint.traffic_split"
   ]
  },
  {
   "cell_type": "code",
   "execution_count": 154,
   "id": "c4dd99d8-2ecf-41a5-855b-2d5ca0deb5af",
   "metadata": {},
   "outputs": [],
   "source": [
    "#endpoint.list_models()"
   ]
  },
  {
   "cell_type": "markdown",
   "id": "78227561-eb64-4800-8b3e-c679e6b445e0",
   "metadata": {},
   "source": [
    "---\n",
    "## Prediction"
   ]
  },
  {
   "cell_type": "markdown",
   "id": "7fe31c44-a4c6-4988-a24c-ee744438572f",
   "metadata": {},
   "source": [
    "### Retrieve Records For Prediction"
   ]
  },
  {
   "cell_type": "code",
   "execution_count": 155,
   "id": "c30fc1dc-e0d9-498a-adb4-33de987a47ac",
   "metadata": {},
   "outputs": [],
   "source": [
    "n = 10\n",
    "pred = bq.query(query = f\"SELECT * FROM {BQ_PROJECT}.{BQ_DATASET}.{BQ_TABLE} WHERE splits='TEST' LIMIT {n}\").to_dataframe()"
   ]
  },
  {
   "cell_type": "code",
   "execution_count": 156,
   "id": "fa845eb3-7f5d-40fd-999c-ea87bce527b7",
   "metadata": {},
   "outputs": [
    {
     "data": {
      "text/html": [
       "<div>\n",
       "<style scoped>\n",
       "    .dataframe tbody tr th:only-of-type {\n",
       "        vertical-align: middle;\n",
       "    }\n",
       "\n",
       "    .dataframe tbody tr th {\n",
       "        vertical-align: top;\n",
       "    }\n",
       "\n",
       "    .dataframe thead th {\n",
       "        text-align: right;\n",
       "    }\n",
       "</style>\n",
       "<table border=\"1\" class=\"dataframe\">\n",
       "  <thead>\n",
       "    <tr style=\"text-align: right;\">\n",
       "      <th></th>\n",
       "      <th>Time</th>\n",
       "      <th>V1</th>\n",
       "      <th>V2</th>\n",
       "      <th>V3</th>\n",
       "      <th>V4</th>\n",
       "      <th>V5</th>\n",
       "      <th>V6</th>\n",
       "      <th>V7</th>\n",
       "      <th>V8</th>\n",
       "      <th>V9</th>\n",
       "      <th>...</th>\n",
       "      <th>V23</th>\n",
       "      <th>V24</th>\n",
       "      <th>V25</th>\n",
       "      <th>V26</th>\n",
       "      <th>V27</th>\n",
       "      <th>V28</th>\n",
       "      <th>Amount</th>\n",
       "      <th>Class</th>\n",
       "      <th>transaction_id</th>\n",
       "      <th>splits</th>\n",
       "    </tr>\n",
       "  </thead>\n",
       "  <tbody>\n",
       "    <tr>\n",
       "      <th>0</th>\n",
       "      <td>35337</td>\n",
       "      <td>1.092844</td>\n",
       "      <td>-0.013230</td>\n",
       "      <td>1.359829</td>\n",
       "      <td>2.731537</td>\n",
       "      <td>-0.707357</td>\n",
       "      <td>0.873837</td>\n",
       "      <td>-0.796130</td>\n",
       "      <td>0.437707</td>\n",
       "      <td>0.396770</td>\n",
       "      <td>...</td>\n",
       "      <td>-0.167647</td>\n",
       "      <td>0.027557</td>\n",
       "      <td>0.592115</td>\n",
       "      <td>0.219695</td>\n",
       "      <td>0.036970</td>\n",
       "      <td>0.010984</td>\n",
       "      <td>0.0</td>\n",
       "      <td>0</td>\n",
       "      <td>a1b10547-d270-48c0-b902-7a0f735dadc7</td>\n",
       "      <td>TEST</td>\n",
       "    </tr>\n",
       "    <tr>\n",
       "      <th>1</th>\n",
       "      <td>60481</td>\n",
       "      <td>1.238973</td>\n",
       "      <td>0.035226</td>\n",
       "      <td>0.063003</td>\n",
       "      <td>0.641406</td>\n",
       "      <td>-0.260893</td>\n",
       "      <td>-0.580097</td>\n",
       "      <td>0.049938</td>\n",
       "      <td>-0.034733</td>\n",
       "      <td>0.405932</td>\n",
       "      <td>...</td>\n",
       "      <td>-0.057718</td>\n",
       "      <td>0.104983</td>\n",
       "      <td>0.537987</td>\n",
       "      <td>0.589563</td>\n",
       "      <td>-0.046207</td>\n",
       "      <td>-0.006212</td>\n",
       "      <td>0.0</td>\n",
       "      <td>0</td>\n",
       "      <td>814c62c8-ade4-47d5-bf83-313b0aafdee5</td>\n",
       "      <td>TEST</td>\n",
       "    </tr>\n",
       "    <tr>\n",
       "      <th>2</th>\n",
       "      <td>139587</td>\n",
       "      <td>1.870539</td>\n",
       "      <td>0.211079</td>\n",
       "      <td>0.224457</td>\n",
       "      <td>3.889486</td>\n",
       "      <td>-0.380177</td>\n",
       "      <td>0.249799</td>\n",
       "      <td>-0.577133</td>\n",
       "      <td>0.179189</td>\n",
       "      <td>-0.120462</td>\n",
       "      <td>...</td>\n",
       "      <td>0.180776</td>\n",
       "      <td>-0.060226</td>\n",
       "      <td>-0.228979</td>\n",
       "      <td>0.080827</td>\n",
       "      <td>0.009868</td>\n",
       "      <td>-0.036997</td>\n",
       "      <td>0.0</td>\n",
       "      <td>0</td>\n",
       "      <td>d08a1bfa-85c5-4f1b-9537-1c5a93e6afd0</td>\n",
       "      <td>TEST</td>\n",
       "    </tr>\n",
       "    <tr>\n",
       "      <th>3</th>\n",
       "      <td>162908</td>\n",
       "      <td>-3.368339</td>\n",
       "      <td>-1.980442</td>\n",
       "      <td>0.153645</td>\n",
       "      <td>-0.159795</td>\n",
       "      <td>3.847169</td>\n",
       "      <td>-3.516873</td>\n",
       "      <td>-1.209398</td>\n",
       "      <td>-0.292122</td>\n",
       "      <td>0.760543</td>\n",
       "      <td>...</td>\n",
       "      <td>-1.171627</td>\n",
       "      <td>0.214333</td>\n",
       "      <td>-0.159652</td>\n",
       "      <td>-0.060883</td>\n",
       "      <td>1.294977</td>\n",
       "      <td>0.120503</td>\n",
       "      <td>0.0</td>\n",
       "      <td>0</td>\n",
       "      <td>802f3307-8e5a-4475-b795-5d5d8d7d0120</td>\n",
       "      <td>TEST</td>\n",
       "    </tr>\n",
       "    <tr>\n",
       "      <th>4</th>\n",
       "      <td>165236</td>\n",
       "      <td>2.180149</td>\n",
       "      <td>0.218732</td>\n",
       "      <td>-2.637726</td>\n",
       "      <td>0.348776</td>\n",
       "      <td>1.063546</td>\n",
       "      <td>-1.249197</td>\n",
       "      <td>0.942021</td>\n",
       "      <td>-0.547652</td>\n",
       "      <td>-0.087823</td>\n",
       "      <td>...</td>\n",
       "      <td>-0.176957</td>\n",
       "      <td>0.563779</td>\n",
       "      <td>0.730183</td>\n",
       "      <td>0.707494</td>\n",
       "      <td>-0.131066</td>\n",
       "      <td>-0.090428</td>\n",
       "      <td>0.0</td>\n",
       "      <td>0</td>\n",
       "      <td>c8a5b93a-1598-4689-80be-4f9f5df0b8ce</td>\n",
       "      <td>TEST</td>\n",
       "    </tr>\n",
       "  </tbody>\n",
       "</table>\n",
       "<p>5 rows × 33 columns</p>\n",
       "</div>"
      ],
      "text/plain": [
       "     Time        V1        V2        V3        V4        V5        V6  \\\n",
       "0   35337  1.092844 -0.013230  1.359829  2.731537 -0.707357  0.873837   \n",
       "1   60481  1.238973  0.035226  0.063003  0.641406 -0.260893 -0.580097   \n",
       "2  139587  1.870539  0.211079  0.224457  3.889486 -0.380177  0.249799   \n",
       "3  162908 -3.368339 -1.980442  0.153645 -0.159795  3.847169 -3.516873   \n",
       "4  165236  2.180149  0.218732 -2.637726  0.348776  1.063546 -1.249197   \n",
       "\n",
       "         V7        V8        V9  ...       V23       V24       V25       V26  \\\n",
       "0 -0.796130  0.437707  0.396770  ... -0.167647  0.027557  0.592115  0.219695   \n",
       "1  0.049938 -0.034733  0.405932  ... -0.057718  0.104983  0.537987  0.589563   \n",
       "2 -0.577133  0.179189 -0.120462  ...  0.180776 -0.060226 -0.228979  0.080827   \n",
       "3 -1.209398 -0.292122  0.760543  ... -1.171627  0.214333 -0.159652 -0.060883   \n",
       "4  0.942021 -0.547652 -0.087823  ... -0.176957  0.563779  0.730183  0.707494   \n",
       "\n",
       "        V27       V28  Amount  Class                        transaction_id  \\\n",
       "0  0.036970  0.010984     0.0      0  a1b10547-d270-48c0-b902-7a0f735dadc7   \n",
       "1 -0.046207 -0.006212     0.0      0  814c62c8-ade4-47d5-bf83-313b0aafdee5   \n",
       "2  0.009868 -0.036997     0.0      0  d08a1bfa-85c5-4f1b-9537-1c5a93e6afd0   \n",
       "3  1.294977  0.120503     0.0      0  802f3307-8e5a-4475-b795-5d5d8d7d0120   \n",
       "4 -0.131066 -0.090428     0.0      0  c8a5b93a-1598-4689-80be-4f9f5df0b8ce   \n",
       "\n",
       "   splits  \n",
       "0    TEST  \n",
       "1    TEST  \n",
       "2    TEST  \n",
       "3    TEST  \n",
       "4    TEST  \n",
       "\n",
       "[5 rows x 33 columns]"
      ]
     },
     "execution_count": 156,
     "metadata": {},
     "output_type": "execute_result"
    }
   ],
   "source": [
    "pred.head()"
   ]
  },
  {
   "cell_type": "markdown",
   "id": "cffc3ca9-2d74-4dac-a133-544cd5638680",
   "metadata": {},
   "source": [
    "Shape as instances: dictionaries of key:value pairs for only features used in model"
   ]
  },
  {
   "cell_type": "code",
   "execution_count": 157,
   "id": "3e3cb0eb-48d4-4417-9c1f-803c301749a7",
   "metadata": {},
   "outputs": [],
   "source": [
    "newobs = pred[pred.columns[~pred.columns.isin(VAR_OMIT.split()+[VAR_TARGET,'splits'])]].to_dict(orient='records')\n",
    "#newobs[0]"
   ]
  },
  {
   "cell_type": "code",
   "execution_count": 158,
   "id": "dd16916a-ae80-4ff4-8571-ba2bec4998bc",
   "metadata": {},
   "outputs": [
    {
     "data": {
      "text/plain": [
       "10"
      ]
     },
     "execution_count": 158,
     "metadata": {},
     "output_type": "execute_result"
    }
   ],
   "source": [
    "len(newobs)"
   ]
  },
  {
   "cell_type": "code",
   "execution_count": 159,
   "id": "0bc825b1-f42c-46da-b72a-df1a8f5d2f05",
   "metadata": {},
   "outputs": [
    {
     "data": {
      "text/plain": [
       "{'Time': 35337,\n",
       " 'V1': 1.0928441854981998,\n",
       " 'V2': -0.0132303486713432,\n",
       " 'V3': 1.35982868199426,\n",
       " 'V4': 2.7315370965921004,\n",
       " 'V5': -0.707357349219652,\n",
       " 'V6': 0.8738370029866129,\n",
       " 'V7': -0.7961301510622031,\n",
       " 'V8': 0.437706509544851,\n",
       " 'V9': 0.39676985012996396,\n",
       " 'V10': 0.587438102569443,\n",
       " 'V11': -0.14979756231827498,\n",
       " 'V12': 0.29514781622888103,\n",
       " 'V13': -1.30382621882143,\n",
       " 'V14': -0.31782283120234495,\n",
       " 'V15': -2.03673231037199,\n",
       " 'V16': 0.376090905274179,\n",
       " 'V17': -0.30040350116459497,\n",
       " 'V18': 0.433799615590844,\n",
       " 'V19': -0.145082264348681,\n",
       " 'V20': -0.240427548108996,\n",
       " 'V21': 0.0376030733329398,\n",
       " 'V22': 0.38002620963091405,\n",
       " 'V23': -0.16764742731151097,\n",
       " 'V24': 0.0275573495476881,\n",
       " 'V25': 0.59211469704354,\n",
       " 'V26': 0.219695164116351,\n",
       " 'V27': 0.0369695108704894,\n",
       " 'V28': 0.010984441006191,\n",
       " 'Amount': 0.0}"
      ]
     },
     "execution_count": 159,
     "metadata": {},
     "output_type": "execute_result"
    }
   ],
   "source": [
    "newobs[0]"
   ]
  },
  {
   "cell_type": "markdown",
   "id": "6824103e-5ae1-4466-8c8f-b80c7759e68b",
   "metadata": {},
   "source": [
    "### Get The Model Signature Name (if TensorFlow)"
   ]
  },
  {
   "cell_type": "code",
   "execution_count": 160,
   "id": "c57921f8-b93e-4b01-acfd-2a82338f1c0f",
   "metadata": {},
   "outputs": [
    {
     "name": "stdout",
     "output_type": "stream",
     "text": [
      "serving_default\n"
     ]
    }
   ],
   "source": [
    "if model.labels['framework'] == 'tensorflow':\n",
    "    import tensorflow as tf\n",
    "    reloaded_model = tf.saved_model.load(model.uri)\n",
    "    print(list(reloaded_model.signatures.keys())[0])"
   ]
  },
  {
   "cell_type": "markdown",
   "id": "017055ed-5cea-472d-bd2e-cbfdf1e11d72",
   "metadata": {},
   "source": [
    "### Get The Feature Order (if XGBoost)"
   ]
  },
  {
   "cell_type": "code",
   "execution_count": 161,
   "id": "beebe945-9862-4264-9e25-9d52bcfb0c1f",
   "metadata": {},
   "outputs": [],
   "source": [
    "if model.labels['framework'] == 'xgboost':\n",
    "    import gcsfs\n",
    "    import tensorflow as tf\n",
    "    file = f'{model.uri}/assets/model_metadata.json'\n",
    "    if tf.io.gfile.exists(file):\n",
    "        gcs = gcsfs.GCSFileSystem(project = PROJECT_ID)\n",
    "        with gcs.open(file) as fp:\n",
    "            features = json.load(fp)['feature_names']\n",
    "    else:\n",
    "        features = list(newobs[0].keys())"
   ]
  },
  {
   "cell_type": "markdown",
   "id": "6355ac9a-cce9-4876-b23f-43f77830c07d",
   "metadata": {},
   "source": [
    "### Prepare Instance For Prediction\n",
    "\n",
    "Depending on which framework the model is trained with the instance format may be different.  More information can be found [here](https://cloud.google.com/vertex-ai/docs/predictions/online-predictions-custom-models#request-body-details)."
   ]
  },
  {
   "cell_type": "markdown",
   "id": "3fb8ae72-07cd-4a3b-8cac-297a835cb2c0",
   "metadata": {},
   "source": [
    "Instances:"
   ]
  },
  {
   "cell_type": "code",
   "execution_count": 162,
   "id": "b7dae473-7393-442f-8649-74c47842687f",
   "metadata": {},
   "outputs": [],
   "source": [
    "if model.labels['framework'] == 'tensorflow':\n",
    "    instances = {\"instances\": [newob for newob in newobs[0:1]], \"signature_name\": list(reloaded_model.signatures.keys())[0]}\n",
    "elif model.labels['framework'] == 'xgboost':\n",
    "    instances = {\"instances\": [[newob[f] for f in features] for newob in newobs[0:1]]}\n",
    "    \n",
    "http_body = httpbody_pb2.HttpBody(\n",
    "    data = json.dumps(instances).encode(\"utf-8\"),\n",
    "    content_type = \"application/json\"\n",
    ")"
   ]
  },
  {
   "cell_type": "code",
   "execution_count": 163,
   "id": "fabf7e06-6abe-4fe2-8010-813bcbfcc6cf",
   "metadata": {},
   "outputs": [
    {
     "name": "stdout",
     "output_type": "stream",
     "text": [
      "{'instances': [{'Time': 35337, 'V1': 1.0928441854981998, 'V2': -0.0132303486713432, 'V3': 1.35982868199426, 'V4': 2.7315370965921004, 'V5': -0.707357349219652, 'V6': 0.8738370029866129, 'V7': -0.7961301510622031, 'V8': 0.437706509544851, 'V9': 0.39676985012996396, 'V10': 0.587438102569443, 'V11': -0.14979756231827498, 'V12': 0.29514781622888103, 'V13': -1.30382621882143, 'V14': -0.31782283120234495, 'V15': -2.03673231037199, 'V16': 0.376090905274179, 'V17': -0.30040350116459497, 'V18': 0.433799615590844, 'V19': -0.145082264348681, 'V20': -0.240427548108996, 'V21': 0.0376030733329398, 'V22': 0.38002620963091405, 'V23': -0.16764742731151097, 'V24': 0.0275573495476881, 'V25': 0.59211469704354, 'V26': 0.219695164116351, 'V27': 0.0369695108704894, 'V28': 0.010984441006191, 'Amount': 0.0}], 'signature_name': 'serving_default'}\n"
     ]
    }
   ],
   "source": [
    "print(instances)"
   ]
  },
  {
   "cell_type": "markdown",
   "id": "854fea6a-e1ea-4669-b337-ccd090348ff4",
   "metadata": {},
   "source": [
    "### Get Predictions: Python Client\n",
    "\n",
    "Using Raw Prediction here. This is methods of export from BigQuery have different model signatures and raw prediction client for Vertex AI allow the signature to be include in the request.\n",
    "\n",
    "Reference:\n",
    "- [aiplatform.gapic.PredictionSerivceClient.raw_predict()](https://cloud.google.com/python/docs/reference/aiplatform/latest/google.cloud.aiplatform_v1.services.prediction_service.PredictionServiceClient#google_cloud_aiplatform_v1_services_prediction_service_PredictionServiceClient_raw_predict)"
   ]
  },
  {
   "cell_type": "markdown",
   "id": "67d99733-035a-434d-a17e-5fb5b6b36c72",
   "metadata": {},
   "source": [
    "Client:"
   ]
  },
  {
   "cell_type": "code",
   "execution_count": 167,
   "id": "020d6feb-567e-413d-b39e-38d1c39333f7",
   "metadata": {},
   "outputs": [],
   "source": [
    "client_options = {\"api_endpoint\": f\"{REGION}-aiplatform.googleapis.com\"}\n",
    "predictor = aiplatform.gapic.PredictionServiceClient(client_options = client_options)"
   ]
  },
  {
   "cell_type": "markdown",
   "id": "16615938-25d0-4c43-9999-54b117e612af",
   "metadata": {},
   "source": [
    "Prediction:"
   ]
  },
  {
   "cell_type": "code",
   "execution_count": 168,
   "id": "e70c730d-b05b-44c0-814c-53797aa18250",
   "metadata": {},
   "outputs": [
    {
     "data": {
      "text/plain": [
       "content_type: \"application/json\"\n",
       "data: \"{\\n    \\\"predictions\\\": [\\n        {\\n            \\\"predicted_Class\\\": [\\\"0\\\"],\\n            \\\"Class_probs\\\": [0.23520476382469818, 0.76479523617530187],\\n            \\\"Class_values\\\": [\\\"1\\\", \\\"0\\\"]\\n        }\\n    ]\\n}\""
      ]
     },
     "execution_count": 168,
     "metadata": {},
     "output_type": "execute_result"
    }
   ],
   "source": [
    "prediction = predictor.raw_predict(\n",
    "    endpoint = endpoint.resource_name,\n",
    "    http_body = http_body\n",
    ")\n",
    "prediction"
   ]
  },
  {
   "cell_type": "markdown",
   "id": "3b3978c1-a343-467d-8342-649e44211252",
   "metadata": {},
   "source": [
    "Format raw prediction response using JSON:"
   ]
  },
  {
   "cell_type": "code",
   "execution_count": 169,
   "id": "c7a5daeb-7944-47c3-89b0-461412d132d5",
   "metadata": {},
   "outputs": [
    {
     "data": {
      "text/plain": [
       "{'predictions': [{'predicted_Class': ['0'],\n",
       "   'Class_probs': [0.23520476382469818, 0.7647952361753019],\n",
       "   'Class_values': ['1', '0']}]}"
      ]
     },
     "execution_count": 169,
     "metadata": {},
     "output_type": "execute_result"
    }
   ],
   "source": [
    "prediction = json.loads(prediction.data)\n",
    "prediction"
   ]
  },
  {
   "cell_type": "markdown",
   "id": "a7931fd6-8b40-406c-9462-883f2489ab81",
   "metadata": {},
   "source": [
    "### Get Predictions: REST\n",
    "Reference:\n",
    "- [POST https://{REGION}-aiplatform.googleapis.com/v1/{endpoint}:rawPredict](https://cloud.google.com/python/docs/reference/aiplatform/latest/google.cloud.aiplatform_v1.services.prediction_service.PredictionServiceClient#google_cloud_aiplatform_v1_services_prediction_service_PredictionServiceClient_raw_predict)"
   ]
  },
  {
   "cell_type": "markdown",
   "id": "2fac942f-5b93-4032-b6af-3b25b69b6c20",
   "metadata": {},
   "source": [
    "Prepare request:"
   ]
  },
  {
   "cell_type": "code",
   "execution_count": 125,
   "id": "7d125a16-01ca-40b7-a816-1d02845f59e9",
   "metadata": {},
   "outputs": [],
   "source": [
    "with open(f'{DIR}/request.json','w') as file:\n",
    "    file.write(json.dumps(instances))"
   ]
  },
  {
   "cell_type": "markdown",
   "id": "e7d17b0e-b03b-4a6a-8579-9c90a5696a42",
   "metadata": {},
   "source": [
    "Prediction:"
   ]
  },
  {
   "cell_type": "code",
   "execution_count": 126,
   "id": "b05edb4c-a97c-4d7a-b668-5f9598fb6b30",
   "metadata": {},
   "outputs": [
    {
     "data": {
      "text/plain": [
       "['{',\n",
       " '    \"predictions\": [',\n",
       " '        {',\n",
       " '            \"predicted_Class\": [\"0\"],',\n",
       " '            \"Class_probs\": [0.23520476382469818, 0.76479523617530187],',\n",
       " '            \"Class_values\": [\"1\", \"0\"]',\n",
       " '        }',\n",
       " '    ]',\n",
       " '}']"
      ]
     },
     "execution_count": 126,
     "metadata": {},
     "output_type": "execute_result"
    }
   ],
   "source": [
    "prediction = !curl -s POST \\\n",
    "-H \"Authorization: Bearer \"$(gcloud auth application-default print-access-token) \\\n",
    "-H \"Content-Type: application/json; charset=utf-8\" \\\n",
    "-d @{DIR}/request.json \\\n",
    "https://{REGION}-aiplatform.googleapis.com/v1/{endpoint.resource_name}:rawPredict\n",
    "\n",
    "prediction"
   ]
  },
  {
   "cell_type": "markdown",
   "id": "463f9f13-615d-406a-9fe0-5c10313fdc53",
   "metadata": {},
   "source": [
    "Format raw prediction response using JSON:"
   ]
  },
  {
   "cell_type": "code",
   "execution_count": 127,
   "id": "803c5db5-f180-4e41-aa0e-7e0abf5cc2b2",
   "metadata": {},
   "outputs": [
    {
     "data": {
      "text/plain": [
       "{'predictions': [{'predicted_Class': ['0'],\n",
       "   'Class_probs': [0.23520476382469818, 0.7647952361753019],\n",
       "   'Class_values': ['1', '0']}]}"
      ]
     },
     "execution_count": 127,
     "metadata": {},
     "output_type": "execute_result"
    }
   ],
   "source": [
    "prediction = json.loads(''.join([p.strip() for p in prediction]))\n",
    "prediction"
   ]
  },
  {
   "cell_type": "markdown",
   "id": "5f65a64b-a7ae-4382-a97b-e559f74ca790",
   "metadata": {},
   "source": [
    "### Get Predictions: gcloud (CLI)\n",
    "Reference:\n",
    "- [gcloud ai endpoints raw-predict](https://cloud.google.com/sdk/gcloud/reference/ai/endpoints/raw-predict)"
   ]
  },
  {
   "cell_type": "markdown",
   "id": "54716fd6-8185-4a9e-9a90-fc8f2a2c5a39",
   "metadata": {},
   "source": [
    "Prepare request:"
   ]
  },
  {
   "cell_type": "code",
   "execution_count": 128,
   "id": "1b72c8d2-ca52-45eb-b89b-723e21a4fb64",
   "metadata": {},
   "outputs": [],
   "source": [
    "with open(f'{DIR}/request.json','w') as file:\n",
    "    file.write(json.dumps(instances))"
   ]
  },
  {
   "cell_type": "markdown",
   "id": "692f1b38-c7b3-4415-98cb-6204fb9e62ae",
   "metadata": {},
   "source": [
    "Prediction:"
   ]
  },
  {
   "cell_type": "code",
   "execution_count": 170,
   "id": "9d83a53d-a94a-47b0-b93c-2f53b21c0ff1",
   "metadata": {},
   "outputs": [
    {
     "data": {
      "text/plain": [
       "['Using endpoint [https://us-central1-aiplatform.googleapis.com/]',\n",
       " '{',\n",
       " '  \"predictions\": [',\n",
       " '    {',\n",
       " '      \"Class_probs\": [',\n",
       " '        0.23520476382469818,',\n",
       " '        0.7647952361753019',\n",
       " '      ],',\n",
       " '      \"Class_values\": [',\n",
       " '        \"1\",',\n",
       " '        \"0\"',\n",
       " '      ],',\n",
       " '      \"predicted_Class\": [',\n",
       " '        \"0\"',\n",
       " '      ]',\n",
       " '    }',\n",
       " '  ]',\n",
       " '}']"
      ]
     },
     "execution_count": 170,
     "metadata": {},
     "output_type": "execute_result"
    }
   ],
   "source": [
    "prediction = !gcloud ai endpoints raw-predict \\\n",
    "{endpoint.name.rsplit('/',1)[-1]} \\\n",
    "--region={REGION} --format=\"json\" --request=@{DIR}/request.json\n",
    "\n",
    "prediction"
   ]
  },
  {
   "cell_type": "markdown",
   "id": "e9f398a0-393f-4877-b470-bdfcf8c0b922",
   "metadata": {},
   "source": [
    "Format raw prediction response using JSON:"
   ]
  },
  {
   "cell_type": "code",
   "execution_count": 171,
   "id": "24a73026-1846-438b-aa5f-0460d8dcc8ef",
   "metadata": {},
   "outputs": [
    {
     "data": {
      "text/plain": [
       "{'predictions': [{'Class_probs': [0.23520476382469818, 0.7647952361753019],\n",
       "   'Class_values': ['1', '0'],\n",
       "   'predicted_Class': ['0']}]}"
      ]
     },
     "execution_count": 171,
     "metadata": {},
     "output_type": "execute_result"
    }
   ],
   "source": [
    "prediction = json.loads(\"\".join(prediction[1:]))\n",
    "prediction"
   ]
  },
  {
   "cell_type": "markdown",
   "id": "123de839",
   "metadata": {},
   "source": [
    "---\n",
    "## Remove Resources\n",
    "see notebook \"99 - Cleanup\""
   ]
  }
 ],
 "metadata": {
  "environment": {
   "kernel": "python3",
   "name": "tf2-gpu.2-9.m96",
   "type": "gcloud",
   "uri": "gcr.io/deeplearning-platform-release/tf2-gpu.2-9:m96"
  },
  "kernelspec": {
   "display_name": "Python 3",
   "language": "python",
   "name": "python3"
  },
  "language_info": {
   "codemirror_mode": {
    "name": "ipython",
    "version": 3
   },
   "file_extension": ".py",
   "mimetype": "text/x-python",
   "name": "python",
   "nbconvert_exporter": "python",
   "pygments_lexer": "ipython3",
   "version": "3.7.12"
  }
 },
 "nbformat": 4,
 "nbformat_minor": 5
}
