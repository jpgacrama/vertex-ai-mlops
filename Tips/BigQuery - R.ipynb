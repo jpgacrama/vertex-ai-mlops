{
 "cells": [
  {
   "cell_type": "markdown",
   "id": "89781671-7a26-4da1-9987-cbc57b05127a",
   "metadata": {},
   "source": [
    "# R and BigQuery"
   ]
  },
  {
   "cell_type": "code",
   "execution_count": null,
   "id": "df08b71f-1d87-4d69-89a1-d7df9e834d93",
   "metadata": {},
   "outputs": [],
   "source": []
  }
 ],
 "metadata": {
  "environment": {
   "kernel": "python3",
   "name": "tf2-gpu.2-3.m94",
   "type": "gcloud",
   "uri": "gcr.io/deeplearning-platform-release/tf2-gpu.2-3:m94"
  },
  "kernelspec": {
   "display_name": "Python 3",
   "language": "python",
   "name": "python3"
  },
  "language_info": {
   "codemirror_mode": {
    "name": "ipython",
    "version": 3
   },
   "file_extension": ".py",
   "mimetype": "text/x-python",
   "name": "python",
   "nbconvert_exporter": "python",
   "pygments_lexer": "ipython3",
   "version": "3.7.12"
  }
 },
 "nbformat": 4,
 "nbformat_minor": 5
}
